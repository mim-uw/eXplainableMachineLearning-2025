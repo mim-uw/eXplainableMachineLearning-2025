{
 "cells": [
  {
   "cell_type": "markdown",
   "metadata": {},
   "source": [
    "# Task 1\n",
    "\n",
    "We have two populations Blue (privileged) and Red (unprivileged), with the Blue population being 9 times larger than the Red population.\n",
    "\n",
    "Individuals from both populations are requesting to attend XAI training to improve competency in this important area. Number of places is limited. The administrators of the training have decided to give priority to enrolling individuals who may need this training in the future, although unfortunately it is difficult to predict who will benefit.\n",
    "\n",
    "The decision rule adopted:\n",
    "1. In the Red group, half of the people will find the skills useful in future and half will not. Administrators randomly allocate 50% of people to training.\n",
    "2. in the Blue group, 80% of people will find the training useful in future and 20% will not, although of course it is not known who will find it useful. The administrators have built a predictive model based on user behaviour in predicting for whom it will be useful and whom will not. The model has the following performance:\n",
    "\n",
    "\n",
    "| Blue                     \t| Will use XAI \t| Will not use XAI \t| Total \t|\n",
    "|--------------------------\t|--------------\t|------------------\t|-------\t|\n",
    "| Enrolled in training     \t| 60           \t| 5               \t| 65    \t|\n",
    "| not enrolled in training \t| 20            | 15               \t| 35    \t|\n",
    "| Total                    \t| 80           \t| 20               \t| 100   \t|\n",
    "\n",
    "\n",
    "Task: Calculate the Demographic parity, equal opportunity and predictive rate parity coefficients for this decision rule.\n",
    "\n",
    "Starred task: How can this decision rule be changed to improve its fairness?"
   ]
  },
  {
   "cell_type": "markdown",
   "metadata": {},
   "source": [
    "From the task:\n",
    "|Blue                  \t    | Y = 1\t        | Y = 0 \t        | Total \t|\n",
    "|--------------------------\t|--------------\t|------------------\t|-------\t|\n",
    "| Y^ = 1      \t            | 60           \t| 5               \t| 65    \t|\n",
    "| Y^ = 0          \t        | 20            | 15               \t| 35    \t|\n",
    "| Total                    \t| 80           \t| 20               \t| 100   \t|\n",
    "\n",
    "\n",
    "Because P(Y=1) = 50 and P(Y^=1) =50 according to the task, and any person has a 50% chance of getting the training or not.\n",
    "|Red                  \t    | Y = 1\t        | Y = 0 \t        | Total \t|\n",
    "|--------------------------\t|--------------\t|------------------\t|-------\t|\n",
    "| Y^ = 1      \t            | 25      \t    | 25          \t    | 50        |\n",
    "| Y^ = 0          \t        | 25            | 25                | 50    \t|\n",
    "| Total                    \t| 50           \t| 50               \t| 100   \t|"
   ]
  },
  {
   "cell_type": "markdown",
   "metadata": {},
   "source": [
    "## Demographic parity\n",
    "\n",
    "P(Y^ = 1 | group = red) / P(Y^ = 1 | group = blue) = 50/65  = 0.76 (more than four-fifth-rule)"
   ]
  },
  {
   "cell_type": "markdown",
   "metadata": {},
   "source": [
    "## Equal opportunity\n",
    "\n",
    "True Positive Rate TPR = TP/(TP+FN)\n",
    "\n",
    "P(Y^ = 1 | group = red, Y = 1) / P(Y^ = 1 | group = blue, Y = 1) = (25/50)/(60/80) = 0.66 (less than four-fifth-rule)\n",
    "\n",
    "False Positive Rate FPR = FP/(FP+TN)\n",
    "\n",
    "P(Y^ = 1 | group = red, Y = 0) / P(Y^ = 1 | group = blue, Y = 0) = (25/50) / (5/20) =  2 (more than four-fifth-rule)\n"
   ]
  },
  {
   "cell_type": "markdown",
   "metadata": {},
   "source": [
    "## Predictive Rate Parity\n",
    "Positive Predictive Value PPV = TP / (TP + FP):\n",
    "\n",
    "P(Y = 1 | group = red, Y^ = 1) / P(Y = 1 | group = blue, Y^ = 1) = (25/50) / (60/65)  = 0.54 (more than four-fifth-rule)\n",
    "\n",
    "Negative Predictive Value NPV = TN / (TN + FN):\n",
    "\n",
    "P(Y = 0 | group = red, Y^ = 0) / P(Y = 0 | group = blue, Y^ = 0) =  (25/50) / (15/35) = 1.17 (follows four-fifth-rule)"
   ]
  },
  {
   "cell_type": "markdown",
   "metadata": {},
   "source": [
    "## Starred Task\n",
    "\n",
    "|Blue                  \t    | Y = 1\t        | Y = 0 \t        | Total \t|\n",
    "|--------------------------\t|--------------\t|------------------\t|-------\t|\n",
    "| Y^ = 1      \t            | 80-x          | 20-y              | 100-x-y \t|\n",
    "| Y^ = 0          \t        | x             | y               \t| x+y    \t|\n",
    "| Total                    \t| 80           \t| 20               \t| 100   \t|\n",
    "\n",
    "To make demographic parity coefficient follow the four-fifth-rule:\n",
    "1.25 > 50/(100-x-y) > 0.8 -> 60 > x + y > 37.5 \n",
    "\n",
    "To make equal opportunity coeff. follow the four-fifth-rule:\n",
    "1.25 > 0.5 / ((80-x)/80) > 0.8 -> 1.25 > 40/(80-x) > 0.8 \n",
    "\n",
    "To make predictive rate parity coeff. follow the fourth-fifth-rule:\n",
    "PPV:  1.25 > 0.5 / ((80-x)/(100-x-y)) > 0.8\n",
    "\n",
    "This has a solution x =47 y = 1/6\n",
    "\n"
   ]
  },
  {
   "cell_type": "markdown",
   "metadata": {},
   "source": []
  }
 ],
 "metadata": {
  "language_info": {
   "name": "python"
  }
 },
 "nbformat": 4,
 "nbformat_minor": 2
}
