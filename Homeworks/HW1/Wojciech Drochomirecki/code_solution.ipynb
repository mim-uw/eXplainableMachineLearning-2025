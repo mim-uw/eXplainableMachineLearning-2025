{
 "cells": [
  {
   "cell_type": "code",
   "id": "initial_id",
   "metadata": {
    "collapsed": true,
    "ExecuteTime": {
     "end_time": "2024-10-18T20:55:08.040871Z",
     "start_time": "2024-10-18T20:55:07.230987Z"
    }
   },
   "source": [
    "import sklearn\n",
    "import pandas as pd\n",
    "import numpy as np"
   ],
   "outputs": [],
   "execution_count": 1
  },
  {
   "metadata": {
    "ExecuteTime": {
     "end_time": "2024-10-18T20:55:08.135059Z",
     "start_time": "2024-10-18T20:55:08.042474Z"
    }
   },
   "cell_type": "code",
   "source": [
    "from sklearn.model_selection import train_test_split\n",
    "from sklearn.ensemble import RandomForestClassifier\n",
    "from sklearn.linear_model import LogisticRegression\n",
    "from xgboost import XGBClassifier\n",
    "from sklearn.metrics import accuracy_score, classification_report"
   ],
   "id": "7e0952c445d58c33",
   "outputs": [],
   "execution_count": 2
  },
  {
   "metadata": {},
   "cell_type": "markdown",
   "source": "# Data loading",
   "id": "6d04e230c2e1a95"
  },
  {
   "metadata": {
    "ExecuteTime": {
     "end_time": "2024-10-18T20:55:08.197412Z",
     "start_time": "2024-10-18T20:55:08.136475Z"
    }
   },
   "cell_type": "code",
   "source": "data_raw = pd.read_csv('compas/raw/compas-scores-two-years.csv')",
   "id": "42093d44d4586474",
   "outputs": [],
   "execution_count": 3
  },
  {
   "metadata": {
    "ExecuteTime": {
     "end_time": "2024-10-18T20:55:08.202094Z",
     "start_time": "2024-10-18T20:55:08.198567Z"
    }
   },
   "cell_type": "code",
   "source": [
    "columns_for_training = [\"sex\", \"race\", \"juv_fel_count\", \"juv_misd_count\", \"juv_other_count\", \"priors_count\", \"c_charge_degree\", \"decile_score\", \"age_cat\"]\n",
    "\n",
    "responder = data_raw[\"is_recid\"]\n",
    "data = data_raw[columns_for_training]"
   ],
   "id": "2b8d96ac23caa88b",
   "outputs": [],
   "execution_count": 4
  },
  {
   "metadata": {
    "ExecuteTime": {
     "end_time": "2024-10-18T20:55:08.211475Z",
     "start_time": "2024-10-18T20:55:08.203904Z"
    }
   },
   "cell_type": "code",
   "source": "data.isna().sum()",
   "id": "b27c77cbb24689d9",
   "outputs": [
    {
     "data": {
      "text/plain": [
       "sex                0\n",
       "race               0\n",
       "juv_fel_count      0\n",
       "juv_misd_count     0\n",
       "juv_other_count    0\n",
       "priors_count       0\n",
       "c_charge_degree    0\n",
       "decile_score       0\n",
       "age_cat            0\n",
       "dtype: int64"
      ]
     },
     "execution_count": 5,
     "metadata": {},
     "output_type": "execute_result"
    }
   ],
   "execution_count": 5
  },
  {
   "metadata": {
    "ExecuteTime": {
     "end_time": "2024-10-18T20:55:08.219622Z",
     "start_time": "2024-10-18T20:55:08.212592Z"
    }
   },
   "cell_type": "code",
   "source": [
    "numerical_columns = ['juv_fel_count', 'juv_misd_count', 'juv_other_count', 'priors_count', 'decile_score', 'age_cat']\n",
    "categorical_columns = [\"sex\", \"race\", \"c_charge_degree\"]\n",
    "categorical_one_hot = pd.get_dummies(data[categorical_columns])\n",
    "numerical = data[numerical_columns]\n",
    "X = pd.concat([numerical, categorical_one_hot], axis=1)"
   ],
   "id": "665ad209ed15ab46",
   "outputs": [],
   "execution_count": 6
  },
  {
   "metadata": {
    "ExecuteTime": {
     "end_time": "2024-10-18T20:55:08.225967Z",
     "start_time": "2024-10-18T20:55:08.220704Z"
    }
   },
   "cell_type": "code",
   "source": [
    "X_train_extended, X_test_extended, y_train, y_test = train_test_split(X, responder, test_size=0.2, random_state=42)\n",
    "X_train = X_train_extended.drop(columns=[\"age_cat\"])\n",
    "X_test = X_test_extended.drop(columns=[\"age_cat\"])"
   ],
   "id": "9bb11134dc7bbafd",
   "outputs": [],
   "execution_count": 7
  },
  {
   "metadata": {},
   "cell_type": "markdown",
   "source": "# Fairness metrics calculation methods",
   "id": "b01c04dab70ff7ba"
  },
  {
   "metadata": {
    "ExecuteTime": {
     "end_time": "2024-10-18T20:55:08.229810Z",
     "start_time": "2024-10-18T20:55:08.226944Z"
    }
   },
   "cell_type": "code",
   "source": [
    "def get_statistical_parity(y_true, y_pred, sensitive_features):\n",
    "    positive_rate_protected = y_pred[sensitive_features == 1].mean()\n",
    "    positive_rate_privileged = y_pred[sensitive_features == 0].mean()\n",
    "    return positive_rate_privileged / positive_rate_protected"
   ],
   "id": "669f86c1c4cb1d30",
   "outputs": [],
   "execution_count": 8
  },
  {
   "metadata": {
    "ExecuteTime": {
     "end_time": "2024-10-18T20:55:08.234260Z",
     "start_time": "2024-10-18T20:55:08.230901Z"
    }
   },
   "cell_type": "code",
   "source": [
    "def get_equal_opportunity(y_true, y_pred, sensitive_features):\n",
    "    def get_tpr(_y_true, _y_pred):\n",
    "        return np.sum((_y_true == 1) & (_y_pred == 1)) / np.sum(_y_true == 1)\n",
    "    \n",
    "    protected_pred, protected_true = y_pred[sensitive_features == 1], y_true[sensitive_features == 1]\n",
    "    privileged_pred, privileged_true = y_pred[sensitive_features == 0], y_true[sensitive_features == 0]\n",
    "    return get_tpr(privileged_true, privileged_pred) / get_tpr(protected_true, protected_pred) "
   ],
   "id": "52d16733ae5ade41",
   "outputs": [],
   "execution_count": 9
  },
  {
   "metadata": {
    "ExecuteTime": {
     "end_time": "2024-10-18T20:55:08.238295Z",
     "start_time": "2024-10-18T20:55:08.235245Z"
    }
   },
   "cell_type": "code",
   "source": [
    "def get_predictive_rate_parity(y_true, y_pred, sensitive_features):\n",
    "    protected_pos_parity = y_true[(sensitive_features == 1) & (y_pred == 1)].mean()\n",
    "    protected_neg_parity = y_true[(sensitive_features == 1) & (y_pred == 0)].mean()\n",
    "    privileged_pos_parity = y_true[(sensitive_features == 0) & (y_pred == 1)].mean()\n",
    "    privileged_neg_parity = y_true[(sensitive_features == 0) & (y_pred == 0)].mean()\n",
    "    return privileged_pos_parity / protected_pos_parity, privileged_neg_parity / protected_neg_parity"
   ],
   "id": "ae08e23e526bcef4",
   "outputs": [],
   "execution_count": 10
  },
  {
   "metadata": {},
   "cell_type": "markdown",
   "source": "# Random forest",
   "id": "dcf3a7a5bfccc7b"
  },
  {
   "metadata": {
    "ExecuteTime": {
     "end_time": "2024-10-18T20:55:08.578840Z",
     "start_time": "2024-10-18T20:55:08.239311Z"
    }
   },
   "cell_type": "code",
   "source": [
    "rf_model = RandomForestClassifier(n_estimators=100, random_state=42)\n",
    "rf_model.fit(X_train, y_train)\n",
    "\n",
    "rf_pred = rf_model.predict(X_test)\n",
    "print(\"Random Forest Accuracy:\", accuracy_score(y_test, rf_pred))\n",
    "print(\"Random Forest Classification Report:\\n\", classification_report(y_test, rf_pred))"
   ],
   "id": "fa375734809510fa",
   "outputs": [
    {
     "name": "stdout",
     "output_type": "stream",
     "text": [
      "Random Forest Accuracy: 0.6257796257796258\n",
      "Random Forest Classification Report:\n",
      "               precision    recall  f1-score   support\n",
      "\n",
      "           0       0.66      0.66      0.66       789\n",
      "           1       0.59      0.58      0.59       654\n",
      "\n",
      "    accuracy                           0.63      1443\n",
      "   macro avg       0.62      0.62      0.62      1443\n",
      "weighted avg       0.63      0.63      0.63      1443\n",
      "\n"
     ]
    }
   ],
   "execution_count": 11
  },
  {
   "metadata": {},
   "cell_type": "markdown",
   "source": "# XGBoost",
   "id": "c8ae781f2c2f00fe"
  },
  {
   "metadata": {
    "ExecuteTime": {
     "end_time": "2024-10-18T20:55:08.684854Z",
     "start_time": "2024-10-18T20:55:08.580039Z"
    }
   },
   "cell_type": "code",
   "source": [
    "xgb_model = XGBClassifier(n_estimators=100, use_label_encoder=False, eval_metric='logloss')\n",
    "xgb_model.fit(X_train, y_train)\n",
    "\n",
    "xgb_pred = xgb_model.predict(X_test)\n",
    "print(\"XGBoost Accuracy:\", accuracy_score(y_test, xgb_pred))\n",
    "print(\"XGBoost Classification Report:\\n\", classification_report(y_test, xgb_pred))"
   ],
   "id": "4867b57bca4e0bf2",
   "outputs": [
    {
     "name": "stdout",
     "output_type": "stream",
     "text": [
      "XGBoost Accuracy: 0.6541926541926542\n",
      "XGBoost Classification Report:\n",
      "               precision    recall  f1-score   support\n",
      "\n",
      "           0       0.68      0.69      0.68       789\n",
      "           1       0.62      0.61      0.62       654\n",
      "\n",
      "    accuracy                           0.65      1443\n",
      "   macro avg       0.65      0.65      0.65      1443\n",
      "weighted avg       0.65      0.65      0.65      1443\n",
      "\n"
     ]
    }
   ],
   "execution_count": 12
  },
  {
   "metadata": {},
   "cell_type": "markdown",
   "source": "# Logistic Regression",
   "id": "491ac8c734e3f2d"
  },
  {
   "metadata": {
    "ExecuteTime": {
     "end_time": "2024-10-18T20:55:08.827162Z",
     "start_time": "2024-10-18T20:55:08.686132Z"
    }
   },
   "cell_type": "code",
   "source": [
    "lr_model = LogisticRegression(random_state=42, max_iter=1000)\n",
    "lr_model.fit(X_train, y_train)\n",
    "\n",
    "lr_pred = lr_model.predict(X_test)\n",
    "print(\"Logistic Regression Accuracy:\", accuracy_score(y_test, lr_pred))\n",
    "print(\"Logistic Regression Classification Report:\\n\", classification_report(y_test, lr_pred))"
   ],
   "id": "4cf35264835f3288",
   "outputs": [
    {
     "name": "stdout",
     "output_type": "stream",
     "text": [
      "Logistic Regression Accuracy: 0.6666666666666666\n",
      "Logistic Regression Classification Report:\n",
      "               precision    recall  f1-score   support\n",
      "\n",
      "           0       0.69      0.72      0.70       789\n",
      "           1       0.64      0.60      0.62       654\n",
      "\n",
      "    accuracy                           0.67      1443\n",
      "   macro avg       0.66      0.66      0.66      1443\n",
      "weighted avg       0.67      0.67      0.67      1443\n",
      "\n"
     ]
    }
   ],
   "execution_count": 13
  },
  {
   "metadata": {},
   "cell_type": "markdown",
   "source": "# Fairness evaluation",
   "id": "36cf00a5b30c96db"
  },
  {
   "metadata": {
    "ExecuteTime": {
     "end_time": "2024-10-18T20:55:08.838521Z",
     "start_time": "2024-10-18T20:55:08.832238Z"
    }
   },
   "cell_type": "code",
   "source": "X_test_extended[\"age_cat\"].unique()",
   "id": "c53acb09cd7456d6",
   "outputs": [
    {
     "data": {
      "text/plain": [
       "array(['Greater than 45', '25 - 45', 'Less than 25'], dtype=object)"
      ]
     },
     "execution_count": 14,
     "metadata": {},
     "output_type": "execute_result"
    }
   ],
   "execution_count": 14
  },
  {
   "metadata": {
    "ExecuteTime": {
     "end_time": "2024-10-18T20:55:08.883552Z",
     "start_time": "2024-10-18T20:55:08.844193Z"
    }
   },
   "cell_type": "code",
   "source": [
    "protected = 'Greater than 45'\n",
    "sensitive_features = X_test_extended[\"age_cat\"] == protected\n",
    "\n",
    "def evaluate_model(prediction, true_val, sensitive_feature):\n",
    "    pos, neg = get_predictive_rate_parity(true_val, prediction, sensitive_feature)\n",
    "    print(\"Statistical Parity:\", get_statistical_parity(true_val, prediction, sensitive_feature) * 100)\n",
    "    print(\"Equal Opportunity:\", get_equal_opportunity(true_val, prediction, sensitive_feature) * 100)\n",
    "    print(f\"Predictive Rate Parity: positive {pos*100}, negative {neg*100}\")\n",
    "    \n",
    "print(\"Random Forest:\")\n",
    "evaluate_model(rf_pred, y_test, sensitive_features)\n",
    "print(\"XGBoost:\")\n",
    "evaluate_model(xgb_pred, y_test, sensitive_features)\n",
    "print(\"Logistic Regression:\")\n",
    "evaluate_model(lr_pred, y_test, sensitive_features)"
   ],
   "id": "62a8b0286c75ef91",
   "outputs": [
    {
     "name": "stdout",
     "output_type": "stream",
     "text": [
      "Random Forest:\n",
      "Statistical Parity: 178.0154486036839\n",
      "Equal Opportunity: 138.6609780111585\n",
      "Predictive Rate Parity: positive 123.45779220779221, negative 158.5409252669039\n",
      "XGBoost:\n",
      "Statistical Parity: 177.69756387403447\n",
      "Equal Opportunity: 130.03757459662563\n",
      "Predictive Rate Parity: positive 115.9870030301924, negative 161.70724062271447\n",
      "Logistic Regression:\n",
      "Statistical Parity: 184.5669753488979\n",
      "Equal Opportunity: 129.36221419975936\n",
      "Predictive Rate Parity: positive 111.09010712035288, negative 162.76430146581916\n"
     ]
    }
   ],
   "execution_count": 15
  },
  {
   "metadata": {
    "ExecuteTime": {
     "end_time": "2024-10-18T20:55:08.897697Z",
     "start_time": "2024-10-18T20:55:08.886463Z"
    }
   },
   "cell_type": "code",
   "source": "y_train[X_train_extended[\"age_cat\"] == protected].mean(), y_train[X_train_extended[\"age_cat\"] != protected].mean()",
   "id": "105e6639fbfa272b",
   "outputs": [
    {
     "data": {
      "text/plain": [
       "(0.349003984063745, 0.5267936226749336)"
      ]
     },
     "execution_count": 16,
     "metadata": {},
     "output_type": "execute_result"
    }
   ],
   "execution_count": 16
  },
  {
   "metadata": {
    "ExecuteTime": {
     "end_time": "2024-10-18T20:55:08.918666Z",
     "start_time": "2024-10-18T20:55:08.901582Z"
    }
   },
   "cell_type": "code",
   "source": [
    "desired_ratio = y_train[X_train_extended[\"age_cat\"] != protected].mean()\n",
    "current_ratio = y_train[X_train_extended[\"age_cat\"] == protected].mean()\n",
    "true_positives_protected =  y_train[(X_train_extended[\"age_cat\"] == protected) & (y_train == 1)]\n",
    "to_upsample = int(((desired_ratio/current_ratio) - 1) / (1 - desired_ratio) * len(true_positives_protected))\n",
    "aditional_samples = X_train_extended[(X_train_extended[\"age_cat\"] == protected) & (y_train == 1)].sample(n=to_upsample, replace=True)\n",
    "augmented_X_train_extended = pd.concat([X_train_extended, aditional_samples]).reset_index(drop=True)\n",
    "augmented_X_train = augmented_X_train_extended.drop(columns=[\"age_cat\"])\n",
    "augmented_y_train = pd.concat([y_train, pd.Series([1] * to_upsample)]).reset_index(drop=True)"
   ],
   "id": "b540de88c4a321ae",
   "outputs": [],
   "execution_count": 17
  },
  {
   "metadata": {
    "ExecuteTime": {
     "end_time": "2024-10-18T20:55:08.925012Z",
     "start_time": "2024-10-18T20:55:08.919893Z"
    }
   },
   "cell_type": "code",
   "source": "augmented_y_train[augmented_X_train_extended[\"age_cat\"] == protected].mean(), augmented_y_train[augmented_X_train_extended[\"age_cat\"] != protected].mean()",
   "id": "bf20df5b327e8493",
   "outputs": [
    {
     "data": {
      "text/plain": [
       "(0.5266512166859791, 0.5267936226749336)"
      ]
     },
     "execution_count": 18,
     "metadata": {},
     "output_type": "execute_result"
    }
   ],
   "execution_count": 18
  },
  {
   "metadata": {
    "ExecuteTime": {
     "end_time": "2024-10-18T20:55:09.276038Z",
     "start_time": "2024-10-18T20:55:08.926362Z"
    }
   },
   "cell_type": "code",
   "source": [
    "# Initialize and train the Random Forest classifier# Initialize and train the Random Forest classifier\n",
    "rf_model = RandomForestClassifier(n_estimators=100, random_state=42)\n",
    "rf_model.fit(augmented_X_train, augmented_y_train)\n",
    "\n",
    "# Predict and evaluate\n",
    "rf_pred_fair = rf_model.predict(X_test)\n",
    "print(\"Random Forest Accuracy:\", accuracy_score(y_test, rf_pred_fair))\n",
    "print(\"Random Forest Classification Report:\\n\", classification_report(y_test, rf_pred_fair))\n"
   ],
   "id": "c40b93744d0ca7d1",
   "outputs": [
    {
     "name": "stdout",
     "output_type": "stream",
     "text": [
      "Random Forest Accuracy: 0.6174636174636174\n",
      "Random Forest Classification Report:\n",
      "               precision    recall  f1-score   support\n",
      "\n",
      "           0       0.66      0.62      0.64       789\n",
      "           1       0.57      0.61      0.59       654\n",
      "\n",
      "    accuracy                           0.62      1443\n",
      "   macro avg       0.62      0.62      0.62      1443\n",
      "weighted avg       0.62      0.62      0.62      1443\n",
      "\n"
     ]
    }
   ],
   "execution_count": 19
  },
  {
   "metadata": {
    "ExecuteTime": {
     "end_time": "2024-10-18T20:55:09.284239Z",
     "start_time": "2024-10-18T20:55:09.277972Z"
    }
   },
   "cell_type": "code",
   "source": [
    "print(\"Random Forest:\")\n",
    "evaluate_model(rf_pred_fair, y_test, sensitive_features)"
   ],
   "id": "100abc82cde636c2",
   "outputs": [
    {
     "name": "stdout",
     "output_type": "stream",
     "text": [
      "Random Forest:\n",
      "Statistical Parity: 156.95187165775403\n",
      "Equal Opportunity: 131.61853188929\n",
      "Predictive Rate Parity: positive 132.9145371947757, negative 156.92307692307693\n"
     ]
    }
   ],
   "execution_count": 20
  },
  {
   "metadata": {
    "ExecuteTime": {
     "end_time": "2024-10-18T20:55:09.495760Z",
     "start_time": "2024-10-18T20:55:09.285331Z"
    }
   },
   "cell_type": "code",
   "source": [
    "lr_model = LogisticRegression(random_state=42, max_iter=1000)\n",
    "lr_model.fit(augmented_X_train, augmented_y_train)\n",
    "\n",
    "lr_pred_fair = lr_model.predict(X_test)\n",
    "print(\"Logistic Regression Accuracy:\", accuracy_score(y_test, lr_pred_fair))\n",
    "print(\"Logistic Regression Classification Report:\\n\", classification_report(y_test, lr_pred_fair))"
   ],
   "id": "cf8c3b7094294c2a",
   "outputs": [
    {
     "name": "stdout",
     "output_type": "stream",
     "text": [
      "Logistic Regression Accuracy: 0.665973665973666\n",
      "Logistic Regression Classification Report:\n",
      "               precision    recall  f1-score   support\n",
      "\n",
      "           0       0.70      0.67      0.69       789\n",
      "           1       0.62      0.66      0.64       654\n",
      "\n",
      "    accuracy                           0.67      1443\n",
      "   macro avg       0.66      0.67      0.66      1443\n",
      "weighted avg       0.67      0.67      0.67      1443\n",
      "\n"
     ]
    }
   ],
   "execution_count": 21
  },
  {
   "metadata": {
    "ExecuteTime": {
     "end_time": "2024-10-18T20:55:09.508222Z",
     "start_time": "2024-10-18T20:55:09.498386Z"
    }
   },
   "cell_type": "code",
   "source": [
    "print(\"Logistic regression:\")\n",
    "evaluate_model(lr_pred_fair, y_test, sensitive_features)"
   ],
   "id": "d692aaaf63af4dd4",
   "outputs": [
    {
     "name": "stdout",
     "output_type": "stream",
     "text": [
      "Logistic regression:\n",
      "Statistical Parity: 157.62284330541823\n",
      "Equal Opportunity: 120.87416193914386\n",
      "Predictive Rate Parity: positive 121.5447651663405, negative 162.57603920243326\n"
     ]
    }
   ],
   "execution_count": 22
  },
  {
   "metadata": {
    "ExecuteTime": {
     "end_time": "2024-10-18T20:55:09.680188Z",
     "start_time": "2024-10-18T20:55:09.510995Z"
    }
   },
   "cell_type": "code",
   "source": [
    "xgb_model = XGBClassifier(n_estimators=100, use_label_encoder=False, eval_metric='logloss')\n",
    "xgb_model.fit(augmented_X_train, augmented_y_train)\n",
    "\n",
    "xgb_pred_fair = xgb_model.predict(X_test)\n",
    "print(\"XGBoost Accuracy:\", accuracy_score(y_test, xgb_pred_fair))\n",
    "print(\"XGBoost Classification Report:\\n\", classification_report(y_test, xgb_pred_fair))"
   ],
   "id": "bec7d9415c76a251",
   "outputs": [
    {
     "name": "stdout",
     "output_type": "stream",
     "text": [
      "XGBoost Accuracy: 0.647955647955648\n",
      "XGBoost Classification Report:\n",
      "               precision    recall  f1-score   support\n",
      "\n",
      "           0       0.68      0.67      0.67       789\n",
      "           1       0.61      0.63      0.62       654\n",
      "\n",
      "    accuracy                           0.65      1443\n",
      "   macro avg       0.65      0.65      0.65      1443\n",
      "weighted avg       0.65      0.65      0.65      1443\n",
      "\n"
     ]
    }
   ],
   "execution_count": 23
  },
  {
   "metadata": {
    "ExecuteTime": {
     "end_time": "2024-10-18T20:55:09.686806Z",
     "start_time": "2024-10-18T20:55:09.681682Z"
    }
   },
   "cell_type": "code",
   "source": [
    "print(\"XGBoost:\")\n",
    "evaluate_model(xgb_pred_fair, y_test, sensitive_features)"
   ],
   "id": "3a1454c933daf11d",
   "outputs": [
    {
     "name": "stdout",
     "output_type": "stream",
     "text": [
      "Logistic regression:\n",
      "Statistical Parity: 159.877319911922\n",
      "Equal Opportunity: 135.75511432009628\n",
      "Predictive Rate Parity: positive 134.58333333333331, negative 147.25125418060202\n"
     ]
    }
   ],
   "execution_count": 24
  }
 ],
 "metadata": {
  "kernelspec": {
   "display_name": "Python 3",
   "language": "python",
   "name": "python3"
  },
  "language_info": {
   "codemirror_mode": {
    "name": "ipython",
    "version": 2
   },
   "file_extension": ".py",
   "mimetype": "text/x-python",
   "name": "python",
   "nbconvert_exporter": "python",
   "pygments_lexer": "ipython2",
   "version": "2.7.6"
  }
 },
 "nbformat": 4,
 "nbformat_minor": 5
}
