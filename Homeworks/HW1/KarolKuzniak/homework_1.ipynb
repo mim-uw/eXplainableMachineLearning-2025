{
 "cells": [
  {
   "cell_type": "markdown",
   "metadata": {},
   "source": [
    "# Task 1"
   ]
  },
  {
   "cell_type": "markdown",
   "metadata": {},
   "source": [
    "Let $A \\in \\{Blue, Red \\}$ be a binary variable that stands for protected group (color of the group). \n",
    "$A = Blue$ denotes the membership to privileged group (Blue), and $A = Red$ denotes the membership to unprivileged group (Red).\n",
    "\n",
    "Let $\\hat{Y} \\in \\{0, 1\\}$ be also binary variable denoting the outcome of the decision rule. \n",
    "If individual was enrolled in future training by decision rule, then $\\hat{Y} = 1$, otherwise $\\hat{Y} = 0$.\n",
    "Also, let $Y \\in \\{0, 1\\}$ be a true class, where also $1$ denotes the preferrable outcome (being enrolled in training). "
   ]
  },
  {
   "cell_type": "markdown",
   "metadata": {
    "vscode": {
     "languageId": "plaintext"
    }
   },
   "source": [
    "## Demographic Parity"
   ]
  },
  {
   "cell_type": "markdown",
   "metadata": {},
   "source": [
    "Demographic parity means that predicted class is not dependent on protected attribute (color of the group).\n",
    "Let's calculate the following ratio to check that:\n",
    "$$\n",
    "    \\frac{P(\\hat{Y} = 1|A = Red)}{P(\\hat{Y} = 1|A = Blue)} = \\frac{0.5}{0.65} \\approx 0.77\n",
    "$$\n",
    "This means that predicted class is dependent on protected attribute. \\\n",
    "Also, it does not satisfy fourth-five rule, because the ratio is not in $[0.8, 1.25]$ range."
   ]
  },
  {
   "cell_type": "markdown",
   "metadata": {},
   "source": [
    "## Equal Opportunity"
   ]
  },
  {
   "cell_type": "markdown",
   "metadata": {},
   "source": [
    "Equal opportunity means that TPR (True Positive Rate) is independent from protected attribute. \\\n",
    "It tells us if people who will use XAI in future, have equal chance of being enrolled in both groups.\n",
    "Let's calculate TPR ratio for both groups:\n",
    "$$\n",
    "\\frac{P(\\hat{Y} = 1 | A = Red, Y = 1)}{P(\\hat{Y} = 1 | A = Blue, Y = 1)} = \\frac{0.5}{\\frac{60}{80}} = \\frac{0.5}{0.75} \\approx 0.67\n",
    "$$\n",
    "This means that there is difference of opportunity to be enrolled into course among both groups."
   ]
  },
  {
   "cell_type": "markdown",
   "metadata": {},
   "source": [
    "## Predictive Rate Parity"
   ]
  },
  {
   "cell_type": "markdown",
   "metadata": {},
   "source": [
    "Predictive Rate Parity tells us if the fraction of people who will use XAI in future among people who were enrolled in the course is the same across the both groups. \\\n",
    "Let's calculate the following ratio of PPV (Positive Predictive Value or Precision) for both groups:\n",
    "$$\n",
    "\\frac{P(Y = 1| \\hat{Y} = 1, A = Red)}{P(Y = 1| \\hat{Y} = 1, A = Blue)} = \\frac{0.5}{\\frac{60}{65}} \\approx 0.54\n",
    "$$\n",
    "This indicates significant difference between two groups. "
   ]
  },
  {
   "cell_type": "markdown",
   "metadata": {},
   "source": [
    "## *How to increase fairness?"
   ]
  },
  {
   "cell_type": "markdown",
   "metadata": {},
   "source": [
    "The decision rule is unfair according to metrics. \\\n",
    "In my opinion, creating a model also for unpriviliged group seems reasonable, rather than choosing random 50% people of individuals from unprivileged group. \\\n",
    "Another way is to increase number of people from unpriviliged group to attend the course. \n",
    "\n",
    "\n",
    "\n"
   ]
  },
  {
   "cell_type": "markdown",
   "metadata": {},
   "source": [
    "# Alternative Task"
   ]
  },
  {
   "cell_type": "markdown",
   "metadata": {},
   "source": [
    "Let's proof that except for trivial situations no two of the three fairness equalities (demographic parity, equal opportunity, predictive rate parity) can occur simultaneously. \\\n",
    "Let $A \\in \\{a,b\\}$ stand for protect group membership (protected attribute). Let $A = a$ denote the membership to unprivileged group, and $A = b$ to priviliged group (binary value for simplicity). \\\n",
    "Let $Y \\in \\{0, 1\\}$ stand for true label, where $1$ denotes favorable, prefferable outcome. \\\n",
    "Let $\\hat{Y} \\in \\{0, 1\\}$ stand for model prediction, where $1$ denotes favorable, prefferable outcome.\n"
   ]
  },
  {
   "cell_type": "markdown",
   "metadata": {},
   "source": [
    "Let's recall fairness equalities:\n",
    "- Demographic parity:\n",
    "$$\n",
    "P(\\hat{Y} = 1 | A = a) = P(\\hat{Y} = 1 | A = b)\n",
    "$$\n",
    "- Equal Opportunity:\n",
    "$$\n",
    "P(\\hat{Y} = 1 | A = a, Y = 1) = P(\\hat{Y} = 1 | A = b, Y = 1)\n",
    "$$\n",
    "- Predictive Rate Parity:\n",
    "$$\n",
    "P(Y = 1 | A = a, \\hat{Y} = 1) = P(Y = 1 | A = b, \\hat{Y} = 1)\n",
    "$$"
   ]
  },
  {
   "cell_type": "markdown",
   "metadata": {},
   "source": [
    "\n",
    "However:\n",
    "$$\n",
    "P(\\hat{Y} = 1 | A = a) = P(\\hat{Y} = 1 | Y=1, A = a) P(Y = 1 | A = a) + P(\\hat{Y} = 1 | Y=0, A = a) P(Y = 0 |  A = a)\n",
    "$$\n",
    "\n",
    "$$\n",
    "P(\\hat{Y} = 1 | A = a) = P(\\hat{Y} = 1 | Y=1, A = b) P(Y = 1 | A = b) + P(\\hat{Y} = 1 | Y=0, A = b) P(Y = 0 |  A = b)\n",
    "$$\n",
    "Also, using Bayes Theorem:\n",
    "$$\n",
    "P(Y = 1 | A = a, \\hat{Y} = 1) = \\frac{P(\\hat{Y} = 1 | A = a, Y = 1)P(Y = 1 | A = a)}{{P(\\hat{Y} = 1 | A = a)}}\n",
    "$$\n",
    "$$\n",
    "P(Y = 1 | A = b, \\hat{Y} = 1) = \\frac{P(\\hat{Y} = 1 | A = b, Y = 1)P(Y = 1 | A = b)}{{P(\\hat{Y} = 1 | A = b)}}\n",
    "$$\n"
   ]
  },
  {
   "cell_type": "markdown",
   "metadata": {},
   "source": [
    "If Demographic Parity and Predictive Rate Parity holds, then from Predictive Rate Parity:\n",
    "$$\n",
    "P(Y = 1 | A = a, \\hat{Y} = 1) = P(Y = 1 | A = b, \\hat{Y} = 1)\n",
    "$$\n",
    "$$\n",
    "\\frac{P(\\hat{Y} = 1 | A = a, Y = 1)P(Y = 1 | A = a)}{{P(\\hat{Y} = 1 | A = a)}} = \\frac{P(\\hat{Y} = 1 | A = b, Y = 1)P(Y = 1 | A = b)}{{P(\\hat{Y} = 1 | A = b)}}\n",
    "$$\n",
    "From Demographic Parity:\n",
    "$$\n",
    "P(\\hat{Y} = 1 | A = a, Y = 1)P(Y = 1 | A = a) = P(\\hat{Y} = 1 | A = b, Y = 1)P(Y = 1 | A = b)\n",
    "$$\n",
    "If groups are non-trivial then also Equal Opportunity does not hold. Otherwise it holds."
   ]
  },
  {
   "cell_type": "markdown",
   "metadata": {},
   "source": [
    "If Demographic Parity and Equal Oppurtunity holds, then from Equal Opprtunity:\n",
    "$$\n",
    "P(\\hat{Y} = 1 | A = a, Y = 1) = P(\\hat{Y} = 1 | A = b, Y = 1)\n",
    "$$\n",
    "From Bayes Thoerem:\n",
    "$$\n",
    "\\frac{P(Y = 1 | A = a, \\hat{Y} = 1)  P(\\hat{Y} = 1 | A = a)}{P(Y = 1 | A = a)} = \\frac{P(Y = 1 | A = b, \\hat{Y} = 1) P(\\hat{Y} = 1 | A = b)}{P(Y = 1 | A = b)}\n",
    "$$\n",
    "From Demographic Parity:\n",
    "$$\n",
    "\\frac{P(Y = 1 | A = a, \\hat{Y} = 1) }{P(Y = 1 | A = a)} = \\frac{P(Y = 1 | A = b, \\hat{Y} = 1)}{P(Y = 1 | A = b)}\n",
    "$$\n",
    "$$\n",
    "P(Y = 1 | A = a, \\hat{Y} = 1) P(Y = 1 | A = b) = P(Y = 1 | A = b, \\hat{Y} = 1)P(Y = 1 | A = a)\n",
    "$$\n",
    "If groups are non-trivial then also Predictive Rate Parity does not hold. Otherwise it holds."
   ]
  },
  {
   "cell_type": "markdown",
   "metadata": {},
   "source": [
    "If PRedictive Rate Parity and Equal Oppurtunity holds, then from Predictive RAte Parity:\n",
    "$$\n",
    "\\frac{P(\\hat{Y} = 1 | A = a, Y = 1)P(Y = 1 | A = a)}{{P(\\hat{Y} = 1 | A = a)}} = \\frac{P(\\hat{Y} = 1 | A = b, Y = 1)P(Y = 1 | A = b)}{{P(\\hat{Y} = 1 | A = b)}} \n",
    "$$\n",
    "Then from Equal Opprtunity:\n",
    "$$\n",
    "\\frac{P(Y = 1 | A = a)}{{P(\\hat{Y} = 1 | A = a)}} = \\frac{P(Y = 1 | A = b)}{{P(\\hat{Y} = 1 | A = b)}} \n",
    "$$\n",
    "So, if groups are non-trivial then also Demographic Parity does not hold. Otherwise it holds."
   ]
  },
  {
   "cell_type": "markdown",
   "metadata": {},
   "source": [
    "Which means that in non-trivial case, no two of three fairness conditions can hold simulteanously."
   ]
  }
 ],
 "metadata": {
  "kernelspec": {
   "display_name": ".venv",
   "language": "python",
   "name": "python3"
  },
  "language_info": {
   "codemirror_mode": {
    "name": "ipython",
    "version": 3
   },
   "file_extension": ".py",
   "mimetype": "text/x-python",
   "name": "python",
   "nbconvert_exporter": "python",
   "pygments_lexer": "ipython3",
   "version": "3.9.2"
  }
 },
 "nbformat": 4,
 "nbformat_minor": 2
}
