{
  "nbformat": 4,
  "nbformat_minor": 0,
  "metadata": {
    "colab": {
      "provenance": []
    },
    "kernelspec": {
      "name": "python3",
      "display_name": "Python 3"
    },
    "language_info": {
      "name": "python"
    }
  },
  "cells": [
    {
      "cell_type": "code",
      "execution_count": 116,
      "metadata": {
        "colab": {
          "base_uri": "https://localhost:8080/"
        },
        "id": "ynKhreP7XFa0",
        "outputId": "f86b5008-f31a-4b24-d70c-8d8dd528027b"
      },
      "outputs": [
        {
          "output_type": "stream",
          "name": "stdout",
          "text": [
            "Requirement already satisfied: scikit-learn in /usr/local/lib/python3.10/dist-packages (1.5.2)\n",
            "Requirement already satisfied: numpy>=1.19.5 in /usr/local/lib/python3.10/dist-packages (from scikit-learn) (1.26.4)\n",
            "Requirement already satisfied: scipy>=1.6.0 in /usr/local/lib/python3.10/dist-packages (from scikit-learn) (1.13.1)\n",
            "Requirement already satisfied: joblib>=1.2.0 in /usr/local/lib/python3.10/dist-packages (from scikit-learn) (1.4.2)\n",
            "Requirement already satisfied: threadpoolctl>=3.1.0 in /usr/local/lib/python3.10/dist-packages (from scikit-learn) (3.5.0)\n",
            "Requirement already satisfied: imbalanced-learn in /usr/local/lib/python3.10/dist-packages (0.12.4)\n",
            "Requirement already satisfied: numpy>=1.17.3 in /usr/local/lib/python3.10/dist-packages (from imbalanced-learn) (1.26.4)\n",
            "Requirement already satisfied: scipy>=1.5.0 in /usr/local/lib/python3.10/dist-packages (from imbalanced-learn) (1.13.1)\n",
            "Requirement already satisfied: scikit-learn>=1.0.2 in /usr/local/lib/python3.10/dist-packages (from imbalanced-learn) (1.5.2)\n",
            "Requirement already satisfied: joblib>=1.1.1 in /usr/local/lib/python3.10/dist-packages (from imbalanced-learn) (1.4.2)\n",
            "Requirement already satisfied: threadpoolctl>=2.0.0 in /usr/local/lib/python3.10/dist-packages (from imbalanced-learn) (3.5.0)\n"
          ]
        }
      ],
      "source": [
        "import numpy as np\n",
        "import torch\n",
        "import random\n",
        "import os\n",
        "from collections import OrderedDict\n",
        "from sklearn.preprocessing import OneHotEncoder as Encoder\n",
        "import numpy as np\n",
        "import random\n",
        "import copy\n",
        "import json\n",
        "import pandas as pd\n",
        "!pip install scikit-learn\n",
        "from sklearn.model_selection import train_test_split\n",
        "from sklearn.linear_model import LogisticRegression\n",
        "from sklearn.ensemble import RandomForestClassifier\n",
        "from sklearn.metrics import accuracy_score, classification_report\n",
        "!pip install imbalanced-learn\n",
        "from sklearn.model_selection import GridSearchCV\n",
        "from tabulate import tabulate\n"
      ]
    },
    {
      "cell_type": "markdown",
      "source": [
        "# Task 1: Calculate the Demographic parity, equal opportunity and predictive rate parity coefficients for this decision rule."
      ],
      "metadata": {
        "id": "V1YDlqnSmm9f"
      }
    },
    {
      "cell_type": "markdown",
      "source": [
        "We have two populations Blue (privileged) and Red (unprivileged), with the Blue population being 9 times larger than the Red population.\n",
        "\n",
        "Individuals from both populations are requesting to attend XAI training to improve competency in this important area. Number of places is limited. The administrators of the training have decided to give priority to enrolling individuals who may need this training in the future, although unfortunately it is difficult to predict who will benefit.\n",
        "\n",
        "The decision rule adopted:\n",
        "\n",
        "In the Red group, half of the people will find the skills useful in future and half will not. Administrators randomly allocate 50% of people to training.\n",
        "in the Blue group, 80% of people will find the training useful in future and 20% will not, although of course it is not known who will find it useful. The administrators have built a predictive model based on user behaviour in predicting for whom it will be useful and whom will not."
      ],
      "metadata": {
        "id": "e0Lb__nkmVAr"
      }
    },
    {
      "cell_type": "code",
      "source": [
        "table_data_blue= [\n",
        "    [\"Enrolled in training\", 60, 5, 65],\n",
        "    [\"Not enrolled in training\", 20, 15, 35],\n",
        "    [\"Total\", 80, 20, 100]\n",
        "]\n",
        "print(\"Blue\")\n",
        "headers = [\"\", \"Will use XAI\", \"Will not use XAI\", \"Total\"]\n",
        "print(tabulate(table_data_blue, headers=headers, tablefmt=\"fancy_grid\"))"
      ],
      "metadata": {
        "colab": {
          "base_uri": "https://localhost:8080/"
        },
        "id": "gY5PQIzpMJj1",
        "outputId": "538c2e2f-f306-4f8e-c59c-2febb808a896"
      },
      "execution_count": 125,
      "outputs": [
        {
          "output_type": "stream",
          "name": "stdout",
          "text": [
            "Blue\n",
            "╒══════════════════════════╤════════════════╤════════════════════╤═════════╕\n",
            "│                          │   Will use XAI │   Will not use XAI │   Total │\n",
            "╞══════════════════════════╪════════════════╪════════════════════╪═════════╡\n",
            "│ Enrolled in training     │             60 │                  5 │      65 │\n",
            "├──────────────────────────┼────────────────┼────────────────────┼─────────┤\n",
            "│ Not enrolled in training │             20 │                 15 │      35 │\n",
            "├──────────────────────────┼────────────────┼────────────────────┼─────────┤\n",
            "│ Total                    │             80 │                 20 │     100 │\n",
            "╘══════════════════════════╧════════════════╧════════════════════╧═════════╛\n"
          ]
        }
      ]
    },
    {
      "cell_type": "code",
      "source": [
        "table_data_red = [\n",
        "    [\"Enrolled in training\", 100/36, 100/36, 100/18],\n",
        "    [\"Not enrolled in training\", 100/36, 100/36, 100/18],\n",
        "    [\"Total\", 100/18, 100/18, 100/9]\n",
        "]\n",
        "print(\"Red\")\n",
        "headers = [\"\", \"Will use XAI\", \"Will not use XAI\", \"Total\"]\n",
        "print(tabulate(table_data_red, headers=headers, tablefmt=\"fancy_grid\"))"
      ],
      "metadata": {
        "colab": {
          "base_uri": "https://localhost:8080/"
        },
        "id": "lkrEPz9oMk_b",
        "outputId": "bb1f175b-30cc-4c14-bfb6-39e91be65a32"
      },
      "execution_count": 126,
      "outputs": [
        {
          "output_type": "stream",
          "name": "stdout",
          "text": [
            "Red\n",
            "╒══════════════════════════╤════════════════╤════════════════════╤══════════╕\n",
            "│                          │   Will use XAI │   Will not use XAI │    Total │\n",
            "╞══════════════════════════╪════════════════╪════════════════════╪══════════╡\n",
            "│ Enrolled in training     │        2.77778 │            2.77778 │  5.55556 │\n",
            "├──────────────────────────┼────────────────┼────────────────────┼──────────┤\n",
            "│ Not enrolled in training │        2.77778 │            2.77778 │  5.55556 │\n",
            "├──────────────────────────┼────────────────┼────────────────────┼──────────┤\n",
            "│ Total                    │        5.55556 │            5.55556 │ 11.1111  │\n",
            "╘══════════════════════════╧════════════════╧════════════════════╧══════════╛\n"
          ]
        }
      ]
    },
    {
      "cell_type": "markdown",
      "source": [
        "Statistical parity coeeficient = (1/2)/(65/100)\n",
        "\n",
        "\n",
        "Equal opportunity coefficient = (1/2)/(60/80)\n",
        "\n",
        "\n",
        "Predicitve equality coefficient =(1/2)/(5/20)"
      ],
      "metadata": {
        "id": "jP5qUIcymht8"
      }
    },
    {
      "cell_type": "code",
      "source": [
        "Statistical_parity_coeeficient = (1/2)/(65/100)\n",
        "Equal_opportunity_coefficient = (1/2)/(60/80)\n",
        "Predicitve_equality_coefficient =(1/2)/(5/20)\n",
        "\n",
        "print(f'Statistical parity coeeficient: {Statistical_parity_coeeficient}')\n",
        "print(f'Equal opportunity coefficient: {Equal_opportunity_coefficient}')\n",
        "print(f'Predicitve equality coefficient: {Predicitve_equality_coefficient}')"
      ],
      "metadata": {
        "colab": {
          "base_uri": "https://localhost:8080/"
        },
        "id": "06EfWn_JV21L",
        "outputId": "44d7ee10-6f3d-4445-afb8-f1511d17cfed"
      },
      "execution_count": 124,
      "outputs": [
        {
          "output_type": "stream",
          "name": "stdout",
          "text": [
            "Statistical parity coeeficient: 0.7692307692307692\n",
            "Equal opportunity coefficient: 0.6666666666666666\n",
            "Predicitve equality coefficient: 2.0\n"
          ]
        }
      ]
    },
    {
      "cell_type": "markdown",
      "source": [
        "# Task 2: train few models on a selected dataset from https://github.com/ahxt/fair_fairness_benchmark/:"
      ],
      "metadata": {
        "id": "iBFZML2ImpMY"
      }
    },
    {
      "cell_type": "code",
      "source": [
        "from google.colab import drive\n",
        "drive.mount('/content/drive')"
      ],
      "metadata": {
        "colab": {
          "base_uri": "https://localhost:8080/"
        },
        "id": "OMst6AlKYXca",
        "outputId": "95570075-8723-4dce-9eb1-133d7f8dcef7"
      },
      "execution_count": 2,
      "outputs": [
        {
          "output_type": "stream",
          "name": "stdout",
          "text": [
            "Mounted at /content/drive\n"
          ]
        }
      ]
    },
    {
      "cell_type": "code",
      "source": [
        "credit_risk_path = '/content/drive/My Drive/xai_german_data/raw/german_credit_risk.csv'\n",
        "credit_risk = pd.read_csv(credit_risk_path,index_col=0)\n",
        "print(credit_risk.columns)"
      ],
      "metadata": {
        "colab": {
          "base_uri": "https://localhost:8080/"
        },
        "id": "wslsKGyqYe-x",
        "outputId": "25c573a6-2fa5-404d-d873-b0677d354a3e"
      },
      "execution_count": 95,
      "outputs": [
        {
          "output_type": "stream",
          "name": "stdout",
          "text": [
            "Index(['Age', 'Sex', 'Job', 'Housing', 'Saving accounts', 'Checking account',\n",
            "       'Credit amount', 'Duration', 'Purpose', 'Class'],\n",
            "      dtype='object')\n"
          ]
        }
      ]
    },
    {
      "cell_type": "code",
      "source": [
        "print(credit_risk['Saving accounts'].unique())\n",
        "print(credit_risk['Checking account'].unique())\n",
        "print(credit_risk['Housing'].unique())\n",
        "print(credit_risk['Purpose'].unique())\n",
        "credit_risk_c=credit_risk.copy()"
      ],
      "metadata": {
        "colab": {
          "base_uri": "https://localhost:8080/"
        },
        "id": "4smloOKge5mI",
        "outputId": "1a833d90-3da4-4f86-8208-6067a20e6aeb"
      },
      "execution_count": 96,
      "outputs": [
        {
          "output_type": "stream",
          "name": "stdout",
          "text": [
            "[nan 'little' 'quite rich' 'rich' 'moderate']\n",
            "['little' 'moderate' nan 'rich']\n",
            "['own' 'free' 'rent']\n",
            "['radio/TV' 'education' 'furniture/equipment' 'car' 'business'\n",
            " 'domestic appliances' 'repairs' 'vacation/others']\n"
          ]
        }
      ]
    },
    {
      "cell_type": "code",
      "source": [
        "# Mapping the values in 'Saving accounts' column\n",
        "credit_risk_c['Saving accounts'] = credit_risk_c['Saving accounts'].replace({\n",
        "    'little': 1,\n",
        "    'quite rich': 3,\n",
        "    'rich': 4,\n",
        "    'moderate': 2,\n",
        "    pd.NA: 0\n",
        "})\n",
        "\n",
        "credit_risk_c['Checking account']=credit_risk_c['Checking account'].replace({\n",
        "    'little': 1,\n",
        "    'moderate': 2,\n",
        "    'rich': 3,\n",
        "    pd.NA: 0\n",
        "})\n",
        "\n",
        "credit_risk_c['Saving accounts']=credit_risk_c['Saving accounts'].replace(np.nan,0)\n",
        "credit_risk_c['Checking account']=credit_risk_c['Checking account'].replace(np.nan,0)\n",
        "\n",
        "print(credit_risk_c['Saving accounts'].unique())\n",
        "print(credit_risk_c['Checking account'].unique())\n",
        "\n",
        "### One hot encode Sex, Housing, Purpose\n",
        "credit_risk_c=pd.get_dummies(credit_risk_c,columns=['Sex','Housing','Purpose'])\n",
        "credit_risk_c2=credit_risk_c.copy()\n",
        "credit_risk_c3=credit_risk_c.copy()\n"
      ],
      "metadata": {
        "colab": {
          "base_uri": "https://localhost:8080/"
        },
        "id": "6jPRv7lQfzSy",
        "outputId": "436fa176-0692-429f-edf7-4c765eee760b"
      },
      "execution_count": 97,
      "outputs": [
        {
          "output_type": "stream",
          "name": "stdout",
          "text": [
            "[0. 1. 3. 4. 2.]\n",
            "[1. 2. 0. 3.]\n"
          ]
        },
        {
          "output_type": "stream",
          "name": "stderr",
          "text": [
            "<ipython-input-97-65670824c2b9>:2: FutureWarning: Downcasting behavior in `replace` is deprecated and will be removed in a future version. To retain the old behavior, explicitly call `result.infer_objects(copy=False)`. To opt-in to the future behavior, set `pd.set_option('future.no_silent_downcasting', True)`\n",
            "  credit_risk_c['Saving accounts'] = credit_risk_c['Saving accounts'].replace({\n",
            "<ipython-input-97-65670824c2b9>:10: FutureWarning: Downcasting behavior in `replace` is deprecated and will be removed in a future version. To retain the old behavior, explicitly call `result.infer_objects(copy=False)`. To opt-in to the future behavior, set `pd.set_option('future.no_silent_downcasting', True)`\n",
            "  credit_risk_c['Checking account']=credit_risk_c['Checking account'].replace({\n"
          ]
        }
      ]
    },
    {
      "cell_type": "code",
      "source": [
        "# X (features) and Y (target)\n",
        "X = credit_risk_c[['Age', 'Job', 'Saving accounts', 'Checking account',\n",
        "                 'Credit amount', 'Duration', 'Sex_female', 'Sex_male',\n",
        "                 'Housing_free', 'Housing_own', 'Housing_rent',\n",
        "                 'Purpose_business', 'Purpose_car', 'Purpose_domestic appliances',\n",
        "                 'Purpose_education', 'Purpose_furniture/equipment',\n",
        "                 'Purpose_radio/TV', 'Purpose_repairs', 'Purpose_vacation/others']]\n",
        "\n",
        "Y = credit_risk_c['Class']"
      ],
      "metadata": {
        "id": "TvPQT0ZmiNsH"
      },
      "execution_count": 98,
      "outputs": []
    },
    {
      "cell_type": "code",
      "source": [
        "# training (80%) and testing (20%) sets\n",
        "X_train, X_test, Y_train, Y_test = train_test_split(X, Y, test_size=0.2, random_state=42)\n",
        "\n",
        "print(f\"Training data shape: {X_train.shape}\")\n",
        "print(f\"Testing data shape: {X_test.shape}\")\n"
      ],
      "metadata": {
        "colab": {
          "base_uri": "https://localhost:8080/"
        },
        "id": "J48b2k8ujRj_",
        "outputId": "5695f3f5-6c78-489b-b330-50bec6546dfd"
      },
      "execution_count": 99,
      "outputs": [
        {
          "output_type": "stream",
          "name": "stdout",
          "text": [
            "Training data shape: (800, 19)\n",
            "Testing data shape: (200, 19)\n"
          ]
        }
      ]
    },
    {
      "cell_type": "markdown",
      "source": [
        "# 1. Train a model for the selected dataset: Random Forest Classifier"
      ],
      "metadata": {
        "id": "_CyYBTTccUfZ"
      }
    },
    {
      "cell_type": "code",
      "source": [
        "param_grid = {\n",
        "    'n_estimators': [100, 500, 1000],\n",
        "    'max_depth': [None, 10, 30],\n",
        "    'min_samples_split': [5, 10],\n",
        "    'min_samples_leaf': [1, 2, 4]\n",
        "}\n",
        "\n",
        "rf_model = RandomForestClassifier(random_state=42)\n",
        "grid_search = GridSearchCV(estimator=rf_model, param_grid=param_grid,\n",
        "                           cv=5, n_jobs=-1, verbose=1, scoring='accuracy')\n",
        "\n",
        "grid_search.fit(X_train, Y_train)\n",
        "\n",
        "print(\"Best Parameters:\", grid_search.best_params_)\n",
        "print(\"Best Cross-Validation Accuracy:\", grid_search.best_score_)\n",
        "\n",
        "best_rf_model = grid_search.best_estimator_\n",
        "Y_pred_best_rf = best_rf_model.predict(X_test)\n",
        "print(\"Test Set Accuracy:\", accuracy_score(Y_test, Y_pred_best_rf))\n",
        "print(\"\\nClassification Report:\\n\", classification_report(Y_test, Y_pred_best_rf))\n"
      ],
      "metadata": {
        "colab": {
          "base_uri": "https://localhost:8080/"
        },
        "id": "5Pg9-EztkuOc",
        "outputId": "f9880cc6-e1c4-4321-f69c-ba6eb229957c"
      },
      "execution_count": 101,
      "outputs": [
        {
          "output_type": "stream",
          "name": "stdout",
          "text": [
            "Fitting 5 folds for each of 54 candidates, totalling 270 fits\n",
            "Best Parameters: {'max_depth': 10, 'min_samples_leaf': 1, 'min_samples_split': 5, 'n_estimators': 500}\n",
            "Best Cross-Validation Accuracy: 0.75\n",
            "Test Set Accuracy: 0.745\n",
            "\n",
            "Classification Report:\n",
            "               precision    recall  f1-score   support\n",
            "\n",
            "           1       0.77      0.91      0.83       141\n",
            "           2       0.62      0.34      0.44        59\n",
            "\n",
            "    accuracy                           0.74       200\n",
            "   macro avg       0.70      0.63      0.64       200\n",
            "weighted avg       0.73      0.74      0.72       200\n",
            "\n"
          ]
        }
      ]
    },
    {
      "cell_type": "markdown",
      "source": [
        "We choose the best RF classifier"
      ],
      "metadata": {
        "id": "13OnbWb83ieL"
      }
    },
    {
      "cell_type": "code",
      "source": [
        "# Random Forest Classifier model 'max_depth': 10, 'min_samples_leaf': 1, 'min_samples_split': 5, 'n_estimators': 500\n",
        "rf_model=RandomForestClassifier(n_estimators=500, max_depth=10, min_samples_leaf=1,min_samples_split=5, random_state=42)\n",
        "\n",
        "rf_model.fit(X_train, Y_train)\n",
        "Y_pred_rf = rf_model.predict(X_test)\n",
        "\n",
        "print(\"Random Forest Model Evaluation:\")\n",
        "print(\"Accuracy:\", accuracy_score(Y_test, Y_pred_rf))\n",
        "print(\"\\nClassification Report:\\n\", classification_report(Y_test, Y_pred_rf))\n",
        "\n",
        "acc_first_rf=accuracy_score(Y_test, Y_pred_rf)"
      ],
      "metadata": {
        "colab": {
          "base_uri": "https://localhost:8080/"
        },
        "id": "_hw2DgQGj8MX",
        "outputId": "92ba87bc-facb-4195-975c-d5d7b6c3068f"
      },
      "execution_count": 102,
      "outputs": [
        {
          "output_type": "stream",
          "name": "stdout",
          "text": [
            "Random Forest Model Evaluation:\n",
            "Accuracy: 0.745\n",
            "\n",
            "Classification Report:\n",
            "               precision    recall  f1-score   support\n",
            "\n",
            "           1       0.77      0.91      0.83       141\n",
            "           2       0.62      0.34      0.44        59\n",
            "\n",
            "    accuracy                           0.74       200\n",
            "   macro avg       0.70      0.63      0.64       200\n",
            "weighted avg       0.73      0.74      0.72       200\n",
            "\n"
          ]
        }
      ]
    },
    {
      "cell_type": "markdown",
      "source": [
        " # 2. For the selected protected attribute (gender) calculate the following fairness coefficients: Statistical parity, Equal opportunity, Predictive parity."
      ],
      "metadata": {
        "id": "4s4J2b5FcwSv"
      }
    },
    {
      "cell_type": "code",
      "source": [
        "credit_risk_c['Prediction']=rf_model.predict(X)\n",
        "parity_df=credit_risk_c[['Sex_female','Sex_male','Class','Prediction']]\n",
        "parity_df.head()\n",
        "\n",
        "females_count=len(parity_df[parity_df['Sex_female']==1])\n",
        "males_count=len(parity_df[parity_df['Sex_male']==1])\n",
        "\n",
        "females_predict2=len(parity_df[(parity_df['Sex_female']==1) & (parity_df['Prediction']==2)])\n",
        "males_predict2=len(parity_df[(parity_df['Sex_male']==1) & (parity_df['Prediction']==2)])\n",
        "\n",
        "females_class2=len(parity_df[(parity_df['Sex_female']==1) & (parity_df['Class']==2)])\n",
        "males_class2=len(parity_df[(parity_df['Sex_male']==1) & (parity_df['Class']==2)])\n",
        "\n",
        "females_class1=len(parity_df[(parity_df['Sex_female']==1) & (parity_df['Class']==1)])\n",
        "males_class1=len(parity_df[(parity_df['Sex_male']==1) & (parity_df['Class']==1)])\n",
        "\n",
        "females_class2predict2=len(parity_df[(parity_df['Sex_female']==1) & (parity_df['Prediction']==2) & (parity_df['Class']==2)])\n",
        "males_class2predcit2=len(parity_df[(parity_df['Sex_male']==1) & (parity_df['Prediction']==2) & (parity_df['Class']==2)])\n",
        "\n",
        "females_class1predict2=len(parity_df[(parity_df['Sex_female']==1) & (parity_df['Prediction']==2) & (parity_df['Class']==1)])\n",
        "males_class1predcit2=len(parity_df[(parity_df['Sex_male']==1) & (parity_df['Prediction']==2) & (parity_df['Class']==1)])\n",
        "\n",
        "\n",
        "prob_predict2_females=females_predict2/females_count\n",
        "prob_predict2_males=males_predict2/males_count\n",
        "\n",
        "prob_eq_female=females_class2predict2/females_class2\n",
        "prob_eq_male=males_class2predcit2/males_class2\n",
        "\n",
        "prob_pred_eq_female=females_class1predict2/females_class1\n",
        "prob_pred_eq_male=males_class1predcit2/males_class1\n",
        "\n",
        "equal_opportunity_coef_rf=prob_eq_female/prob_eq_male\n",
        "statistical_parity_coef_rf=prob_predict2_females/prob_predict2_males\n",
        "predictive_equality_coef_rf=prob_pred_eq_female/prob_pred_eq_male\n",
        "print(f'Statistical parity coefficient: {statistical_parity_coef_rf}')\n",
        "print(f'Equal opportunity coefficient: {equal_opportunity_coef_rf}')\n",
        "print(f'Predictive equality coefficient: {predictive_equality_coef_rf}')\n"
      ],
      "metadata": {
        "colab": {
          "base_uri": "https://localhost:8080/"
        },
        "id": "WHJbGvM6R0h5",
        "outputId": "b8088442-1d25-460c-9712-02ea853fb01f"
      },
      "execution_count": 103,
      "outputs": [
        {
          "output_type": "stream",
          "name": "stdout",
          "text": [
            "Statistical parity coefficient: 1.5975546305931323\n",
            "Equal opportunity coefficient: 1.3065346853371962\n",
            "Predictive equality coefficient: 0.9930348258706467\n"
          ]
        }
      ]
    },
    {
      "cell_type": "markdown",
      "source": [
        "# 3. Train another model (Gradient Boosting Classifier) and see how the coefficients Statistical parity, Equal opportunity, Predictive parity behave for it. Are they different/similar?"
      ],
      "metadata": {
        "id": "pwLQqx5ucO75"
      }
    },
    {
      "cell_type": "code",
      "source": [
        "from sklearn.ensemble import GradientBoostingClassifier\n",
        "gb_model = GradientBoostingClassifier(random_state=42)\n",
        "gb_model.fit(X_train, Y_train)\n",
        "Y_pred_gb = gb_model.predict(X_test)\n",
        "\n",
        "print(\"Gradient Boosting Test Accuracy:\", accuracy_score(Y_test, Y_pred_gb))\n",
        "print(\"\\nClassification Report:\\n\", classification_report(Y_test, Y_pred_gb))\n",
        "acc_first_gb=accuracy_score(Y_test, Y_pred_gb)"
      ],
      "metadata": {
        "colab": {
          "base_uri": "https://localhost:8080/"
        },
        "id": "UqskKL7TcM54",
        "outputId": "c0475672-9421-47d4-b339-72f77e0a274c"
      },
      "execution_count": 104,
      "outputs": [
        {
          "output_type": "stream",
          "name": "stdout",
          "text": [
            "Gradient Boosting Test Accuracy: 0.76\n",
            "\n",
            "Classification Report:\n",
            "               precision    recall  f1-score   support\n",
            "\n",
            "           1       0.78      0.93      0.85       141\n",
            "           2       0.68      0.36      0.47        59\n",
            "\n",
            "    accuracy                           0.76       200\n",
            "   macro avg       0.73      0.64      0.66       200\n",
            "weighted avg       0.75      0.76      0.73       200\n",
            "\n"
          ]
        }
      ]
    },
    {
      "cell_type": "code",
      "source": [
        "credit_risk_c2['Prediction']=gb_model.predict(X)\n",
        "parity_df=credit_risk_c2[['Sex_female','Sex_male','Class','Prediction']]\n",
        "\n",
        "females_count=len(parity_df[parity_df['Sex_female']==1])\n",
        "males_count=len(parity_df[parity_df['Sex_male']==1])\n",
        "\n",
        "females_predict2=len(parity_df[(parity_df['Sex_female']==1) & (parity_df['Prediction']==2)])\n",
        "males_predict2=len(parity_df[(parity_df['Sex_male']==1) & (parity_df['Prediction']==2)])\n",
        "\n",
        "females_class2=len(parity_df[(parity_df['Sex_female']==1) & (parity_df['Class']==2)])\n",
        "males_class2=len(parity_df[(parity_df['Sex_male']==1) & (parity_df['Class']==2)])\n",
        "\n",
        "females_class1=len(parity_df[(parity_df['Sex_female']==1) & (parity_df['Class']==1)])\n",
        "males_class1=len(parity_df[(parity_df['Sex_male']==1) & (parity_df['Class']==1)])\n",
        "\n",
        "females_class2predict2=len(parity_df[(parity_df['Sex_female']==1) & (parity_df['Prediction']==2) & (parity_df['Class']==2)])\n",
        "males_class2predcit2=len(parity_df[(parity_df['Sex_male']==1) & (parity_df['Prediction']==2) & (parity_df['Class']==2)])\n",
        "\n",
        "females_class1predict2=len(parity_df[(parity_df['Sex_female']==1) & (parity_df['Prediction']==2) & (parity_df['Class']==1)])\n",
        "males_class1predcit2=len(parity_df[(parity_df['Sex_male']==1) & (parity_df['Prediction']==2) & (parity_df['Class']==1)])\n",
        "\n",
        "\n",
        "prob_predict2_females=females_predict2/females_count\n",
        "prob_predict2_males=males_predict2/males_count\n",
        "\n",
        "prob_eq_female=females_class2predict2/females_class2\n",
        "prob_eq_male=males_class2predcit2/males_class2\n",
        "\n",
        "prob_pred_eq_female=females_class1predict2/females_class1\n",
        "prob_pred_eq_male=males_class1predcit2/males_class1\n",
        "\n",
        "equal_opportunity_coef_gb=prob_eq_female/prob_eq_male\n",
        "statistical_parity_coef_gb=prob_predict2_females/prob_predict2_males\n",
        "predictive_equality_coef_gb=prob_pred_eq_female/prob_pred_eq_male\n",
        "print(f'Statistical parity coefficient: {statistical_parity_coef_gb}')\n",
        "print(f'Equal opportunity coefficient: {equal_opportunity_coef_gb}')\n",
        "print(f'Predictive equality coefficient: {predictive_equality_coef_gb}')"
      ],
      "metadata": {
        "colab": {
          "base_uri": "https://localhost:8080/"
        },
        "id": "Fn-O9aj5zf-z",
        "outputId": "cdb02767-7656-481d-d523-d457e6a05d2c"
      },
      "execution_count": 105,
      "outputs": [
        {
          "output_type": "stream",
          "name": "stdout",
          "text": [
            "Statistical parity coefficient: 1.5028949545078578\n",
            "Equal opportunity coefficient: 1.1853750674581758\n",
            "Predictive equality coefficient: 1.6550580431177448\n"
          ]
        }
      ]
    },
    {
      "cell_type": "markdown",
      "source": [
        "# 4. Apply the selected bias mitigation technique (like data balancing) on the first model. Check how Statistical parity, Equal opportunity, Predictive parity coefficients behave after this mittigation."
      ],
      "metadata": {
        "id": "cqdlSXn_dN_E"
      }
    },
    {
      "cell_type": "code",
      "source": [
        "# Data balancing\n",
        "print(\"Females\",females_count,\"Males\",males_count)\n",
        "print(\"Females class 2\",females_class2,\"Males class 2\",males_class2)\n",
        "print(\"Females class 1\",females_class1,\"Males class 1\",males_class1)"
      ],
      "metadata": {
        "colab": {
          "base_uri": "https://localhost:8080/"
        },
        "id": "u9h7J32-dP8A",
        "outputId": "64348f0f-7172-4c72-8e25-7ce885a0e05a"
      },
      "execution_count": 106,
      "outputs": [
        {
          "output_type": "stream",
          "name": "stdout",
          "text": [
            "Females 310 Males 690\n",
            "Females class 2 109 Males class 2 191\n",
            "Females class 1 201 Males class 1 499\n"
          ]
        }
      ]
    },
    {
      "cell_type": "code",
      "source": [
        "male_proportion = males_class2 / males_class1\n",
        "print(f\"Proportion of males in class 2 to males in class 1: {male_proportion}\")\n",
        "\n",
        "target_females_class2 = int(females_class1 * male_proportion)\n",
        "print(f\"Target number of females in class 2: {target_females_class2}\")\n",
        "\n",
        "class2_females = credit_risk_c[(credit_risk_c['Sex_female'] == 1) & (credit_risk_c['Class'] == 2)]\n",
        "class2_males = credit_risk_c[(credit_risk_c['Sex_male'] == 1) & (credit_risk_c['Class'] == 2)]\n",
        "class1_females = credit_risk_c[(credit_risk_c['Sex_female'] == 1) & (credit_risk_c['Class'] == 1)]\n",
        "class1_males = credit_risk_c[(credit_risk_c['Sex_male'] == 1) & (credit_risk_c['Class'] == 1)]\n",
        "\n",
        "\n",
        "sampled_females_class2 = class2_females.sample(n=76, random_state=42)\n",
        "print(f\"Sampled females in class 2: {sampled_females_class2.shape[0]}\")\n",
        "\n",
        "combined_df = pd.concat([sampled_females_class2, class2_males, class1_males, class1_females], axis=0)\n",
        "\n",
        "females_class2r=len(combined_df[(combined_df['Sex_female']==1) & (combined_df['Class']==2)])\n",
        "males_class2r=len(combined_df[(combined_df['Sex_male']==1) & (combined_df['Class']==2)])\n",
        "females_class1r=len(combined_df[(combined_df['Sex_female']==1) & (combined_df['Class']==1)])\n",
        "males_class1r=len(combined_df[(combined_df['Sex_male']==1) & (combined_df['Class']==1)])\n",
        "\n",
        "print(females_class2r)\n",
        "print(males_class2r)\n",
        "print(females_class1r)\n",
        "print(males_class1r)"
      ],
      "metadata": {
        "colab": {
          "base_uri": "https://localhost:8080/"
        },
        "id": "DNATcaLyvm92",
        "outputId": "e318bff4-26de-416d-e1ff-cbb430fe31e9"
      },
      "execution_count": 107,
      "outputs": [
        {
          "output_type": "stream",
          "name": "stdout",
          "text": [
            "Proportion of males in class 2 to males in class 1: 0.38276553106212424\n",
            "Target number of females in class 2: 76\n",
            "Sampled females in class 2: 76\n",
            "76\n",
            "191\n",
            "201\n",
            "499\n"
          ]
        }
      ]
    },
    {
      "cell_type": "code",
      "source": [
        "X = combined_df[['Age', 'Job', 'Saving accounts', 'Checking account',\n",
        "                 'Credit amount', 'Duration', 'Sex_female', 'Sex_male',\n",
        "                 'Housing_free', 'Housing_own', 'Housing_rent',\n",
        "                 'Purpose_business', 'Purpose_car', 'Purpose_domestic appliances',\n",
        "                 'Purpose_education', 'Purpose_furniture/equipment',\n",
        "                 'Purpose_radio/TV', 'Purpose_repairs', 'Purpose_vacation/others']]\n",
        "\n",
        "Y = combined_df['Class']\n",
        "X_train, X_test, Y_train, Y_test = train_test_split(X, Y, test_size=0.2, random_state=42)\n",
        "\n",
        "print(f\"Training data shape: {X_train.shape}\")\n",
        "print(f\"Testing data shape: {X_test.shape}\")\n",
        "\n",
        "# Create the Random Forest Classifier model 'max_depth': 10, 'min_samples_leaf': 1, 'min_samples_split': 5, 'n_estimators': 500\n",
        "rf_model=RandomForestClassifier(n_estimators=500, max_depth=10, min_samples_leaf=1,min_samples_split=5, random_state=42)\n",
        "rf_model.fit(X_train, Y_train)\n",
        "Y_pred_rf = rf_model.predict(X_test)\n",
        "\n",
        "print(\"Random Forest Model Evaluation:\")\n",
        "print(\"Accuracy:\", accuracy_score(Y_test, Y_pred_rf))\n",
        "print(\"\\nClassification Report:\\n\", classification_report(Y_test, Y_pred_rf))\n",
        "\n",
        "acc_first_improved=accuracy_score(Y_test, Y_pred_rf)"
      ],
      "metadata": {
        "colab": {
          "base_uri": "https://localhost:8080/"
        },
        "id": "iRXLRGzOIv3x",
        "outputId": "4bcaa314-962d-4892-c7f0-a09d68a3651d"
      },
      "execution_count": 108,
      "outputs": [
        {
          "output_type": "stream",
          "name": "stdout",
          "text": [
            "Training data shape: (773, 19)\n",
            "Testing data shape: (194, 19)\n",
            "Random Forest Model Evaluation:\n",
            "Accuracy: 0.7783505154639175\n",
            "\n",
            "Classification Report:\n",
            "               precision    recall  f1-score   support\n",
            "\n",
            "           1       0.81      0.93      0.86       147\n",
            "           2       0.58      0.30      0.39        47\n",
            "\n",
            "    accuracy                           0.78       194\n",
            "   macro avg       0.69      0.61      0.63       194\n",
            "weighted avg       0.75      0.78      0.75       194\n",
            "\n"
          ]
        }
      ]
    },
    {
      "cell_type": "code",
      "source": [
        "X = credit_risk_c3[['Age', 'Job', 'Saving accounts', 'Checking account',\n",
        "                 'Credit amount', 'Duration', 'Sex_female', 'Sex_male',\n",
        "                 'Housing_free', 'Housing_own', 'Housing_rent',\n",
        "                 'Purpose_business', 'Purpose_car', 'Purpose_domestic appliances',\n",
        "                 'Purpose_education', 'Purpose_furniture/equipment',\n",
        "                 'Purpose_radio/TV', 'Purpose_repairs', 'Purpose_vacation/others']]\n",
        "\n",
        "Y = credit_risk_c3['Class']\n",
        "\n",
        "credit_risk_c3['Prediction']=rf_model.predict(X)\n",
        "parity_df=credit_risk_c3[['Sex_female','Sex_male','Class','Prediction']]\n",
        "\n",
        "females_count=len(parity_df[parity_df['Sex_female']==1])\n",
        "males_count=len(parity_df[parity_df['Sex_male']==1])\n",
        "\n",
        "females_predict2=len(parity_df[(parity_df['Sex_female']==1) & (parity_df['Prediction']==2)])\n",
        "males_predict2=len(parity_df[(parity_df['Sex_male']==1) & (parity_df['Prediction']==2)])\n",
        "\n",
        "females_class2=len(parity_df[(parity_df['Sex_female']==1) & (parity_df['Class']==2)])\n",
        "males_class2=len(parity_df[(parity_df['Sex_male']==1) & (parity_df['Class']==2)])\n",
        "\n",
        "females_class1=len(parity_df[(parity_df['Sex_female']==1) & (parity_df['Class']==1)])\n",
        "males_class1=len(parity_df[(parity_df['Sex_male']==1) & (parity_df['Class']==1)])\n",
        "\n",
        "females_class2predict2=len(parity_df[(parity_df['Sex_female']==1) & (parity_df['Prediction']==2) & (parity_df['Class']==2)])\n",
        "males_class2predcit2=len(parity_df[(parity_df['Sex_male']==1) & (parity_df['Prediction']==2) & (parity_df['Class']==2)])\n",
        "\n",
        "females_class1predict2=len(parity_df[(parity_df['Sex_female']==1) & (parity_df['Prediction']==2) & (parity_df['Class']==1)])\n",
        "males_class1predcit2=len(parity_df[(parity_df['Sex_male']==1) & (parity_df['Prediction']==2) & (parity_df['Class']==1)])\n",
        "\n",
        "\n",
        "prob_predict2_females=females_predict2/females_count\n",
        "prob_predict2_males=males_predict2/males_count\n",
        "\n",
        "prob_eq_female=females_class2predict2/females_class2\n",
        "prob_eq_male=males_class2predcit2/males_class2\n",
        "\n",
        "prob_pred_eq_female=females_class1predict2/females_class1\n",
        "prob_pred_eq_male=males_class1predcit2/males_class1\n",
        "\n",
        "equal_opportunity_coef_improved=prob_eq_female/prob_eq_male\n",
        "statistical_parity_coef_improved=prob_predict2_females/prob_predict2_males\n",
        "predictive_equality_coef_improved=prob_pred_eq_female/prob_pred_eq_male\n",
        "print(f'Statistical parity coefficient: {statistical_parity_coef_improved}')\n",
        "print(f'Equal opportunity coefficient: {equal_opportunity_coef_improved}')\n",
        "print(f'Predictive equality coefficient: {predictive_equality_coef_improved}')"
      ],
      "metadata": {
        "colab": {
          "base_uri": "https://localhost:8080/"
        },
        "id": "IzFpaDqFsR9P",
        "outputId": "a4c64e7f-4b92-48b0-c654-2a7f2f67e71d"
      },
      "execution_count": 110,
      "outputs": [
        {
          "output_type": "stream",
          "name": "stdout",
          "text": [
            "Statistical parity coefficient: 1.1824596774193548\n",
            "Equal opportunity coefficient: 0.9345565749235475\n",
            "Predictive equality coefficient: 1.2412935323383085\n"
          ]
        }
      ]
    },
    {
      "cell_type": "markdown",
      "source": [
        "# 5. Compare the quality (performance) of the three models with their fairness coefficients. Is there any correlation/trade off?"
      ],
      "metadata": {
        "id": "Mmk4i3NsdTpe"
      }
    },
    {
      "cell_type": "code",
      "source": [
        "data = {\n",
        "    'Model': ['Random Forest', 'Gradient Boosting', 'Improved Random Forest Model'],\n",
        "    'Accuracy on test set': [acc_first_rf, acc_first_gb, acc_first_improved],\n",
        "    'Statistical Parity Coefficient': [\n",
        "        statistical_parity_coef_rf,\n",
        "        statistical_parity_coef_gb,\n",
        "        statistical_parity_coef_improved\n",
        "    ],\n",
        "    'Equal Opportunity Coefficient': [\n",
        "        equal_opportunity_coef_rf,\n",
        "        equal_opportunity_coef_gb,\n",
        "        equal_opportunity_coef_improved\n",
        "    ],\n",
        "    'Predictive Equality Coefficient': [\n",
        "        predictive_equality_coef_rf,\n",
        "        predictive_equality_coef_gb,\n",
        "        predictive_equality_coef_improved\n",
        "    ]\n",
        "}\n",
        "\n",
        "metrics_df = pd.DataFrame(data)\n",
        "table = tabulate(metrics_df, headers='keys', tablefmt='fancy_grid')\n",
        "print(table)"
      ],
      "metadata": {
        "colab": {
          "base_uri": "https://localhost:8080/"
        },
        "id": "o9ojGdPBdV1H",
        "outputId": "57b112a4-7478-4d9d-8d23-890ed1765da5"
      },
      "execution_count": 117,
      "outputs": [
        {
          "output_type": "stream",
          "name": "stdout",
          "text": [
            "╒════╤══════════════════════════════╤════════════════════════╤══════════════════════════════════╤═════════════════════════════════╤═══════════════════════════════════╕\n",
            "│    │ Model                        │   Accuracy on test set │   Statistical Parity Coefficient │   Equal Opportunity Coefficient │   Predictive Equality Coefficient │\n",
            "╞════╪══════════════════════════════╪════════════════════════╪══════════════════════════════════╪═════════════════════════════════╪═══════════════════════════════════╡\n",
            "│  0 │ Random Forest                │               0.745    │                          1.59755 │                        1.30653  │                          0.993035 │\n",
            "├────┼──────────────────────────────┼────────────────────────┼──────────────────────────────────┼─────────────────────────────────┼───────────────────────────────────┤\n",
            "│  1 │ Gradient Boosting            │               0.76     │                          1.50289 │                        1.18538  │                          1.65506  │\n",
            "├────┼──────────────────────────────┼────────────────────────┼──────────────────────────────────┼─────────────────────────────────┼───────────────────────────────────┤\n",
            "│  2 │ Improved Random Forest Model │               0.778351 │                          1.18246 │                        0.934557 │                          1.24129  │\n",
            "╘════╧══════════════════════════════╧════════════════════════╧══════════════════════════════════╧═════════════════════════════════╧═══════════════════════════════════╛\n"
          ]
        }
      ]
    },
    {
      "cell_type": "markdown",
      "source": [
        "# 6. Comment on the results"
      ],
      "metadata": {
        "id": "RhtkJ7oedWnz"
      }
    },
    {
      "cell_type": "markdown",
      "source": [
        "I trained three models: a Random Forest Classifier, a Gradient Boosting Classifier, and an improved model with bias mitigation (using sex as the protected attribute) by applying data balancing. I ensured that the proportion of:\n",
        "\n",
        "$ \\frac{\\text{Females in class 2}}{\\text{Females in class 1}} = \\frac{\\text{Males in class 2}}{\\text{Males in class 1}} $\n",
        "\n",
        "remained equal, and then trained a Random Forest Classifier on the balanced data.\n",
        "\n",
        "The improved Random Forest model achieved a higher accuracy score, although it was tested on a different test dataset. In terms of fairness metrics, it performed better in terms of the Statistical Parity Coefficient and Equal Opportunity Coefficient compared to the other models. However, it had a worse Predictive Equality Coefficient than the original Random Forest Classifier. This demonstrates that it's challenging to improve all three fairness metrics simultaneously.\n",
        "\n",
        "\n",
        "\n"
      ],
      "metadata": {
        "id": "mpfe8mW2daQ8"
      }
    }
  ]
}