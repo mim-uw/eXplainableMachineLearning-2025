{
 "cells": [
  {
   "cell_type": "markdown",
   "metadata": {},
   "source": [
    "## Task 1\n",
    "\n",
    "We have two populations Blue (privileged) and Red (unprivileged), with the Blue population being 9 times larger than the Red population.\n",
    "\n",
    "Individuals from both populations are requesting to attend XAI training to improve competency in this important area. Number of places is limited. The administrators of the training have decided to give priority to enrolling individuals who may need this training in the future, although unfortunately it is difficult to predict who will benefit.\n",
    "\n",
    "The decision rule adopted:\n",
    "1. In the Red group, half of the people will find the skills useful in future and half will not. Administrators randomly allocate 50% of people to training.\n",
    "2. in the Blue group, 80% of people will find the training useful in future and 20% will not, although of course it is not known who will find it useful. The administrators have built a predictive model based on user behaviour in predicting for whom it will be useful and whom will not. The model has the following performance:\n",
    "\n",
    "\n",
    "| Blue                     \t| Will use XAI \t| Will not use XAI \t| Total \t|\n",
    "|--------------------------\t|--------------\t|------------------\t|-------\t|\n",
    "| Enrolled in training     \t| 60           \t| 5               \t| 65    \t|\n",
    "| not enrolled in training \t| 20            \t| 15               \t| 35    \t|\n",
    "| Total                    \t| 80           \t| 20               \t| 100   \t|\n",
    "\n",
    "\n",
    "Task: Calculate the Demographic parity, equal opportunity and predictive rate parity coefficients for this decision rule.\n",
    "\n",
    "Starred task: How can this decision rule be changed to improve its fairness?"
   ]
  },
  {
   "cell_type": "markdown",
   "metadata": {},
   "source": [
    "## Solution\n",
    "\n",
    "Let $G$ - be a random variable that denotes the protected attribute (in this case group; $G=0$ for red and $G=1$ for blue).  \n",
    "Let $Y$ - be a random variable that denotes whether a person will use XAI in the future ($Y=1$ denotes that a person will use XAI in the future and $Y=0$ that a person won't use XAI in the future ).  \n",
    "Let $E$ - be a random variable that denotes whether a person was enrolled in the course ($E=1$ mean enrolled and $E = 0$ means not enrolled).  \n",
    "\n",
    "### Demographic parity can be defined as follows:  \n",
    "$P(E=1 | G=0) = P(E=1 | G=1)$  \n",
    "and the coefficient  \n",
    "$\\frac{P(E=1 | G=0)}{P(E=1 | G=1)} = \\frac{0.5}{0.65} = 0.769230769231$  \n",
    "One can note that here the assigment is a bit unfair, as according to lecture range $[0.8;1.2]$ is preferred.  \n",
    "\n",
    "\n",
    "### Equal opportunity can be defined as follows:  \n",
    "$P(E=1 | Y = 1, G = 0) = P(E=1 | Y = 1, G = 1)$   \n",
    "with the coefficient  \n",
    "$\\frac{P(E=1 | Y = 1, G = 0)}{P(E=1 | Y = 1, G = 1)} = \\frac{0.5}{0.75} = \\frac{2}{3} - 0.667$  \n",
    "\n",
    "\n",
    "### For predictive rate parity we calculate  positive predictive parity and negative predictive parity can be defined as follows\n",
    "\n",
    "Positive predictive parity can be defined as follows:  \n",
    "$P(Y=1 | E = 1, G = 0) = P(Y=1 | E = 1, G = 1)$   \n",
    "with the coefficient  \n",
    "$\\frac{P(Y=1 | E = 1, G = 0) }{P(Y=1 | E = 1, G = 1)} = \\frac{0.5}{\\frac{60}{65}} = \\frac{65}{120} = \\frac{13}{24} = 0.541$  \n",
    "\n",
    "\n",
    "Negative predictive parity can be defined as follows:  \n",
    "$P(Y=1 | E = 0, G = 0) = P(Y=1 | E = 0, G = 1)$   \n",
    "with the coefficient  \n",
    "$\\frac{P(Y=1 | E = 0, G = 0) }{P(Y=1 | E = 0, G = 1)} = \\frac{0.5}{\\frac{20}{35}} = \\frac{35}{40} = \\frac{7}{8} = 0.875$ \n",
    "\n",
    "\n",
    "### How to improve the coefficients?\n",
    "One simple solution is to increase the probability of enrolling people from the red group.  \n",
    "For example when choosing the probability to be $\\frac{20}{35}$ we get  \n",
    "$\\frac{P(E=1 | G=0)}{P(E=1 | G=1)} = 0.88$  \n",
    "$\\frac{P(E=1 | Y = 1, G = 0)}{P(E=1 | Y = 1, G = 1)} = 0.76$  \n",
    "$\\frac{P(Y=1 | E = 1, G = 0) }{P(Y=1 | E = 1, G = 1)} = 0.62$  \n",
    "$\\frac{P(Y=1 | E = 0, G = 0) }{P(Y=1 | E = 0, G = 1)} = 1.0$ \n",
    "\n",
    "If we aim only at improving  Demographic parity then we can set the probability for the red group to $0.65$.\n",
    "\n",
    "If we want to maintain the number of enrolled people then we can for example 'unroll' 1 person that will use XAI from blue group and enroll one more from the red group, so that the probability of getting enrolled in red group would be around $59$\\%.\n",
    "Then we have:  \n",
    "$\\frac{P(E=1 | G=0)}{P(E=1 | G=1)} = \\frac{0.59}{0.64} = 0.92$  \n",
    "$\\frac{P(E=1 | Y = 1, G = 0)}{P(E=1 | Y = 1, G = 1)} = \\frac{0.59}{0.7375} = 0.8$  \n",
    "$\\frac{P(Y=1 | E = 1, G = 0) }{P(Y=1 | E = 1, G = 1)} = \\frac{0.5}{\\frac{59}{64}} = 0.542$  \n",
    "$\\frac{P(Y=1 | E = 0, G = 0) }{P(Y=1 | E = 0, G = 1)} = \\frac{0.5}{\\frac{21}{35}} = 0.83$ \n",
    "\n"
   ]
  },
  {
   "cell_type": "markdown",
   "metadata": {},
   "source": [
    "\n",
    "## Task 2\n",
    "\n",
    "For this homework, train few models on a selected dataset from https://github.com/ahxt/fair_fairness_benchmark/:\n",
    "\n",
    "Prepare a knitr/jupiter notebook with the following points.\n",
    "Submit your results on GitHub to the directory `Homeworks/HW1`.\n",
    "\n",
    "1. Train a model for the selected dataset. \n",
    "2. For the selected protected attribute (age, gender, race) calculate the following fairness coefficients: Statistical parity, Equal opportunity, Predictive parity.\n",
    "3. Train another model (different hyperparameters, feature transformations etc., different family of models) and see how the coefficients Statistical parity, Equal opportunity, Predictive parity behave for it. Are they different/similar?\n",
    "4. Apply the selected bias mitigation technique (like data balancing) on the first model. Check how Statistical parity, Equal opportunity, Predictive parity coefficients behave after this mittigation.\n",
    "5. Compare the quality (performance) of the three models with their fairness coefficients. Is there any correlation/trade off? \n",
    "6. ! COMMENT on the results obtained in (2)-(5)\n",
    "\n",
    "\n",
    "## Alternative task\n",
    "\n",
    "Alternative homework\n",
    "\n",
    "If you prefer proving theorems instead of calculations,\n",
    "then instead of the above assignments, \n",
    "you can prove that except for trivial situations \n",
    "(independence between a decision with a group), \n",
    "no two of the three fairness equalities \n",
    "(demographic parity, equal opportunity, predictive rate parity) \n",
    "can occur simultaneously.\n",
    "\n",
    "\n",
    "## **Important note:**\n",
    "\n",
    "Try to convert the jupyter notebook into an HTML file, e.g. using the following command in bash\n",
    "\n",
    "```\n",
    "jupyter nbconvert --to=html --template=classic FILE_NAME.ipynb\n",
    "```\n",
    "\n",
    "The submitted homework should consist of two parts:\n",
    "\n",
    "1. The 1st part is the key results and comments from points (2)-(5). In this part **PLEASE DO NOT SHOW ANY R/PYTHON CODES, ONLY RESULTS (FIGURES, COMMENTS).**\n",
    "2. The 2nd part should start with the word \"Appendix\" or \"Załącznik\" and should include the reproducible R/Python code used to implement points (1)-(5).\n"
   ]
  },
  {
   "cell_type": "markdown",
   "metadata": {},
   "source": [
    "## Solution"
   ]
  },
  {
   "cell_type": "markdown",
   "metadata": {},
   "source": [
    "### Point 1\n",
    "We train a single Linear Layer.   \n",
    "With regularization, the model achieves good results on train and test sets within a few epochs.  \n",
    "This is one of the simplest models, as it can only linearly weight features to form a prediction.  "
   ]
  },
  {
   "cell_type": "markdown",
   "metadata": {},
   "source": [
    "### Point 2\n",
    "\n",
    "We select the gender attribute. We ensure the model does not have access to this attribute during the training and evaluation.  \n",
    "We train 10 models and measure Statistical parity, Equal opportunity, and Predictive parity on the test set. The results are attached below.  \n",
    "We observe that the models are remarkably unfair when considering statistical parity.  \n",
    "Further investigation into the data unravels that the train and test data are around 33% females.  \n",
    "What is more in the train data only 15% of high-salary people are females.\n",
    "This can be the reason for the low statistical parity coefficient."
   ]
  },
  {
   "cell_type": "code",
   "execution_count": 120,
   "metadata": {},
   "outputs": [
    {
     "data": {
      "image/png": "[encoded data removed]",
      "text/plain": [
       "<Figure size 1600x800 with 1 Axes>"
      ]
     },
     "metadata": {},
     "output_type": "display_data"
    },
    {
     "name": "stdout",
     "output_type": "stream",
     "text": [
      "{\n",
      "  \"Train Accuracy\": {\n",
      "    \"value\": \"83.4% +- 0.0\"\n",
      "  },\n",
      "  \"Test Accuracy\": {\n",
      "    \"value\": \"77.3% +- 0.1\"\n",
      "  },\n",
      "  \"Statistical parity\": {\n",
      "    \"value\": \"39.8% +- 3.6\"\n",
      "  },\n",
      "  \"Equal opportunity\": {\n",
      "    \"value\": \"104.9% +- 5.5\"\n",
      "  },\n",
      "  \"Positive predictive parity\": {\n",
      "    \"value\": \"96.1% +- 5.2\"\n",
      "  },\n",
      "  \"Negative predictive parity\": {\n",
      "    \"value\": \"36.0% +- 0.1\"\n",
      "  }\n",
      "}\n"
     ]
    }
   ],
   "source": []
  },
  {
   "cell_type": "markdown",
   "metadata": {},
   "source": [
    "# Point 3\n",
    "We train 10 simple Swiglu-inspired models, that should have greater capabilities.  \n",
    "We observe that they have better train and test set accuracy, and on average better statistical parity coefficient.  \n",
    "This is not suprising as those models are more expressive.  \n",
    "They also improve in statistical parity."
   ]
  },
  {
   "cell_type": "code",
   "execution_count": 121,
   "metadata": {},
   "outputs": [
    {
     "data": {
      "image/png": "[encoded data removed]",
      "text/plain": [
       "<Figure size 1600x800 with 1 Axes>"
      ]
     },
     "metadata": {},
     "output_type": "display_data"
    },
    {
     "name": "stdout",
     "output_type": "stream",
     "text": [
      "{\n",
      "  \"Train Accuracy\": {\n",
      "    \"value\": \"83.7% +- 0.1\"\n",
      "  },\n",
      "  \"Test Accuracy\": {\n",
      "    \"value\": \"78.7% +- 0.6\"\n",
      "  },\n",
      "  \"Statistical parity\": {\n",
      "    \"value\": \"49.5% +- 2.5\"\n",
      "  },\n",
      "  \"Equal opportunity\": {\n",
      "    \"value\": \"114.2% +- 7.1\"\n",
      "  },\n",
      "  \"Positive predictive parity\": {\n",
      "    \"value\": \"83.7% +- 2.3\"\n",
      "  },\n",
      "  \"Negative predictive parity\": {\n",
      "    \"value\": \"34.9% +- 0.3\"\n",
      "  }\n",
      "}\n"
     ]
    }
   ],
   "source": []
  },
  {
   "cell_type": "markdown",
   "metadata": {},
   "source": [
    "## Point 4\n",
    "We prepare a new training dataset by choosing equal number of positive and negative samples for each gender.   \n",
    "That is in our dataset the number of high earning females is equal to the number of high earning males, and the same hold for people with lower salaries. \n",
    "We train for more epochs to countermeasure the reduction in dataset size. \n",
    "We observe a slight decrease in test set accurancy and increase in positive predictive quality."
   ]
  },
  {
   "cell_type": "code",
   "execution_count": 123,
   "metadata": {},
   "outputs": [
    {
     "data": {
      "image/png": "[encoded data removed]",
      "text/plain": [
       "<Figure size 1600x800 with 1 Axes>"
      ]
     },
     "metadata": {},
     "output_type": "display_data"
    },
    {
     "name": "stdout",
     "output_type": "stream",
     "text": [
      "{\n",
      "  \"Train Accuracy\": {\n",
      "    \"value\": \"86.3% +- 0.3\"\n",
      "  },\n",
      "  \"Test Accuracy\": {\n",
      "    \"value\": \"77.1% +- 0.2\"\n",
      "  },\n",
      "  \"Statistical parity\": {\n",
      "    \"value\": \"36.2% +- 4.5\"\n",
      "  },\n",
      "  \"Equal opportunity\": {\n",
      "    \"value\": \"97.8% +- 9.2\"\n",
      "  },\n",
      "  \"Positive predictive parity\": {\n",
      "    \"value\": \"98.4% +- 3.2\"\n",
      "  },\n",
      "  \"Negative predictive parity\": {\n",
      "    \"value\": \"36.1% +- 0.1\"\n",
      "  }\n",
      "}\n"
     ]
    }
   ],
   "source": []
  },
  {
   "cell_type": "markdown",
   "metadata": {},
   "source": [
    "## Point 5\n",
    "The Swiglu models were the most stable (low std) and achieved the highest prediction accurancies.  \n",
    "The best Positive Predictive Parity coeff was obtained with models trained on the balanced data. \n",
    "However, training on the balanced data reduced the number of different samples and introduced changes between train and test distributions (see point 2).  \n",
    "We hypothesize that this resulted achieving the lowest accuracy scores, however ther reduction is rather minor.  \n",
    "We note that in the case of a simple model, there may be a tradeoff between achieving good equal opportunity coeff and obtaining a good predictive model.  \n",
    "We also note that acquiring a balanced sample of the training data can increase costs and is a more general problem, such as creation of fair image and text generation models.\n",
    "We note also one more thing, in case of the selected data the differences are rather small and sometimes within the std, so we cannot make strong claims here.\n",
    "\n",
    "\n",
    "\n",
    "| Metric                     | Model 1               | Model 2               | Model 3               |\n",
    "|----------------------------|-----------------------|-----------------------|-----------------------|\n",
    "| **Train Accuracy**          | 83.4% ± 0.0           | 83.7% ± 0.1           | 86.3% ± 0.3           |\n",
    "| **Test Accuracy**           | 77.3% ± 0.1           | **78.7% ± 0.6**           | 77.1% ± 0.2           |\n",
    "| **Statistical Parity**      | 39.8% ± 3.6           | **49.5% ± 2.5**           | 36.2% ± 4.5           |\n",
    "| **Equal Opportunity**       | 104.9% ± 5.5          | 114.2% ± 7.1          | **97.8% ± 9.2**           |\n",
    "| **Positive Predictive Parity** | 96.1% ± 5.2         | 83.7% ± 2.3           | **98.4% ± 3.2**           |\n",
    "| **Negative Predictive Parity** | 36.0% ± 0.1         | 34.9% ± 0.3           | **36.1% ± 0.1**           |\n",
    "\n",
    "\n",
    "\n"
   ]
  },
  {
   "cell_type": "markdown",
   "metadata": {},
   "source": [
    "## Point 6\n",
    "Results are commented in each point separately."
   ]
  },
  {
   "cell_type": "markdown",
   "metadata": {},
   "source": [
    "## Appendix"
   ]
  },
  {
   "cell_type": "markdown",
   "metadata": {},
   "source": [
    "## Task 2"
   ]
  },
  {
   "cell_type": "code",
   "execution_count": 113,
   "metadata": {},
   "outputs": [],
   "source": [
    "# First we load and preapare the data about people and their salaries\n",
    "\n",
    "\n",
    "import torch\n",
    "import pandas as pd\n",
    "from io import StringIO\n",
    "import os\n",
    "from typing import List, Dict, Callable, Tuple\n",
    "import copy\n",
    "\n",
    "\n",
    "def load_and_prepare_data(data_path: str, description_path: str, norm_spec={}):\n",
    "\n",
    "    def load_data_file(path: str):\n",
    "        with open(path, \"r\") as f:\n",
    "            lines = f.readlines()\n",
    "\n",
    "        result = [\n",
    "            l for l in lines if len(l.strip()) == 0 or l.strip()[0] != \"|\"\n",
    "        ]  # skip comments\n",
    "        return result\n",
    "\n",
    "    def load_data(data_path, description_path):\n",
    "\n",
    "        def clean(x):\n",
    "            if len(x) > 0 and x[-1] == \".\":\n",
    "                return x[:-1]\n",
    "            else:\n",
    "                return x \n",
    "\n",
    "        raw_description = load_data_file(description_path)\n",
    "\n",
    "        description = []\n",
    "        possible_values = []\n",
    "        start = False\n",
    "        for i, rd in enumerate(raw_description):\n",
    "            if rd.startswith(\"age:\"):\n",
    "                start = True\n",
    "\n",
    "            if start:\n",
    "                description.append(rd.split(\":\")[0])\n",
    "                possible_values.append(clean(v) for v in rd.split(\":\")[1].strip()[:-1].split(\",\"))\n",
    "                possible_values[-1] = [pv.strip() for pv in possible_values[-1]]\n",
    "\n",
    "        description.append(\"salary\")\n",
    "        possible_values.append([\">50K\", \"<=50K\"])\n",
    "\n",
    "        raw_data = load_data_file(data_path)\n",
    "\n",
    "        raw_data = [clean(rd.strip()) for rd in raw_data]\n",
    "\n",
    "        raw_data = [\",\".join(description)] + raw_data\n",
    "\n",
    "        raw_data = \"\\n\".join(raw_data)\n",
    "        raw_data = \",\".join(raw_data.split(\", \"))\n",
    "\n",
    "        data_frame = pd.read_csv(StringIO(raw_data))\n",
    "\n",
    "        return data_frame, possible_values\n",
    "\n",
    "    def prepare_data(\n",
    "        data_frame: pd.DataFrame,\n",
    "        possible_values: List[str],\n",
    "        norm_spec: Dict[str, Callable],\n",
    "    ):\n",
    "        norm_spec = copy.deepcopy(norm_spec)\n",
    "        columns = data_frame.columns\n",
    "        assert len(columns) == len(possible_values)\n",
    "        json_data = {}\n",
    "\n",
    "        for c, pv in zip(columns, possible_values):\n",
    "            if len(pv) == 1 and pv[0] == \"continuous\":\n",
    "                if c not in norm_spec:\n",
    "                    minv = data_frame[c].min().item()\n",
    "                    maxv = data_frame[c].max().item()\n",
    "                    interval = max(maxv - minv, 1.0)\n",
    "                    ns = lambda x: (x - minv) / interval\n",
    "                    norm_spec[c] = ns\n",
    "                json_data[c] = norm_spec[c](data_frame[c].to_numpy())\n",
    "            else:\n",
    "                assert len(pv) > 1, pv\n",
    "                for p in pv:\n",
    "                    new_c = c + \"_\" + p\n",
    "                    json_data[new_c] = (data_frame[c] == p).to_numpy()\n",
    "\n",
    "        new_df = pd.DataFrame(json_data)\n",
    "\n",
    "        return new_df, norm_spec\n",
    "\n",
    "    df, pv = load_data(data_path=data_path, description_path=description_path)\n",
    "\n",
    "    df, norm_spec = prepare_data(data_frame=df, possible_values=pv, norm_spec=norm_spec)\n",
    "\n",
    "    return df, norm_spec\n",
    "\n",
    "\n",
    "train_data_path = os.path.join(os.getcwd(), \"adult.data\")\n",
    "test_data_path = os.path.join(os.getcwd(), \"adult.test\")\n",
    "description_path = os.path.join(os.getcwd(), \"adult.names\")\n",
    "\n",
    "train_df, ns = load_and_prepare_data(train_data_path, description_path)\n",
    "test_df, ns = load_and_prepare_data(test_data_path, description_path, norm_spec=ns)\n"
   ]
  },
  {
   "cell_type": "code",
   "execution_count": 114,
   "metadata": {},
   "outputs": [],
   "source": [
    "from tqdm import tqdm\n",
    "import numpy as np\n",
    "import json\n",
    "\n",
    "DEVICE = torch.device(\"cpu\")\n",
    "\n",
    "TARGET = \"salary_>50K\"\n",
    "REMOVE = [\"salary_<=50K\", \"sex_Female\", \"sex_Male\"]\n",
    "PROTECTED_ATTRIBUTE = [\"sex_Female\", \"sex_Male\"]\n",
    "\n",
    "\n",
    "def data_to_numpy(data: pd.DataFrame, target: str, remove: List[str]):\n",
    "    columns_to_keep = [c for c in data.columns if c not in remove]\n",
    "    json_data = {k: data[k] for k in columns_to_keep}\n",
    "    data = pd.DataFrame(json_data)\n",
    "\n",
    "    y = torch.from_numpy(data[target].to_numpy().astype(np.float32))\n",
    "    columns_without_target = [c for c in columns_to_keep if c != target]\n",
    "    x = torch.from_numpy(data[columns_without_target].to_numpy().astype(np.float32))\n",
    "\n",
    "    return x, y\n",
    "\n",
    "\n",
    "def train(\n",
    "    model: torch.nn.Module,\n",
    "    optimizer: torch.optim.Optimizer,\n",
    "    train_df: pd.DataFrame,\n",
    "    test_df: pd.DataFrame,\n",
    "    num_epochs: int,\n",
    "    batch_size: int,\n",
    "    device=DEVICE,\n",
    "    target: str = TARGET,\n",
    "    remove_columns: List[str] = REMOVE,\n",
    "):\n",
    "\n",
    "    test_x, test_y = data_to_numpy(data=test_df, target=target, remove=remove_columns)\n",
    "    test_x = test_x.to(device)\n",
    "    test_y = test_y.to(device)\n",
    "\n",
    "    @torch.no_grad()\n",
    "    def eval_model(x, y):\n",
    "        model.eval()\n",
    "        logits = model(x)\n",
    "        predictions = (logits[..., 1] > logits[..., 0]).to(torch.float32).flatten()\n",
    "\n",
    "        accuracy = (predictions == y.flatten()).to(torch.float32).mean()\n",
    "\n",
    "        return accuracy\n",
    "\n",
    "    train_x, train_y = data_to_numpy(\n",
    "        data=train_df, target=target, remove=remove_columns\n",
    "    )\n",
    "    num_samples = train_x.shape[0]\n",
    "\n",
    "    initial_acc = eval_model(test_x, test_y)\n",
    "\n",
    "    print(f\"Initial model accuracy is {initial_acc}\")\n",
    "\n",
    "    epoch_tqdm = tqdm(range(num_epochs))\n",
    "\n",
    "    for e in epoch_tqdm:\n",
    "        model.train()\n",
    "        sample_indices = torch.randperm(num_samples, dtype=torch.long)\n",
    "\n",
    "        for b_start in tqdm(range(0, num_samples, batch_size), desc=\"batch\"):\n",
    "            optimizer.zero_grad()\n",
    "            b_end = min(b_start + batch_size, num_samples)\n",
    "            b_ids = sample_indices[b_start:b_end]\n",
    "\n",
    "            batch_x = train_x[b_ids].to(device)\n",
    "            batch_y = train_y[b_ids].to(device).flatten()\n",
    "            logits = model(batch_x)\n",
    "\n",
    "            log_prob = torch.nn.functional.log_softmax(logits, dim=-1)\n",
    "            loss = batch_y * log_prob[:, 1] + (1 - batch_y) * log_prob[:, 0]\n",
    "            loss = -loss.mean()\n",
    "\n",
    "            loss.backward()\n",
    "            optimizer.step()\n",
    "\n",
    "        acc = eval_model(test_x, test_y)\n",
    "        acc_train = eval_model(train_x.to(device), train_y.to(device))\n",
    "        epoch_tqdm.set_description(\n",
    "            f\"Loss {loss.detach()} At the end of epoch {e} test accuracy is {acc} and train {acc_train}\"\n",
    "        )\n",
    "\n",
    "    return (\n",
    "        eval_model(test_x, test_y).numpy().item(),\n",
    "        eval_model(train_x.to(device), train_y.to(device)).numpy().item(),\n",
    "    )\n",
    "\n",
    "\n",
    "@torch.no_grad()\n",
    "def analyze_fairness(\n",
    "    model: torch.nn.Module,\n",
    "    test_df: pd.DataFrame,\n",
    "    protected_ids: str = PROTECTED_ATTRIBUTE,\n",
    "    target: str = TARGET,\n",
    "    remove_columns: List[str] = REMOVE,\n",
    "    device=DEVICE,\n",
    "):\n",
    "    model.eval()\n",
    "    model.to(device)\n",
    "\n",
    "    test_x, test_y = data_to_numpy(data=test_df, target=target, remove=remove_columns)\n",
    "    test_x = test_x.to(device)\n",
    "    test_y = test_y.numpy().astype(np.bool)\n",
    "\n",
    "    logits = model(test_x)\n",
    "    assert len(logits.shape) == 2\n",
    "    predictions = (logits[:, 1] > logits[:, 0]).cpu().numpy().astype(np.float32)\n",
    "\n",
    "    def calc_statistical_parity(df, predictions):\n",
    "\n",
    "        gr_a = df[protected_ids[0]].to_numpy().astype(np.bool)\n",
    "        gr_b = df[protected_ids[1]].to_numpy().astype(np.bool)\n",
    "\n",
    "        pos_a = predictions[gr_a].mean()\n",
    "        pos_b = predictions[gr_b].mean()\n",
    "\n",
    "        return np.nan_to_num(pos_a / max(pos_b, 1e-7)).item()\n",
    "\n",
    "    def calc_eq_opportunity(df, predictions, gt):\n",
    "\n",
    "        gr_a_t = np.logical_and(df[protected_ids[0]].to_numpy().astype(np.bool), gt.astype(np.bool))\n",
    "        gr_b_t = np.logical_and(df[protected_ids[1]].to_numpy().astype(np.bool), gt.astype(np.bool))\n",
    "\n",
    "        pos_a = predictions[gr_a_t].mean()\n",
    "        pos_b = predictions[gr_b_t].mean()\n",
    "\n",
    "        return np.nan_to_num(pos_a / max(pos_b, 1e-7)).item()\n",
    "\n",
    "    def calc_pred_parity(df, predictions, gt):\n",
    "        gr_a_p = np.logical_and(df[protected_ids[0]].to_numpy().astype(np.bool), predictions.astype(np.bool))\n",
    "        gr_b_p = np.logical_and(df[protected_ids[1]].to_numpy().astype(np.bool), predictions.astype(np.bool))\n",
    "\n",
    "        pos_pred_rate_parity = np.nan_to_num(\n",
    "            np.nan_to_num(gt[gr_a_p].mean().item())\n",
    "            / max(np.nan_to_num(gt[gr_b_p].mean()).item(), 1e-7)\n",
    "        )\n",
    "\n",
    "        gr_a_np = np.logical_and(\n",
    "            df[protected_ids[0]].to_numpy().astype(np.bool), np.logical_not(predictions.astype(np.bool))\n",
    "        )\n",
    "        gr_b_np = np.logical_and(\n",
    "            df[protected_ids[1]].to_numpy().astype(np.bool), np.logical_not(predictions.astype(np.bool))\n",
    "        )\n",
    "\n",
    "        neg_pred_rate_parity = np.nan_to_num(\n",
    "            np.nan_to_num(gt[gr_a_np].mean().item())\n",
    "            / max(np.nan_to_num(gt[gr_b_np].mean()).item(), 1e-7)\n",
    "        )\n",
    "\n",
    "        return pos_pred_rate_parity.item(), neg_pred_rate_parity.item()\n",
    "\n",
    "    stat_parity = calc_statistical_parity(df=test_df, predictions=predictions)\n",
    "\n",
    "    eq_opport = calc_eq_opportunity(df=test_df, predictions=predictions, gt=test_y)\n",
    "\n",
    "    pos_pred_par, neg_pred_par = calc_pred_parity(\n",
    "        df=test_df, predictions=predictions, gt=test_y\n",
    "    )\n",
    "\n",
    "    res = {\n",
    "        \"Statistical parity\": stat_parity,\n",
    "        \"Equal opportunity\": eq_opport,\n",
    "        \"Positive predictive parity\": pos_pred_par,\n",
    "        \"Negative predictive parity\": neg_pred_par,\n",
    "    }\n",
    "\n",
    "    print(json.dumps(res, indent=2))\n",
    "\n",
    "    return res"
   ]
  },
  {
   "cell_type": "markdown",
   "metadata": {},
   "source": [
    "## Part 1"
   ]
  },
  {
   "cell_type": "code",
   "execution_count": 115,
   "metadata": {},
   "outputs": [],
   "source": [
    "class SwigluBlock(torch.nn.Module):\n",
    "    def __init__(self, in_dim: int, inner_dim: int, out_dim: int):\n",
    "        super().__init__()\n",
    "\n",
    "        self.up_proj = torch.nn.Linear(\n",
    "            in_features=in_dim, out_features=inner_dim, bias=True\n",
    "        )\n",
    "        self.gate = torch.nn.Linear(\n",
    "            in_features=in_dim, out_features=inner_dim, bias=True\n",
    "        )\n",
    "        self.down_proj = torch.nn.Linear(\n",
    "            in_features=inner_dim, out_features=out_dim, bias=True\n",
    "        )\n",
    "\n",
    "    def forward(self, x: torch.Tensor):\n",
    "        u = self.up_proj(x)\n",
    "        g = self.gate(x)\n",
    "\n",
    "        y = u * torch.nn.functional.silu(g)\n",
    "        z = self.down_proj(y)\n",
    "\n",
    "        return z\n",
    "    \n",
    "\n",
    "class SimpleLinear(torch.nn.Module):\n",
    "    def __init__(self, in_dim: int, out_dim: int):\n",
    "        super().__init__()\n",
    "\n",
    "        self.proj = torch.nn.Linear(\n",
    "            in_features=in_dim, out_features=out_dim, bias=True\n",
    "        )\n",
    "        \n",
    "\n",
    "    def forward(self, x: torch.Tensor):\n",
    "\n",
    "        return self.proj(x)\n"
   ]
  },
  {
   "cell_type": "code",
   "execution_count": 116,
   "metadata": {},
   "outputs": [
    {
     "name": "stdout",
     "output_type": "stream",
     "text": [
      "Model 0\n",
      "Initial model accuracy is 0.23622627556324005\n"
     ]
    },
    {
     "name": "stderr",
     "output_type": "stream",
     "text": [
      "batch: 100%|██████████| 509/509 [00:01<00:00, 507.22it/s]\n",
      "batch: 100%|██████████| 509/509 [00:00<00:00, 588.89it/s]acy is 0.7705914974212646 and train 0.8255581855773926:  33%|███▎      | 1/3 [00:01<00:02,  1.02s/it]\n",
      "batch: 100%|██████████| 509/509 [00:00<00:00, 533.78it/s]cy is 0.7724955677986145 and train 0.8317005038261414:  67%|██████▋   | 2/3 [00:01<00:00,  1.07it/s] \n",
      "Loss 0.32715266942977905 At the end of epoch 2 test accuracy is 0.7747067213058472 and train 0.834065318107605: 100%|██████████| 3/3 [00:02<00:00,  1.04it/s]\n"
     ]
    },
    {
     "name": "stdout",
     "output_type": "stream",
     "text": [
      "{\n",
      "  \"Statistical parity\": 0.4678412973880768,\n",
      "  \"Equal opportunity\": 1.062596082687378,\n",
      "  \"Positive predictive parity\": 0.8244943462334766,\n",
      "  \"Negative predictive parity\": 0.35884510625678007\n",
      "}\n",
      "Model 1\n",
      "Initial model accuracy is 0.7637737393379211\n"
     ]
    },
    {
     "name": "stderr",
     "output_type": "stream",
     "text": [
      "batch: 100%|██████████| 509/509 [00:00<00:00, 552.07it/s]\n",
      "batch: 100%|██████████| 509/509 [00:00<00:00, 629.92it/s]acy is 0.7667833566665649 and train 0.8266023993492126:  33%|███▎      | 1/3 [00:00<00:01,  1.07it/s]\n",
      "batch: 100%|██████████| 509/509 [00:00<00:00, 732.67it/s]cy is 0.7694244980812073 and train 0.8316390514373779:  67%|██████▋   | 2/3 [00:01<00:00,  1.15it/s] \n",
      "Loss 0.43195652961730957 At the end of epoch 2 test accuracy is 0.7713899612426758 and train 0.8333589434623718: 100%|██████████| 3/3 [00:02<00:00,  1.22it/s]\n"
     ]
    },
    {
     "name": "stdout",
     "output_type": "stream",
     "text": [
      "{\n",
      "  \"Statistical parity\": 0.36250558495521545,\n",
      "  \"Equal opportunity\": 0.9986118078231812,\n",
      "  \"Positive predictive parity\": 1.0,\n",
      "  \"Negative predictive parity\": 0.3607809019333084\n",
      "}\n",
      "Model 2\n",
      "Initial model accuracy is 0.23622627556324005\n"
     ]
    },
    {
     "name": "stderr",
     "output_type": "stream",
     "text": [
      "batch: 100%|██████████| 509/509 [00:00<00:00, 584.69it/s]\n",
      "batch: 100%|██████████| 509/509 [00:00<00:00, 721.70it/s]cy is 0.7689945101737976 and train 0.8241454362869263:  33%|███▎      | 1/3 [00:00<00:01,  1.13it/s]\n",
      "batch: 100%|██████████| 509/509 [00:00<00:00, 706.90it/s]acy is 0.7705914974212646 and train 0.8311476707458496:  67%|██████▋   | 2/3 [00:01<00:00,  1.27it/s]\n",
      "Loss 0.38551419973373413 At the end of epoch 2 test accuracy is 0.7725569605827332 and train 0.834157407283783: 100%|██████████| 3/3 [00:02<00:00,  1.28it/s] \n"
     ]
    },
    {
     "name": "stdout",
     "output_type": "stream",
     "text": [
      "{\n",
      "  \"Statistical parity\": 0.3974842131137848,\n",
      "  \"Equal opportunity\": 1.0768085718154907,\n",
      "  \"Positive predictive parity\": 0.9834146341463414,\n",
      "  \"Negative predictive parity\": 0.35937319956833413\n",
      "}\n",
      "Model 3\n",
      "Initial model accuracy is 0.3720901608467102\n"
     ]
    },
    {
     "name": "stderr",
     "output_type": "stream",
     "text": [
      "batch: 100%|██████████| 509/509 [00:00<00:00, 726.03it/s]\n",
      "batch: 100%|██████████| 509/509 [00:00<00:00, 730.27it/s]acy is 0.7693630456924438 and train 0.8268173336982727:  33%|███▎      | 1/3 [00:00<00:01,  1.40it/s]\n",
      "batch: 100%|██████████| 509/509 [00:00<00:00, 727.60it/s]acy is 0.771082878112793 and train 0.8325297236442566:  67%|██████▋   | 2/3 [00:01<00:00,  1.41it/s] \n",
      "Loss 0.2978689670562744 At the end of epoch 2 test accuracy is 0.7734168767929077 and train 0.8343417048454285: 100%|██████████| 3/3 [00:02<00:00,  1.41it/s]\n"
     ]
    },
    {
     "name": "stdout",
     "output_type": "stream",
     "text": [
      "{\n",
      "  \"Statistical parity\": 0.4323713183403015,\n",
      "  \"Equal opportunity\": 1.1446077823638916,\n",
      "  \"Positive predictive parity\": 0.9609876543209878,\n",
      "  \"Negative predictive parity\": 0.3581034549673406\n",
      "}\n",
      "Model 4\n",
      "Initial model accuracy is 0.23622627556324005\n"
     ]
    },
    {
     "name": "stderr",
     "output_type": "stream",
     "text": [
      "batch: 100%|██████████| 509/509 [00:00<00:00, 714.35it/s]\n",
      "batch: 100%|██████████| 509/509 [00:00<00:00, 646.58it/s]cy is 0.7704686522483826 and train 0.8249132633209229:  33%|███▎      | 1/3 [00:00<00:01,  1.38it/s]\n",
      "batch: 100%|██████████| 509/509 [00:00<00:00, 687.56it/s]acy is 0.7724341154098511 and train 0.8321611881256104:  67%|██████▋   | 2/3 [00:01<00:00,  1.29it/s]\n",
      "Loss 0.30882561206817627 At the end of epoch 2 test accuracy is 0.7738468050956726 and train 0.8336353302001953: 100%|██████████| 3/3 [00:02<00:00,  1.31it/s]\n"
     ]
    },
    {
     "name": "stdout",
     "output_type": "stream",
     "text": [
      "{\n",
      "  \"Statistical parity\": 0.4167982041835785,\n",
      "  \"Equal opportunity\": 1.07306969165802,\n",
      "  \"Positive predictive parity\": 0.9345878136200716,\n",
      "  \"Negative predictive parity\": 0.358870683117837\n",
      "}\n",
      "Model 5\n",
      "Initial model accuracy is 0.7685645818710327\n"
     ]
    },
    {
     "name": "stderr",
     "output_type": "stream",
     "text": [
      "batch: 100%|██████████| 509/509 [00:00<00:00, 664.33it/s]\n",
      "batch: 100%|██████████| 509/509 [00:00<00:00, 668.19it/s]cy is 0.769055962562561 and train 0.8265716433525085:  33%|███▎      | 1/3 [00:00<00:01,  1.29it/s]\n",
      "batch: 100%|██████████| 509/509 [00:00<00:00, 655.46it/s]cy is 0.7707757353782654 and train 0.8317312002182007:  67%|██████▋   | 2/3 [00:01<00:00,  1.29it/s]\n",
      "Loss 0.3869832158088684 At the end of epoch 2 test accuracy is 0.7728641033172607 and train 0.8343724012374878: 100%|██████████| 3/3 [00:02<00:00,  1.28it/s]\n"
     ]
    },
    {
     "name": "stdout",
     "output_type": "stream",
     "text": [
      "{\n",
      "  \"Statistical parity\": 0.4006640911102295,\n",
      "  \"Equal opportunity\": 1.086347222328186,\n",
      "  \"Positive predictive parity\": 0.984251968503937,\n",
      "  \"Negative predictive parity\": 0.3591295634636784\n",
      "}\n",
      "Model 6\n",
      "Initial model accuracy is 0.765677809715271\n"
     ]
    },
    {
     "name": "stderr",
     "output_type": "stream",
     "text": [
      "batch: 100%|██████████| 509/509 [00:00<00:00, 673.19it/s]\n",
      "batch: 100%|██████████| 509/509 [00:00<00:00, 616.25it/s]acy is 0.7685645818710327 and train 0.8262338638305664:  33%|███▎      | 1/3 [00:00<00:01,  1.30it/s]\n",
      "batch: 100%|██████████| 509/509 [00:00<00:00, 710.58it/s]acy is 0.7702843546867371 and train 0.832130491733551:  67%|██████▋   | 2/3 [00:01<00:00,  1.23it/s] \n",
      "Loss 0.3786351978778839 At the end of epoch 2 test accuracy is 0.7724341154098511 and train 0.8334817886352539: 100%|██████████| 3/3 [00:02<00:00,  1.28it/s]\n"
     ]
    },
    {
     "name": "stdout",
     "output_type": "stream",
     "text": [
      "{\n",
      "  \"Statistical parity\": 0.3505810499191284,\n",
      "  \"Equal opportunity\": 0.9657626152038574,\n",
      "  \"Positive predictive parity\": 1.0,\n",
      "  \"Negative predictive parity\": 0.3608666383219954\n",
      "}\n",
      "Model 7\n",
      "Initial model accuracy is 0.23063693940639496\n"
     ]
    },
    {
     "name": "stderr",
     "output_type": "stream",
     "text": [
      "batch: 100%|██████████| 509/509 [00:00<00:00, 699.09it/s]\n",
      "batch: 100%|██████████| 509/509 [00:00<00:00, 738.65it/s]cy is 0.7687488198280334 and train 0.8222106099128723:  33%|███▎      | 1/3 [00:00<00:01,  1.35it/s]\n",
      "batch: 100%|██████████| 509/509 [00:00<00:00, 703.31it/s]cy is 0.7704686522483826 and train 0.830625593662262:  67%|██████▋   | 2/3 [00:01<00:00,  1.40it/s] \n",
      "Loss 0.39844462275505066 At the end of epoch 2 test accuracy is 0.7724341154098511 and train 0.8336967825889587: 100%|██████████| 3/3 [00:02<00:00,  1.38it/s]\n"
     ]
    },
    {
     "name": "stdout",
     "output_type": "stream",
     "text": [
      "{\n",
      "  \"Statistical parity\": 0.3448338210582733,\n",
      "  \"Equal opportunity\": 0.9577811360359192,\n",
      "  \"Positive predictive parity\": 1.0082644628099173,\n",
      "  \"Negative predictive parity\": 0.36091452537066565\n",
      "}\n",
      "Model 8\n",
      "Initial model accuracy is 0.23475216329097748\n"
     ]
    },
    {
     "name": "stderr",
     "output_type": "stream",
     "text": [
      "batch: 100%|██████████| 509/509 [00:00<00:00, 732.23it/s]\n",
      "batch: 100%|██████████| 509/509 [00:00<00:00, 730.59it/s]acy is 0.768933117389679 and train 0.8236233592033386:  33%|███▎      | 1/3 [00:00<00:01,  1.42it/s]\n",
      "batch: 100%|██████████| 509/509 [00:00<00:00, 733.60it/s]y is 0.7705914974212646 and train 0.8310248255729675:  67%|██████▋   | 2/3 [00:01<00:00,  1.42it/s] \n",
      "Loss 0.3792641758918762 At the end of epoch 2 test accuracy is 0.7723727226257324 and train 0.8335431814193726: 100%|██████████| 3/3 [00:02<00:00,  1.42it/s]\n"
     ]
    },
    {
     "name": "stdout",
     "output_type": "stream",
     "text": [
      "{\n",
      "  \"Statistical parity\": 0.3877394497394562,\n",
      "  \"Equal opportunity\": 1.048998475074768,\n",
      "  \"Positive predictive parity\": 0.9820936639118457,\n",
      "  \"Negative predictive parity\": 0.35977882449313947\n",
      "}\n",
      "Model 9\n",
      "Initial model accuracy is 0.23475216329097748\n"
     ]
    },
    {
     "name": "stderr",
     "output_type": "stream",
     "text": [
      "batch: 100%|██████████| 509/509 [00:00<00:00, 739.92it/s]\n",
      "batch: 100%|██████████| 509/509 [00:00<00:00, 718.01it/s]cy is 0.7693630456924438 and train 0.8262338638305664:  33%|███▎      | 1/3 [00:00<00:01,  1.43it/s]\n",
      "batch: 100%|██████████| 509/509 [00:00<00:00, 739.34it/s]acy is 0.7712671160697937 and train 0.8308405876159668:  67%|██████▋   | 2/3 [00:01<00:00,  1.40it/s]\n",
      "Loss 0.28392234444618225 At the end of epoch 2 test accuracy is 0.7738468050956726 and train 0.8340960144996643: 100%|██████████| 3/3 [00:02<00:00,  1.41it/s]\n"
     ]
    },
    {
     "name": "stdout",
     "output_type": "stream",
     "text": [
      "{\n",
      "  \"Statistical parity\": 0.4167982041835785,\n",
      "  \"Equal opportunity\": 1.07306969165802,\n",
      "  \"Positive predictive parity\": 0.9345878136200716,\n",
      "  \"Negative predictive parity\": 0.358870683117837\n",
      "}\n"
     ]
    }
   ],
   "source": [
    "exp1_fairness_data = {\"Train Accuracy\": [], \"Test Accuracy\": []}\n",
    "torch.manual_seed(42)\n",
    "for i in range(10):\n",
    "    print(f\"Model {i}\")\n",
    "    model = SimpleLinear(in_dim=103, out_dim=2)\n",
    "    model.to(DEVICE)\n",
    "    optim = torch.optim.AdamW(params=model.parameters(), lr=1e-3, weight_decay=0.1)\n",
    "\n",
    "    final_acc_test, final_acc_train = train(\n",
    "        model=model,\n",
    "        optimizer=optim,\n",
    "        train_df=train_df,\n",
    "        test_df=test_df,\n",
    "        num_epochs=3,\n",
    "        batch_size=64,\n",
    "        device=DEVICE,\n",
    "    )\n",
    "    res = analyze_fairness(model=model, test_df=test_df)\n",
    "    for k, v in res.items():\n",
    "        if k not in exp1_fairness_data:\n",
    "            exp1_fairness_data[k] = []\n",
    "        exp1_fairness_data[k].append(v)\n",
    "    exp1_fairness_data[\"Test Accuracy\"].append(final_acc_test)\n",
    "    exp1_fairness_data[\"Train Accuracy\"].append(final_acc_train)"
   ]
  },
  {
   "cell_type": "markdown",
   "metadata": {},
   "source": []
  },
  {
   "cell_type": "code",
   "execution_count": 117,
   "metadata": {},
   "outputs": [
    {
     "name": "stdout",
     "output_type": "stream",
     "text": [
      "Model 0\n",
      "Initial model accuracy is 0.7637737393379211\n"
     ]
    },
    {
     "name": "stderr",
     "output_type": "stream",
     "text": [
      "batch: 100%|██████████| 509/509 [00:01<00:00, 381.37it/s]\n",
      "batch: 100%|██████████| 509/509 [00:01<00:00, 383.77it/s]acy is 0.7740311026573181 and train 0.8323147296905518:  50%|█████     | 1/2 [00:01<00:01,  1.50s/it]\n",
      "Loss 0.3340586721897125 At the end of epoch 1 test accuracy is 0.7942386865615845 and train 0.8384877443313599: 100%|██████████| 2/2 [00:02<00:00,  1.50s/it] \n"
     ]
    },
    {
     "name": "stdout",
     "output_type": "stream",
     "text": [
      "{\n",
      "  \"Statistical parity\": 0.472120076417923,\n",
      "  \"Equal opportunity\": 1.054123044013977,\n",
      "  \"Positive predictive parity\": 0.8105071363498328,\n",
      "  \"Negative predictive parity\": 0.34788400503695854\n",
      "}\n",
      "Model 1\n",
      "Initial model accuracy is 0.23395368456840515\n"
     ]
    },
    {
     "name": "stderr",
     "output_type": "stream",
     "text": [
      "batch: 100%|██████████| 509/509 [00:01<00:00, 356.95it/s]\n",
      "batch: 100%|██████████| 509/509 [00:01<00:00, 384.60it/s]acy is 0.7732325792312622 and train 0.8322533369064331:  50%|█████     | 1/2 [00:01<00:01,  1.59s/it]\n",
      "Loss 0.40694206953048706 At the end of epoch 1 test accuracy is 0.7944843769073486 and train 0.8378121256828308: 100%|██████████| 2/2 [00:03<00:00,  1.54s/it]\n"
     ]
    },
    {
     "name": "stdout",
     "output_type": "stream",
     "text": [
      "{\n",
      "  \"Statistical parity\": 0.47817161679267883,\n",
      "  \"Equal opportunity\": 1.0569778680801392,\n",
      "  \"Positive predictive parity\": 0.8024169766126218,\n",
      "  \"Negative predictive parity\": 0.34749543873377736\n",
      "}\n",
      "Model 2\n",
      "Initial model accuracy is 0.7653706669807434\n"
     ]
    },
    {
     "name": "stderr",
     "output_type": "stream",
     "text": [
      "batch: 100%|██████████| 509/509 [00:01<00:00, 388.43it/s]\n",
      "batch: 100%|██████████| 509/509 [00:01<00:00, 388.40it/s]acy is 0.7721884250640869 and train 0.8320690393447876:  50%|█████     | 1/2 [00:01<00:01,  1.47s/it]\n",
      "Loss 0.23980030417442322 At the end of epoch 1 test accuracy is 0.7860696315765381 and train 0.837136447429657: 100%|██████████| 2/2 [00:02<00:00,  1.47s/it] \n"
     ]
    },
    {
     "name": "stdout",
     "output_type": "stream",
     "text": [
      "{\n",
      "  \"Statistical parity\": 0.528006911277771,\n",
      "  \"Equal opportunity\": 1.2175804376602173,\n",
      "  \"Positive predictive parity\": 0.8370975897522333,\n",
      "  \"Negative predictive parity\": 0.34746690554394344\n",
      "}\n",
      "Model 3\n",
      "Initial model accuracy is 0.23622627556324005\n"
     ]
    },
    {
     "name": "stderr",
     "output_type": "stream",
     "text": [
      "batch: 100%|██████████| 509/509 [00:01<00:00, 373.93it/s]\n",
      "batch: 100%|██████████| 509/509 [00:01<00:00, 392.95it/s]cy is 0.7724341154098511 and train 0.8321611881256104:  50%|█████     | 1/2 [00:01<00:01,  1.59s/it]\n",
      "Loss 0.26715409755706787 At the end of epoch 1 test accuracy is 0.7919660806655884 and train 0.8367372155189514: 100%|██████████| 2/2 [00:03<00:00,  1.52s/it]\n"
     ]
    },
    {
     "name": "stdout",
     "output_type": "stream",
     "text": [
      "{\n",
      "  \"Statistical parity\": 0.4989258348941803,\n",
      "  \"Equal opportunity\": 1.1467311382293701,\n",
      "  \"Positive predictive parity\": 0.8343412312877962,\n",
      "  \"Negative predictive parity\": 0.3453928415332342\n",
      "}\n",
      "Model 4\n",
      "Initial model accuracy is 0.7634052038192749\n"
     ]
    },
    {
     "name": "stderr",
     "output_type": "stream",
     "text": [
      "batch: 100%|██████████| 509/509 [00:01<00:00, 389.86it/s]\n",
      "batch: 100%|██████████| 509/509 [00:01<00:00, 375.32it/s]cy is 0.7709600329399109 and train 0.8325604200363159:  50%|█████     | 1/2 [00:01<00:01,  1.47s/it]\n",
      "Loss 0.3765050172805786 At the end of epoch 1 test accuracy is 0.7821387052536011 and train 0.8370442986488342: 100%|██████████| 2/2 [00:02<00:00,  1.49s/it]\n"
     ]
    },
    {
     "name": "stdout",
     "output_type": "stream",
     "text": [
      "{\n",
      "  \"Statistical parity\": 0.5171970725059509,\n",
      "  \"Equal opportunity\": 1.1979974508285522,\n",
      "  \"Positive predictive parity\": 0.8408486868777874,\n",
      "  \"Negative predictive parity\": 0.35130304012282565\n",
      "}\n",
      "Model 5\n",
      "Initial model accuracy is 0.2352435290813446\n"
     ]
    },
    {
     "name": "stderr",
     "output_type": "stream",
     "text": [
      "batch: 100%|██████████| 509/509 [00:01<00:00, 374.71it/s]\n",
      "batch: 100%|██████████| 509/509 [00:01<00:00, 374.68it/s]cy is 0.7741539478302002 and train 0.831669807434082:  50%|█████     | 1/2 [00:01<00:01,  1.52s/it]\n",
      "Loss 0.35678091645240784 At the end of epoch 1 test accuracy is 0.7943615317344666 and train 0.8375356793403625: 100%|██████████| 2/2 [00:03<00:00,  1.52s/it]\n"
     ]
    },
    {
     "name": "stdout",
     "output_type": "stream",
     "text": [
      "{\n",
      "  \"Statistical parity\": 0.46131211519241333,\n",
      "  \"Equal opportunity\": 1.0392926931381226,\n",
      "  \"Positive predictive parity\": 0.817826241555055,\n",
      "  \"Negative predictive parity\": 0.34883313459713333\n",
      "}\n",
      "Model 6\n",
      "Initial model accuracy is 0.7637737393379211\n"
     ]
    },
    {
     "name": "stderr",
     "output_type": "stream",
     "text": [
      "batch: 100%|██████████| 509/509 [00:01<00:00, 387.35it/s]\n",
      "batch: 100%|██████████| 509/509 [00:01<00:00, 338.81it/s]cy is 0.7724955677986145 and train 0.8328061103820801:  50%|█████     | 1/2 [00:01<00:01,  1.50s/it]\n",
      "Loss 0.2765483558177948 At the end of epoch 1 test accuracy is 0.7874823212623596 and train 0.8368293642997742: 100%|██████████| 2/2 [00:03<00:00,  1.59s/it]\n"
     ]
    },
    {
     "name": "stdout",
     "output_type": "stream",
     "text": [
      "{\n",
      "  \"Statistical parity\": 0.5358278751373291,\n",
      "  \"Equal opportunity\": 1.2461453676223755,\n",
      "  \"Positive predictive parity\": 0.8442313281022958,\n",
      "  \"Negative predictive parity\": 0.3451192500476687\n",
      "}\n",
      "Model 7\n",
      "Initial model accuracy is 0.2049628347158432\n"
     ]
    },
    {
     "name": "stderr",
     "output_type": "stream",
     "text": [
      "batch: 100%|██████████| 509/509 [00:01<00:00, 329.77it/s]\n",
      "batch: 100%|██████████| 509/509 [00:02<00:00, 239.15it/s]acy is 0.7718198895454407 and train 0.8317005038261414:  50%|█████     | 1/2 [00:01<00:01,  1.77s/it]\n",
      "Loss 0.5021973252296448 At the end of epoch 1 test accuracy is 0.7842884063720703 and train 0.8361843824386597: 100%|██████████| 2/2 [00:04<00:00,  2.07s/it] \n"
     ]
    },
    {
     "name": "stdout",
     "output_type": "stream",
     "text": [
      "{\n",
      "  \"Statistical parity\": 0.4839482009410858,\n",
      "  \"Equal opportunity\": 1.110563039779663,\n",
      "  \"Positive predictive parity\": 0.8330333357333141,\n",
      "  \"Negative predictive parity\": 0.3524256665018912\n",
      "}\n",
      "Model 8\n",
      "Initial model accuracy is 0.23125115036964417\n"
     ]
    },
    {
     "name": "stderr",
     "output_type": "stream",
     "text": [
      "batch: 100%|██████████| 509/509 [00:01<00:00, 292.74it/s]\n",
      "batch: 100%|██████████| 509/509 [00:01<00:00, 295.06it/s]cy is 0.7694244980812073 and train 0.8309941291809082:  50%|█████     | 1/2 [00:01<00:01,  1.94s/it]\n",
      "Loss 0.33716025948524475 At the end of epoch 1 test accuracy is 0.7756894826889038 and train 0.8360001444816589: 100%|██████████| 2/2 [00:03<00:00,  1.93s/it]\n"
     ]
    },
    {
     "name": "stdout",
     "output_type": "stream",
     "text": [
      "{\n",
      "  \"Statistical parity\": 0.46709543466567993,\n",
      "  \"Equal opportunity\": 1.1407252550125122,\n",
      "  \"Positive predictive parity\": 0.8865301055245189,\n",
      "  \"Negative predictive parity\": 0.3565994508991442\n",
      "}\n",
      "Model 9\n",
      "Initial model accuracy is 0.7637737393379211\n"
     ]
    },
    {
     "name": "stderr",
     "output_type": "stream",
     "text": [
      "batch: 100%|██████████| 509/509 [00:01<00:00, 331.87it/s]\n",
      "batch: 100%|██████████| 509/509 [00:01<00:00, 286.67it/s]cy is 0.7712671160697937 and train 0.8318540453910828:  50%|█████     | 1/2 [00:01<00:01,  1.71s/it]\n",
      "Loss 0.33699846267700195 At the end of epoch 1 test accuracy is 0.780541718006134 and train 0.8379349708557129: 100%|██████████| 2/2 [00:03<00:00,  1.87s/it]\n"
     ]
    },
    {
     "name": "stdout",
     "output_type": "stream",
     "text": [
      "{\n",
      "  \"Statistical parity\": 0.511639416217804,\n",
      "  \"Equal opportunity\": 1.2119375467300415,\n",
      "  \"Positive predictive parity\": 0.859872963269815,\n",
      "  \"Negative predictive parity\": 0.3519566997916583\n",
      "}\n"
     ]
    }
   ],
   "source": [
    "exp2_fairness_data = {\"Train Accuracy\": [], \"Test Accuracy\": []}\n",
    "torch.manual_seed(42)\n",
    "for i in range(10):\n",
    "    print(f\"Model {i}\")\n",
    "    model = SwigluBlock(in_dim=103, inner_dim=256, out_dim=2)\n",
    "    model.to(DEVICE)\n",
    "    optim = torch.optim.AdamW(params=model.parameters(), lr=2e-4, weight_decay=0.1)\n",
    "\n",
    "    final_acc_test, final_acc_train = train(\n",
    "        model=model,\n",
    "        optimizer=optim,\n",
    "        train_df=train_df,\n",
    "        test_df=test_df,\n",
    "        num_epochs=2,\n",
    "        batch_size=64,\n",
    "        device=DEVICE,\n",
    "    )\n",
    "    res = analyze_fairness(model=model, test_df=test_df)\n",
    "    for k, v in res.items():\n",
    "        if k not in exp2_fairness_data:\n",
    "            exp2_fairness_data[k] = []\n",
    "        exp2_fairness_data[k].append(v)\n",
    "    exp2_fairness_data[\"Test Accuracy\"].append(final_acc_test)\n",
    "    exp2_fairness_data[\"Train Accuracy\"].append(final_acc_train)"
   ]
  },
  {
   "cell_type": "code",
   "execution_count": 118,
   "metadata": {},
   "outputs": [
    {
     "name": "stdout",
     "output_type": "stream",
     "text": [
      "Model 0\n",
      "Max part 15128, Min part 1179\n",
      "Initial model accuracy is 0.23622627556324005\n"
     ]
    },
    {
     "name": "stderr",
     "output_type": "stream",
     "text": [
      "batch: 100%|██████████| 56/56 [00:00<00:00, 652.07it/s]\n",
      "batch: 100%|██████████| 56/56 [00:00<00:00, 798.89it/s]racy is 0.23622627556324005 and train 0.6844783425331116:   0%|          | 0/14 [00:00<?, ?it/s]\n",
      "batch: 100%|██████████| 56/56 [00:00<00:00, 753.61it/s]racy is 0.789570689201355 and train 0.7407407164573669:  14%|█▍        | 2/14 [00:00<00:01, 11.57it/s]\n",
      "batch: 100%|██████████| 56/56 [00:00<00:00, 752.70it/s]racy is 0.7771021723747253 and train 0.7777777910232544:  14%|█▍        | 2/14 [00:00<00:01, 11.57it/s]\n",
      "batch: 100%|██████████| 56/56 [00:00<00:00, 781.15it/s]racy is 0.7746452689170837 and train 0.8080294132232666:  29%|██▊       | 4/14 [00:00<00:00, 11.90it/s]\n",
      "batch: 100%|██████████| 56/56 [00:00<00:00, 763.78it/s]racy is 0.773908257484436 and train 0.8309301733970642:  29%|██▊       | 4/14 [00:00<00:00, 11.90it/s] \n",
      "batch: 100%|██████████| 56/56 [00:00<00:00, 698.54it/s]racy is 0.7734168767929077 and train 0.8354537487030029:  43%|████▎     | 6/14 [00:00<00:00, 12.09it/s]\n",
      "batch: 100%|██████████| 56/56 [00:00<00:00, 727.63it/s]racy is 0.7731711864471436 and train 0.8399773836135864:  43%|████▎     | 6/14 [00:00<00:00, 12.09it/s]\n",
      "batch: 100%|██████████| 56/56 [00:00<00:00, 713.19it/s]racy is 0.7730483412742615 and train 0.8436527848243713:  57%|█████▋    | 8/14 [00:00<00:00, 11.82it/s]\n",
      "batch: 100%|██████████| 56/56 [00:00<00:00, 722.77it/s]uracy is 0.7734782695770264 and train 0.8467627763748169:  57%|█████▋    | 8/14 [00:00<00:00, 11.82it/s]\n",
      "batch: 100%|██████████| 56/56 [00:00<00:00, 746.51it/s]racy is 0.7731711864471436 and train 0.8510036468505859:  71%|███████▏  | 10/14 [00:00<00:00, 11.76it/s]\n",
      "batch: 100%|██████████| 56/56 [00:00<00:00, 773.14it/s]curacy is 0.7730483412742615 and train 0.8538309335708618:  71%|███████▏  | 10/14 [00:00<00:00, 11.76it/s]\n",
      "batch: 100%|██████████| 56/56 [00:00<00:00, 768.19it/s]uracy is 0.7734782695770264 and train 0.8580718040466309:  86%|████████▌ | 12/14 [00:01<00:00, 11.90it/s] \n",
      "batch: 100%|██████████| 56/56 [00:00<00:00, 730.22it/s]curacy is 0.7734782695770264 and train 0.8583545088768005:  86%|████████▌ | 12/14 [00:01<00:00, 11.90it/s]\n",
      "Loss 0.2910815179347992 At the end of epoch 13 test accuracy is 0.7736625671386719 and train 0.8589199781417847: 100%|██████████| 14/14 [00:01<00:00, 11.90it/s] \n"
     ]
    },
    {
     "name": "stdout",
     "output_type": "stream",
     "text": [
      "{\n",
      "  \"Statistical parity\": 0.4312703609466553,\n",
      "  \"Equal opportunity\": 1.1037288904190063,\n",
      "  \"Positive predictive parity\": 0.9290322580645162,\n",
      "  \"Negative predictive parity\": 0.35857731119055164\n",
      "}\n",
      "Model 1\n",
      "Max part 15128, Min part 1179\n",
      "Initial model accuracy is 0.23579633235931396\n"
     ]
    },
    {
     "name": "stderr",
     "output_type": "stream",
     "text": [
      "batch: 100%|██████████| 56/56 [00:00<00:00, 634.23it/s]\n",
      "batch: 100%|██████████| 56/56 [00:00<00:00, 601.28it/s]uracy is 0.23622627556324005 and train 0.7325416803359985:   7%|▋         | 1/14 [00:00<00:01,  9.43it/s]\n",
      "batch: 100%|██████████| 56/56 [00:00<00:00, 711.69it/s]uracy is 0.7709600329399109 and train 0.7791914343833923:  14%|█▍        | 2/14 [00:00<00:01,  9.47it/s] \n",
      "batch: 100%|██████████| 56/56 [00:00<00:00, 766.12it/s]racy is 0.7704686522483826 and train 0.8015267252922058:  14%|█▍        | 2/14 [00:00<00:01,  9.47it/s] \n",
      "batch: 100%|██████████| 56/56 [00:00<00:00, 779.46it/s]racy is 0.7705914974212646 and train 0.8136839270591736:  29%|██▊       | 4/14 [00:00<00:00, 10.83it/s]\n",
      "batch: 100%|██████████| 56/56 [00:00<00:00, 739.12it/s]racy is 0.7704686522483826 and train 0.8334746956825256:  29%|██▊       | 4/14 [00:00<00:00, 10.83it/s]\n",
      "batch: 100%|██████████| 56/56 [00:00<00:00, 516.13it/s]racy is 0.7708371877670288 and train 0.837432861328125:  43%|████▎     | 6/14 [00:00<00:00, 11.35it/s] \n",
      "batch: 100%|██████████| 56/56 [00:00<00:00, 493.92it/s]uracy is 0.7708985805511475 and train 0.8433700799942017:  43%|████▎     | 6/14 [00:00<00:00, 11.35it/s]\n",
      "batch: 100%|██████████| 56/56 [00:00<00:00, 610.13it/s]racy is 0.7707757353782654 and train 0.8467627763748169:  57%|█████▋    | 8/14 [00:00<00:00,  9.85it/s] \n",
      "batch: 100%|██████████| 56/56 [00:00<00:00, 587.30it/s]uracy is 0.7709600329399109 and train 0.8495900630950928:  57%|█████▋    | 8/14 [00:00<00:00,  9.85it/s]\n",
      "batch: 100%|██████████| 56/56 [00:00<00:00, 699.55it/s]uracy is 0.7711442708969116 and train 0.8512864112854004:  71%|███████▏  | 10/14 [00:00<00:00,  9.78it/s]\n",
      "batch: 100%|██████████| 56/56 [00:00<00:00, 698.37it/s]racy is 0.7712671160697937 and train 0.8569409251213074:  71%|███████▏  | 10/14 [00:01<00:00,  9.78it/s] \n",
      "batch: 100%|██████████| 56/56 [00:00<00:00, 656.68it/s]curacy is 0.7716970443725586 and train 0.8592027425765991:  86%|████████▌ | 12/14 [00:01<00:00, 10.26it/s]\n",
      "batch: 100%|██████████| 56/56 [00:00<00:00, 669.54it/s]uracy is 0.7720655798912048 and train 0.8625954389572144:  86%|████████▌ | 12/14 [00:01<00:00, 10.26it/s] \n",
      "Loss 0.28324007987976074 At the end of epoch 13 test accuracy is 0.7721884250640869 and train 0.864291787147522: 100%|██████████| 14/14 [00:01<00:00, 10.29it/s]\n"
     ]
    },
    {
     "name": "stdout",
     "output_type": "stream",
     "text": [
      "{\n",
      "  \"Statistical parity\": 0.36267006397247314,\n",
      "  \"Equal opportunity\": 0.9990648627281189,\n",
      "  \"Positive predictive parity\": 1.0,\n",
      "  \"Negative predictive parity\": 0.3605411653691908\n",
      "}\n",
      "Model 2\n",
      "Max part 15128, Min part 1179\n",
      "Initial model accuracy is 0.7637737393379211\n"
     ]
    },
    {
     "name": "stderr",
     "output_type": "stream",
     "text": [
      "batch: 100%|██████████| 56/56 [00:00<00:00, 633.55it/s]\n",
      "batch: 100%|██████████| 56/56 [00:00<00:00, 713.04it/s]racy is 0.764080822467804 and train 0.6700593829154968:   0%|          | 0/14 [00:00<?, ?it/s]\n",
      "batch: 100%|██████████| 56/56 [00:00<00:00, 711.09it/s]racy is 0.7643879652023315 and train 0.7336726188659668:  14%|█▍        | 2/14 [00:00<00:01, 11.01it/s]\n",
      "batch: 100%|██████████| 56/56 [00:00<00:00, 769.80it/s]racy is 0.7649407386779785 and train 0.7989822030067444:  14%|█▍        | 2/14 [00:00<00:01, 11.01it/s]\n",
      "batch: 100%|██████████| 56/56 [00:00<00:00, 732.46it/s]racy is 0.7655549645423889 and train 0.8247101902961731:  29%|██▊       | 4/14 [00:00<00:00, 11.56it/s]\n",
      "batch: 100%|██████████| 56/56 [00:00<00:00, 666.94it/s]uracy is 0.7661077380180359 and train 0.8402600884437561:  29%|██▊       | 4/14 [00:00<00:00, 11.56it/s]\n",
      "batch: 100%|██████████| 56/56 [00:00<00:00, 699.02it/s]racy is 0.7665991187095642 and train 0.8419564366340637:  43%|████▎     | 6/14 [00:00<00:00, 11.47it/s] \n",
      "batch: 100%|██████████| 56/56 [00:00<00:00, 787.76it/s]racy is 0.7668448090553284 and train 0.8453491926193237:  43%|████▎     | 6/14 [00:00<00:00, 11.47it/s]\n",
      "batch: 100%|██████████| 56/56 [00:00<00:00, 718.91it/s]uracy is 0.7673975825309753 and train 0.8467627763748169:  57%|█████▋    | 8/14 [00:00<00:00, 11.60it/s]\n",
      "batch: 100%|██████████| 56/56 [00:00<00:00, 703.43it/s]uracy is 0.7680118083953857 and train 0.8510036468505859:  57%|█████▋    | 8/14 [00:00<00:00, 11.60it/s]\n",
      "batch: 100%|██████████| 56/56 [00:00<00:00, 735.23it/s]racy is 0.7682574987411499 and train 0.8518518805503845:  71%|███████▏  | 10/14 [00:00<00:00, 11.60it/s]\n",
      "batch: 100%|██████████| 56/56 [00:00<00:00, 728.09it/s]curacy is 0.7686874270439148 and train 0.8535482287406921:  71%|███████▏  | 10/14 [00:00<00:00, 11.60it/s]\n",
      "batch: 100%|██████████| 56/56 [00:00<00:00, 730.64it/s]uracy is 0.768933117389679 and train 0.8577890992164612:  86%|████████▌ | 12/14 [00:01<00:00, 11.65it/s]  \n",
      "batch: 100%|██████████| 56/56 [00:00<00:00, 723.79it/s]racy is 0.7691173553466797 and train 0.8614645004272461:  86%|████████▌ | 12/14 [00:01<00:00, 11.65it/s]\n",
      "Loss 0.3323051333427429 At the end of epoch 13 test accuracy is 0.7693016529083252 and train 0.8625954389572144: 100%|██████████| 14/14 [00:01<00:00, 11.59it/s]\n"
     ]
    },
    {
     "name": "stdout",
     "output_type": "stream",
     "text": [
      "{\n",
      "  \"Statistical parity\": 0.3382229506969452,\n",
      "  \"Equal opportunity\": 0.9317190647125244,\n",
      "  \"Positive predictive parity\": 1.0,\n",
      "  \"Negative predictive parity\": 0.36189968701779984\n",
      "}\n",
      "Model 3\n",
      "Max part 15128, Min part 1179\n",
      "Initial model accuracy is 0.7637737393379211\n"
     ]
    },
    {
     "name": "stderr",
     "output_type": "stream",
     "text": [
      "batch: 100%|██████████| 56/56 [00:00<00:00, 577.29it/s]\n",
      "batch: 100%|██████████| 56/56 [00:00<00:00, 713.53it/s]racy is 0.7637737393379211 and train 0.7339553236961365:   7%|▋         | 1/14 [00:00<00:01,  9.53it/s]\n",
      "batch: 100%|██████████| 56/56 [00:00<00:00, 746.30it/s]racy is 0.7643879652023315 and train 0.7820186614990234:   7%|▋         | 1/14 [00:00<00:01,  9.53it/s]\n",
      "batch: 100%|██████████| 56/56 [00:00<00:00, 759.78it/s]racy is 0.7649407386779785 and train 0.8102912306785583:  21%|██▏       | 3/14 [00:00<00:00, 11.10it/s]\n",
      "batch: 100%|██████████| 56/56 [00:00<00:00, 728.07it/s]racy is 0.765677809715271 and train 0.8170766234397888:  21%|██▏       | 3/14 [00:00<00:00, 11.10it/s] \n",
      "batch: 100%|██████████| 56/56 [00:00<00:00, 698.81it/s]acy is 0.7662919759750366 and train 0.8377155661582947:  36%|███▌      | 5/14 [00:00<00:00, 11.53it/s]\n",
      "batch: 100%|██████████| 56/56 [00:00<00:00, 726.72it/s]racy is 0.7668448090553284 and train 0.8394119143486023:  36%|███▌      | 5/14 [00:00<00:00, 11.53it/s]\n",
      "batch: 100%|██████████| 56/56 [00:00<00:00, 726.09it/s]racy is 0.7673361301422119 and train 0.8436527848243713:  50%|█████     | 7/14 [00:00<00:00, 11.50it/s]\n",
      "batch: 100%|██████████| 56/56 [00:00<00:00, 717.29it/s]racy is 0.7680118083953857 and train 0.8504382371902466:  50%|█████     | 7/14 [00:00<00:00, 11.50it/s]\n",
      "batch: 100%|██████████| 56/56 [00:00<00:00, 706.23it/s]uracy is 0.7685645818710327 and train 0.8541136384010315:  64%|██████▍   | 9/14 [00:00<00:00, 11.58it/s]\n",
      "batch: 100%|██████████| 56/56 [00:00<00:00, 657.77it/s]racy is 0.7688102722167969 and train 0.8546791076660156:  64%|██████▍   | 9/14 [00:00<00:00, 11.58it/s] \n",
      "batch: 100%|██████████| 56/56 [00:00<00:00, 695.79it/s]uracy is 0.7689945101737976 and train 0.8580718040466309:  79%|███████▊  | 11/14 [00:00<00:00, 11.39it/s]\n",
      "batch: 100%|██████████| 56/56 [00:00<00:00, 704.79it/s]curacy is 0.7691788077354431 and train 0.8614645004272461:  79%|███████▊  | 11/14 [00:01<00:00, 11.39it/s]\n",
      "batch: 100%|██████████| 56/56 [00:00<00:00, 726.87it/s]curacy is 0.7694244980812073 and train 0.8637263178825378:  93%|█████████▎| 13/14 [00:01<00:00, 11.38it/s]\n",
      "Loss 0.15861022472381592 At the end of epoch 13 test accuracy is 0.7694244980812073 and train 0.8651399612426758: 100%|██████████| 14/14 [00:01<00:00, 11.38it/s]\n"
     ]
    },
    {
     "name": "stdout",
     "output_type": "stream",
     "text": [
      "{\n",
      "  \"Statistical parity\": 0.3296603262424469,\n",
      "  \"Equal opportunity\": 0.9081313014030457,\n",
      "  \"Positive predictive parity\": 1.0,\n",
      "  \"Negative predictive parity\": 0.36206034543771526\n",
      "}\n",
      "Model 4\n",
      "Max part 15128, Min part 1179\n",
      "Initial model accuracy is 0.7637737393379211\n"
     ]
    },
    {
     "name": "stderr",
     "output_type": "stream",
     "text": [
      "batch: 100%|██████████| 56/56 [00:00<00:00, 593.10it/s]\n",
      "batch: 100%|██████████| 56/56 [00:00<00:00, 755.66it/s]racy is 0.7643879652023315 and train 0.7537460923194885:   7%|▋         | 1/14 [00:00<00:01,  9.77it/s]\n",
      "batch: 100%|██████████| 56/56 [00:00<00:00, 757.02it/s]racy is 0.7654935121536255 and train 0.7724059820175171:   7%|▋         | 1/14 [00:00<00:01,  9.77it/s]\n",
      "batch: 100%|██████████| 56/56 [00:00<00:00, 748.97it/s]uracy is 0.7664148211479187 and train 0.8015267252922058:  21%|██▏       | 3/14 [00:00<00:00, 11.41it/s]\n",
      "batch: 100%|██████████| 56/56 [00:00<00:00, 727.71it/s]uracy is 0.766906201839447 and train 0.8145321011543274:  21%|██▏       | 3/14 [00:00<00:00, 11.41it/s] \n",
      "batch: 100%|██████████| 56/56 [00:00<00:00, 714.08it/s]acy is 0.7677661180496216 and train 0.8187729716300964:  36%|███▌      | 5/14 [00:00<00:00, 11.68it/s] \n",
      "batch: 100%|██████████| 56/56 [00:00<00:00, 739.74it/s]racy is 0.7684417366981506 and train 0.8394119143486023:  36%|███▌      | 5/14 [00:00<00:00, 11.68it/s]\n",
      "batch: 100%|██████████| 56/56 [00:00<00:00, 741.03it/s]racy is 0.7687488198280334 and train 0.8456318974494934:  50%|█████     | 7/14 [00:00<00:00, 11.64it/s]\n",
      "batch: 100%|██████████| 56/56 [00:00<00:00, 726.49it/s]racy is 0.769055962562561 and train 0.8467627763748169:  50%|█████     | 7/14 [00:00<00:00, 11.64it/s] \n",
      "batch: 100%|██████████| 56/56 [00:00<00:00, 725.07it/s]uracy is 0.7693016529083252 and train 0.8481764197349548:  64%|██████▍   | 9/14 [00:00<00:00, 11.65it/s]\n",
      "batch: 100%|██████████| 56/56 [00:00<00:00, 743.32it/s]racy is 0.7694244980812073 and train 0.8510036468505859:  64%|██████▍   | 9/14 [00:00<00:00, 11.65it/s] \n",
      "batch: 100%|██████████| 56/56 [00:00<00:00, 528.94it/s]uracy is 0.7695473432540894 and train 0.8549618124961853:  79%|███████▊  | 11/14 [00:00<00:00, 11.70it/s]\n",
      "batch: 100%|██████████| 56/56 [00:00<00:00, 723.18it/s]curacy is 0.769608736038208 and train 0.8580718040466309:  79%|███████▊  | 11/14 [00:01<00:00, 11.70it/s]\n",
      "batch: 100%|██████████| 56/56 [00:00<00:00, 685.56it/s]curacy is 0.7699772715568542 and train 0.8597681522369385:  93%|█████████▎| 13/14 [00:01<00:00, 11.04it/s]\n",
      "Loss 0.4036893844604492 At the end of epoch 13 test accuracy is 0.7702843546867371 and train 0.8614645004272461: 100%|██████████| 14/14 [00:01<00:00, 11.28it/s] \n"
     ]
    },
    {
     "name": "stdout",
     "output_type": "stream",
     "text": [
      "{\n",
      "  \"Statistical parity\": 0.3048531115055084,\n",
      "  \"Equal opportunity\": 0.8397936820983887,\n",
      "  \"Positive predictive parity\": 1.0,\n",
      "  \"Negative predictive parity\": 0.36254730897368836\n",
      "}\n",
      "Model 5\n",
      "Max part 15128, Min part 1179\n",
      "Initial model accuracy is 0.7637737393379211\n"
     ]
    },
    {
     "name": "stderr",
     "output_type": "stream",
     "text": [
      "batch: 100%|██████████| 56/56 [00:00<00:00, 587.52it/s]\n",
      "batch: 100%|██████████| 56/56 [00:00<00:00, 706.08it/s]acy is 0.7643879652023315 and train 0.6700593829154968:   7%|▋         | 1/14 [00:00<00:01,  9.65it/s]\n",
      "batch: 100%|██████████| 56/56 [00:00<00:00, 560.51it/s]racy is 0.7652478218078613 and train 0.7028555274009705:   7%|▋         | 1/14 [00:00<00:01,  9.65it/s]\n",
      "batch: 100%|██████████| 56/56 [00:00<00:00, 679.47it/s]racy is 0.766230583190918 and train 0.7650551199913025:  21%|██▏       | 3/14 [00:00<00:01,  9.84it/s] \n",
      "batch: 100%|██████████| 56/56 [00:00<00:00, 744.20it/s]racy is 0.7670290470123291 and train 0.7958722114562988:  21%|██▏       | 3/14 [00:00<00:01,  9.84it/s]\n",
      "batch: 100%|██████████| 56/56 [00:00<00:00, 744.55it/s]racy is 0.7678275108337402 and train 0.8114221096038818:  36%|███▌      | 5/14 [00:00<00:00, 10.59it/s]\n",
      "batch: 100%|██████████| 56/56 [00:00<00:00, 755.51it/s]racy is 0.7686260342597961 and train 0.8207520246505737:  36%|███▌      | 5/14 [00:00<00:00, 10.59it/s]\n",
      "batch: 100%|██████████| 56/56 [00:00<00:00, 734.94it/s]uracy is 0.768933117389679 and train 0.8343228697776794:  50%|█████     | 7/14 [00:00<00:00, 11.14it/s]\n",
      "batch: 100%|██████████| 56/56 [00:00<00:00, 714.26it/s]uracy is 0.769055962562561 and train 0.8439355492591858:  50%|█████     | 7/14 [00:00<00:00, 11.14it/s]\n",
      "batch: 100%|██████████| 56/56 [00:00<00:00, 698.55it/s]uracy is 0.7694244980812073 and train 0.8447837233543396:  64%|██████▍   | 9/14 [00:00<00:00, 11.36it/s]\n",
      "batch: 100%|██████████| 56/56 [00:00<00:00, 717.79it/s]racy is 0.7694244980812073 and train 0.8464800715446472:  64%|██████▍   | 9/14 [00:00<00:00, 11.36it/s] \n",
      "batch: 100%|██████████| 56/56 [00:00<00:00, 676.00it/s]uracy is 0.7695473432540894 and train 0.8504382371902466:  79%|███████▊  | 11/14 [00:00<00:00, 11.38it/s]\n",
      "batch: 100%|██████████| 56/56 [00:00<00:00, 739.43it/s]curacy is 0.7696701884269714 and train 0.8549618124961853:  79%|███████▊  | 11/14 [00:01<00:00, 11.38it/s]\n",
      "batch: 100%|██████████| 56/56 [00:00<00:00, 728.54it/s]uracy is 0.770161509513855 and train 0.8589199781417847:  93%|█████████▎| 13/14 [00:01<00:00, 11.38it/s]  \n",
      "Loss 0.23037093877792358 At the end of epoch 13 test accuracy is 0.7704686522483826 and train 0.8594854474067688: 100%|██████████| 14/14 [00:01<00:00, 11.15it/s]\n"
     ]
    },
    {
     "name": "stdout",
     "output_type": "stream",
     "text": [
      "{\n",
      "  \"Statistical parity\": 0.31967878341674805,\n",
      "  \"Equal opportunity\": 0.880634605884552,\n",
      "  \"Positive predictive parity\": 1.0,\n",
      "  \"Negative predictive parity\": 0.3621465174567673\n",
      "}\n",
      "Model 6\n",
      "Max part 15128, Min part 1179\n",
      "Initial model accuracy is 0.23622627556324005\n"
     ]
    },
    {
     "name": "stderr",
     "output_type": "stream",
     "text": [
      "batch: 100%|██████████| 56/56 [00:00<00:00, 469.20it/s]\n",
      "batch: 100%|██████████| 56/56 [00:00<00:00, 279.80it/s]uracy is 0.23622627556324005 and train 0.7379134893417358:   7%|▋         | 1/14 [00:00<00:01,  7.76it/s]\n",
      "batch: 100%|██████████| 56/56 [00:00<00:00, 743.18it/s]uracy is 0.23622627556324005 and train 0.7820186614990234:  14%|█▍        | 2/14 [00:00<00:02,  5.32it/s]\n",
      "batch: 100%|██████████| 56/56 [00:00<00:00, 690.36it/s]uracy is 0.7965112924575806 and train 0.8148148059844971:  14%|█▍        | 2/14 [00:00<00:02,  5.32it/s] \n",
      "batch: 100%|██████████| 56/56 [00:00<00:00, 723.92it/s]racy is 0.78471839427948 and train 0.8199038505554199:  29%|██▊       | 4/14 [00:00<00:01,  8.03it/s]   \n",
      "batch: 100%|██████████| 56/56 [00:00<00:00, 708.40it/s]uracy is 0.7764879465103149 and train 0.8405428528785706:  29%|██▊       | 4/14 [00:00<00:01,  8.03it/s]\n",
      "batch: 100%|██████████| 56/56 [00:00<00:00, 741.40it/s]racy is 0.7755666375160217 and train 0.8453491926193237:  43%|████▎     | 6/14 [00:00<00:00,  9.38it/s] \n",
      "batch: 100%|██████████| 56/56 [00:00<00:00, 713.08it/s]racy is 0.7747067213058472 and train 0.8478937149047852:  43%|████▎     | 6/14 [00:00<00:00,  9.38it/s]\n",
      "batch: 100%|██████████| 56/56 [00:00<00:00, 771.79it/s]uracy is 0.7742767930030823 and train 0.8518518805503845:  57%|█████▋    | 8/14 [00:00<00:00, 10.16it/s]\n",
      "batch: 100%|██████████| 56/56 [00:00<00:00, 777.87it/s]racy is 0.7738468050956726 and train 0.8555272817611694:  57%|█████▋    | 8/14 [00:00<00:00, 10.16it/s] \n",
      "batch: 100%|██████████| 56/56 [00:00<00:00, 739.37it/s]uracy is 0.7740311026573181 and train 0.8577890992164612:  71%|███████▏  | 10/14 [00:01<00:00, 10.83it/s]\n",
      "batch: 100%|██████████| 56/56 [00:00<00:00, 718.22it/s]uracy is 0.7738468050956726 and train 0.8603336215019226:  71%|███████▏  | 10/14 [00:01<00:00, 10.83it/s]\n",
      "batch: 100%|██████████| 56/56 [00:00<00:00, 724.68it/s]curacy is 0.773908257484436 and train 0.8637263178825378:  86%|████████▌ | 12/14 [00:01<00:00, 11.13it/s]\n",
      "batch: 100%|██████████| 56/56 [00:00<00:00, 769.23it/s]uracy is 0.7739696502685547 and train 0.8665536046028137:  86%|████████▌ | 12/14 [00:01<00:00, 11.13it/s]\n",
      "Loss 0.3514058589935303 At the end of epoch 13 test accuracy is 0.7740311026573181 and train 0.8679671883583069: 100%|██████████| 14/14 [00:01<00:00, 10.16it/s]\n"
     ]
    },
    {
     "name": "stdout",
     "output_type": "stream",
     "text": [
      "{\n",
      "  \"Statistical parity\": 0.4510788023471832,\n",
      "  \"Equal opportunity\": 1.1339678764343262,\n",
      "  \"Positive predictive parity\": 0.9125705076551167,\n",
      "  \"Negative predictive parity\": 0.35795594610581505\n",
      "}\n",
      "Model 7\n",
      "Max part 15128, Min part 1179\n",
      "Initial model accuracy is 0.22486333549022675\n"
     ]
    },
    {
     "name": "stderr",
     "output_type": "stream",
     "text": [
      "batch: 100%|██████████| 56/56 [00:00<00:00, 619.61it/s]\n",
      "batch: 100%|██████████| 56/56 [00:00<00:00, 750.17it/s]racy is 0.7637737393379211 and train 0.6915464997291565:   0%|          | 0/14 [00:00<?, ?it/s]\n",
      "batch: 100%|██████████| 56/56 [00:00<00:00, 759.17it/s]uracy is 0.7637737393379211 and train 0.7791914343833923:  14%|█▍        | 2/14 [00:00<00:01, 10.97it/s]\n",
      "batch: 100%|██████████| 56/56 [00:00<00:00, 675.77it/s]uracy is 0.7650635838508606 and train 0.8066157698631287:  14%|█▍        | 2/14 [00:00<00:01, 10.97it/s]\n",
      "batch: 100%|██████████| 56/56 [00:00<00:00, 731.48it/s]uracy is 0.7664762735366821 and train 0.8252756595611572:  29%|██▊       | 4/14 [00:00<00:00, 11.33it/s]\n",
      "batch: 100%|██████████| 56/56 [00:00<00:00, 721.35it/s]racy is 0.7675818204879761 and train 0.8348883390426636:  29%|██▊       | 4/14 [00:00<00:00, 11.33it/s] \n",
      "batch: 100%|██████████| 56/56 [00:00<00:00, 714.84it/s]racy is 0.7685031890869141 and train 0.841673731803894:  43%|████▎     | 6/14 [00:00<00:00, 11.50it/s] \n",
      "batch: 100%|██████████| 56/56 [00:00<00:00, 770.49it/s]racy is 0.768933117389679 and train 0.8461973667144775:  43%|████▎     | 6/14 [00:00<00:00, 11.50it/s]\n",
      "batch: 100%|██████████| 56/56 [00:00<00:00, 757.26it/s]racy is 0.7692402005195618 and train 0.8490245938301086:  57%|█████▋    | 8/14 [00:00<00:00, 11.62it/s]\n",
      "batch: 100%|██████████| 56/56 [00:00<00:00, 737.18it/s]uracy is 0.7693630456924438 and train 0.8504382371902466:  57%|█████▋    | 8/14 [00:00<00:00, 11.62it/s]\n",
      "batch: 100%|██████████| 56/56 [00:00<00:00, 746.75it/s]uracy is 0.7695473432540894 and train 0.8541136384010315:  71%|███████▏  | 10/14 [00:00<00:00, 11.73it/s]\n",
      "batch: 100%|██████████| 56/56 [00:00<00:00, 752.94it/s]uracy is 0.7696701884269714 and train 0.8555272817611694:  71%|███████▏  | 10/14 [00:00<00:00, 11.73it/s]\n",
      "batch: 100%|██████████| 56/56 [00:00<00:00, 691.63it/s]curacy is 0.770161509513855 and train 0.857223629951477:  86%|████████▌ | 12/14 [00:01<00:00, 11.77it/s] \n",
      "batch: 100%|██████████| 56/56 [00:00<00:00, 452.04it/s]uracy is 0.7702843546867371 and train 0.8603336215019226:  86%|████████▌ | 12/14 [00:01<00:00, 11.77it/s]\n",
      "Loss 0.21041354537010193 At the end of epoch 13 test accuracy is 0.7706528902053833 and train 0.8634436130523682: 100%|██████████| 14/14 [00:01<00:00, 11.10it/s]\n"
     ]
    },
    {
     "name": "stdout",
     "output_type": "stream",
     "text": [
      "{\n",
      "  \"Statistical parity\": 0.3338867425918579,\n",
      "  \"Equal opportunity\": 0.9197739958763123,\n",
      "  \"Positive predictive parity\": 1.0,\n",
      "  \"Negative predictive parity\": 0.3617452194990573\n",
      "}\n",
      "Model 8\n",
      "Max part 15128, Min part 1179\n",
      "Initial model accuracy is 0.23622627556324005\n"
     ]
    },
    {
     "name": "stderr",
     "output_type": "stream",
     "text": [
      "batch: 100%|██████████| 56/56 [00:00<00:00, 400.90it/s]\n",
      "batch: 100%|██████████| 56/56 [00:00<00:00, 692.47it/s]racy is 0.7705914974212646 and train 0.7161436080932617:   7%|▋         | 1/14 [00:00<00:02,  6.49it/s]\n",
      "batch: 100%|██████████| 56/56 [00:00<00:00, 763.26it/s]racy is 0.7696701884269714 and train 0.7820186614990234:   7%|▋         | 1/14 [00:00<00:02,  6.49it/s]\n",
      "batch: 100%|██████████| 56/56 [00:00<00:00, 751.17it/s]racy is 0.7697315812110901 and train 0.8134011626243591:  21%|██▏       | 3/14 [00:00<00:01,  9.63it/s]\n",
      "batch: 100%|██████████| 56/56 [00:00<00:00, 732.05it/s]racy is 0.7700387239456177 and train 0.8278201818466187:  21%|██▏       | 3/14 [00:00<00:01,  9.63it/s]\n",
      "batch: 100%|██████████| 56/56 [00:00<00:00, 731.05it/s]uracy is 0.7702843546867371 and train 0.8348883390426636:  36%|███▌      | 5/14 [00:00<00:00, 10.67it/s]\n",
      "batch: 100%|██████████| 56/56 [00:00<00:00, 727.39it/s]racy is 0.7704071998596191 and train 0.8436527848243713:  36%|███▌      | 5/14 [00:00<00:00, 10.67it/s] \n",
      "batch: 100%|██████████| 56/56 [00:00<00:00, 679.16it/s]racy is 0.7705300450325012 and train 0.8481764197349548:  50%|█████     | 7/14 [00:00<00:00, 11.07it/s]\n",
      "batch: 100%|██████████| 56/56 [00:00<00:00, 678.05it/s]racy is 0.7705914974212646 and train 0.8484591245651245:  50%|█████     | 7/14 [00:00<00:00, 11.07it/s]\n",
      "batch: 100%|██████████| 56/56 [00:00<00:00, 410.23it/s]racy is 0.7707757353782654 and train 0.8527000546455383:  64%|██████▍   | 9/14 [00:00<00:00, 11.02it/s]\n",
      "batch: 100%|██████████| 56/56 [00:00<00:00, 582.19it/s]uracy is 0.7709600329399109 and train 0.8541136384010315:  64%|██████▍   | 9/14 [00:00<00:00, 11.02it/s]\n",
      "batch: 100%|██████████| 56/56 [00:00<00:00, 698.00it/s]curacy is 0.7711442708969116 and train 0.8569409251213074:  79%|███████▊  | 11/14 [00:01<00:00,  9.69it/s]\n",
      "batch: 100%|██████████| 56/56 [00:00<00:00, 690.43it/s]uracy is 0.7713285684585571 and train 0.8603336215019226:  79%|███████▊  | 11/14 [00:01<00:00,  9.69it/s] \n",
      "batch: 100%|██████████| 56/56 [00:00<00:00, 722.32it/s]racy is 0.7714514136314392 and train 0.8620299696922302:  93%|█████████▎| 13/14 [00:01<00:00, 10.12it/s] \n",
      "Loss 0.4150415062904358 At the end of epoch 13 test accuracy is 0.7719427347183228 and train 0.8625954389572144: 100%|██████████| 14/14 [00:01<00:00, 10.22it/s]\n"
     ]
    },
    {
     "name": "stdout",
     "output_type": "stream",
     "text": [
      "{\n",
      "  \"Statistical parity\": 0.37562254071235657,\n",
      "  \"Equal opportunity\": 1.034745693206787,\n",
      "  \"Positive predictive parity\": 1.0,\n",
      "  \"Negative predictive parity\": 0.3602165205918386\n",
      "}\n",
      "Model 9\n",
      "Max part 15128, Min part 1179\n",
      "Initial model accuracy is 0.23561206459999084\n"
     ]
    },
    {
     "name": "stderr",
     "output_type": "stream",
     "text": [
      "batch: 100%|██████████| 56/56 [00:00<00:00, 684.40it/s]\n",
      "batch: 100%|██████████| 56/56 [00:00<00:00, 762.12it/s]racy is 0.23622627556324005 and train 0.7531806826591492:   0%|          | 0/14 [00:00<?, ?it/s]\n",
      "batch: 100%|██████████| 56/56 [00:00<00:00, 710.14it/s]uracy is 0.7701001167297363 and train 0.7797568440437317:  14%|█▍        | 2/14 [00:00<00:01, 11.65it/s]\n",
      "batch: 100%|██████████| 56/56 [00:00<00:00, 753.28it/s]racy is 0.7702229619026184 and train 0.8037885427474976:  14%|█▍        | 2/14 [00:00<00:01, 11.65it/s] \n",
      "batch: 100%|██████████| 56/56 [00:00<00:00, 770.19it/s]uracy is 0.7704071998596191 and train 0.816228449344635:  29%|██▊       | 4/14 [00:00<00:00, 11.72it/s]\n",
      "batch: 100%|██████████| 56/56 [00:00<00:00, 772.87it/s]racy is 0.7704686522483826 and train 0.8272547125816345:  29%|██▊       | 4/14 [00:00<00:00, 11.72it/s]\n",
      "batch: 100%|██████████| 56/56 [00:00<00:00, 783.02it/s]racy is 0.7705914974212646 and train 0.841673731803894:  43%|████▎     | 6/14 [00:00<00:00, 12.02it/s] \n",
      "batch: 100%|██████████| 56/56 [00:00<00:00, 722.86it/s]racy is 0.7707757353782654 and train 0.8450664281845093:  43%|████▎     | 6/14 [00:00<00:00, 12.02it/s]\n",
      "batch: 100%|██████████| 56/56 [00:00<00:00, 712.93it/s]uracy is 0.7707757353782654 and train 0.8481764197349548:  57%|█████▋    | 8/14 [00:00<00:00, 12.03it/s]\n",
      "batch: 100%|██████████| 56/56 [00:00<00:00, 710.10it/s]racy is 0.7709600329399109 and train 0.8504382371902466:  57%|█████▋    | 8/14 [00:00<00:00, 12.03it/s] \n",
      "batch: 100%|██████████| 56/56 [00:00<00:00, 492.92it/s]racy is 0.771205723285675 and train 0.8546791076660156:  71%|███████▏  | 10/14 [00:00<00:00, 11.82it/s]\n",
      "batch: 100%|██████████| 56/56 [00:00<00:00, 455.86it/s]uracy is 0.7712671160697937 and train 0.8552445769309998:  71%|███████▏  | 10/14 [00:00<00:00, 11.82it/s]\n",
      "batch: 100%|██████████| 56/56 [00:00<00:00, 674.41it/s]curacy is 0.7715741991996765 and train 0.8569409251213074:  86%|████████▌ | 12/14 [00:01<00:00,  9.90it/s]\n",
      "batch: 100%|██████████| 56/56 [00:00<00:00, 666.11it/s]uracy is 0.7716970443725586 and train 0.8608990907669067:  86%|████████▌ | 12/14 [00:01<00:00,  9.90it/s] \n",
      "Loss 0.4646194279193878 At the end of epoch 13 test accuracy is 0.7720041871070862 and train 0.8631608486175537: 100%|██████████| 14/14 [00:01<00:00, 10.81it/s]\n"
     ]
    },
    {
     "name": "stdout",
     "output_type": "stream",
     "text": [
      "{\n",
      "  \"Statistical parity\": 0.3722984790802002,\n",
      "  \"Equal opportunity\": 1.0255887508392334,\n",
      "  \"Positive predictive parity\": 1.0,\n",
      "  \"Negative predictive parity\": 0.36029760431764885\n",
      "}\n"
     ]
    }
   ],
   "source": [
    "exp3_fairness_data = {\"Train Accuracy\": [], \"Test Accuracy\": []}\n",
    "torch.manual_seed(42)\n",
    "for i in range(10):\n",
    "    print(f\"Model {i}\")\n",
    "    model = SimpleLinear(in_dim=103, out_dim=2)\n",
    "    model.to(DEVICE)\n",
    "    optim = torch.optim.AdamW(params=model.parameters(), lr=1e-3, weight_decay=0.1)\n",
    "\n",
    "    gr_a_data = train_df[train_df[PROTECTED_ATTRIBUTE[0]]]\n",
    "    gr_b_data = train_df[train_df[PROTECTED_ATTRIBUTE[1]]]\n",
    "\n",
    "    gr_a_neg = gr_a_data[np.logical_not(gr_a_data[TARGET].to_numpy().astype(np.bool))]\n",
    "    gr_a_pos = gr_a_data[gr_a_data[TARGET].to_numpy().astype(np.bool)]\n",
    "\n",
    "\n",
    "    gr_b_neg = gr_b_data[np.logical_not(gr_b_data[TARGET].to_numpy().astype(np.bool))]\n",
    "    gr_b_pos = gr_b_data[gr_b_data[TARGET].to_numpy().astype(np.bool)]\n",
    "\n",
    "\n",
    "    max_len = max(len(gr_a_neg), len(gr_a_pos), len(gr_b_neg), len(gr_b_pos))\n",
    "    min_len = min(len(gr_a_neg), len(gr_a_pos), len(gr_b_neg), len(gr_b_pos))\n",
    "\n",
    "    print(f\"Max part {max_len}, Min part {min_len}\")\n",
    "\n",
    "    gr_a_neg = gr_a_neg.iloc[:min_len]\n",
    "    gr_a_pos = gr_a_pos.iloc[:min_len]\n",
    "\n",
    "\n",
    "    gr_b_neg = gr_b_neg.iloc[:min_len]\n",
    "    gr_b_pos = gr_b_pos.iloc[:min_len]\n",
    "\n",
    "\n",
    "    ballanced_train_df = pd.concat([gr_a_neg, gr_a_pos, gr_b_neg], axis=0)\n",
    "\n",
    "    final_acc_test, final_acc_train = train(\n",
    "        model=model,\n",
    "        optimizer=optim,\n",
    "        train_df=ballanced_train_df,\n",
    "        test_df=test_df,\n",
    "        num_epochs=14,\n",
    "        batch_size=64,\n",
    "        device=DEVICE,\n",
    "    )\n",
    "    res = analyze_fairness(model=model, test_df=test_df)\n",
    "    for k, v in res.items():\n",
    "        if k not in exp3_fairness_data:\n",
    "            exp3_fairness_data[k] = []\n",
    "        exp3_fairness_data[k].append(v)\n",
    "    exp3_fairness_data[\"Test Accuracy\"].append(final_acc_test)\n",
    "    exp3_fairness_data[\"Train Accuracy\"].append(final_acc_train)"
   ]
  },
  {
   "cell_type": "code",
   "execution_count": null,
   "metadata": {},
   "outputs": [],
   "source": [
    "import matplotlib.pyplot as plt\n",
    "import numpy as np\n",
    "import json\n",
    "\n",
    "def plot_data(data):\n",
    "\n",
    "    names = []\n",
    "    values = []\n",
    "    stds = []\n",
    "\n",
    "    brief_results = {}\n",
    "\n",
    "    for k, v in data.items():\n",
    "        names.append(k)\n",
    "        values.append(np.mean(v))\n",
    "        stds.append(np.std(v))\n",
    "        brief_results[k] = {\n",
    "            \"value\": f\"{values[-1]*100:.1f}% +- {stds[-1]*100:.1f}\"\n",
    "        }\n",
    "\n",
    "    plt.figure(figsize=(16, 8))\n",
    "    plt.bar(names, values)\n",
    "    plt.errorbar(\n",
    "        names,\n",
    "        values,\n",
    "        stds,\n",
    "        fmt=\".\",\n",
    "        color=\"Black\",\n",
    "        elinewidth=2,\n",
    "        capthick=10,\n",
    "        errorevery=1,\n",
    "        alpha=0.5,\n",
    "        ms=4,\n",
    "        capsize=2,\n",
    "    )\n",
    "    plt.ylim(0, 2)\n",
    "    plt.show()\n",
    "    print(json.dumps(brief_results, indent=2))\n",
    "\n",
    "\n",
    "exp1_data = {'Train Accuracy': [0.834065318107605, 0.8333589434623718, 0.834157407283783, 0.8343417048454285, 0.8336353302001953, 0.8343724012374878, 0.8334817886352539, 0.8336967825889587, 0.8335431814193726, 0.8340960144996643], 'Test Accuracy': [0.7747067213058472, 0.7713899612426758, 0.7725569605827332, 0.7734168767929077, 0.7738468050956726, 0.7728641033172607, 0.7724341154098511, 0.7724341154098511, 0.7723727226257324, 0.7738468050956726], 'Statistical parity': [0.4678412973880768, 0.36250558495521545, 0.3974842131137848, 0.4323713183403015, 0.4167982041835785, 0.4006640911102295, 0.3505810499191284, 0.3448338210582733, 0.3877394497394562, 0.4167982041835785], 'Equal opportunity': [1.062596082687378, 0.9986118078231812, 1.0768085718154907, 1.1446077823638916, 1.07306969165802, 1.086347222328186, 0.9657626152038574, 0.9577811360359192, 1.048998475074768, 1.07306969165802], 'Positive predictive parity': [0.8244943462334766, 1.0, 0.9834146341463414, 0.9609876543209878, 0.9345878136200716, 0.984251968503937, 1.0, 1.0082644628099173, 0.9820936639118457, 0.9345878136200716], 'Negative predictive parity': [0.35884510625678007, 0.3607809019333084, 0.35937319956833413, 0.3581034549673406, 0.358870683117837, 0.3591295634636784, 0.3608666383219954, 0.36091452537066565, 0.35977882449313947, 0.358870683117837]}\n",
    "\n",
    "\n",
    "plot_data(exp1_data)\n",
    "\n",
    "\n",
    "exp2_data = {'Train Accuracy': [0.8384877443313599, 0.8378121256828308, 0.837136447429657, 0.8367372155189514, 0.8370442986488342, 0.8375356793403625, 0.8368293642997742, 0.8361843824386597, 0.8360001444816589, 0.8379349708557129], 'Test Accuracy': [0.7942386865615845, 0.7944843769073486, 0.7860696315765381, 0.7919660806655884, 0.7821387052536011, 0.7943615317344666, 0.7874823212623596, 0.7842884063720703, 0.7756894826889038, 0.780541718006134], 'Statistical parity': [0.472120076417923, 0.47817161679267883, 0.528006911277771, 0.4989258348941803, 0.5171970725059509, 0.46131211519241333, 0.5358278751373291, 0.4839482009410858, 0.46709543466567993, 0.511639416217804], 'Equal opportunity': [1.054123044013977, 1.0569778680801392, 1.2175804376602173, 1.1467311382293701, 1.1979974508285522, 1.0392926931381226, 1.2461453676223755, 1.110563039779663, 1.1407252550125122, 1.2119375467300415], 'Positive predictive parity': [0.8105071363498328, 0.8024169766126218, 0.8370975897522333, 0.8343412312877962, 0.8408486868777874, 0.817826241555055, 0.8442313281022958, 0.8330333357333141, 0.8865301055245189, 0.859872963269815], 'Negative predictive parity': [0.34788400503695854, 0.34749543873377736, 0.34746690554394344, 0.3453928415332342, 0.35130304012282565, 0.34883313459713333, 0.3451192500476687, 0.3524256665018912, 0.3565994508991442, 0.3519566997916583]}\n",
    "\n",
    "plot_data(exp2_data)\n",
    "\n",
    "exp3_data = {'Train Accuracy': [0.8589199781417847, 0.864291787147522, 0.8625954389572144, 0.8651399612426758, 0.8614645004272461, 0.8594854474067688, 0.8679671883583069, 0.8634436130523682, 0.8625954389572144, 0.8631608486175537], 'Test Accuracy': [0.7736625671386719, 0.7721884250640869, 0.7693016529083252, 0.7694244980812073, 0.7702843546867371, 0.7704686522483826, 0.7740311026573181, 0.7706528902053833, 0.7719427347183228, 0.7720041871070862], 'Statistical parity': [0.4312703609466553, 0.36267006397247314, 0.3382229506969452, 0.3296603262424469, 0.3048531115055084, 0.31967878341674805, 0.4510788023471832, 0.3338867425918579, 0.37562254071235657, 0.3722984790802002], 'Equal opportunity': [1.1037288904190063, 0.9990648627281189, 0.9317190647125244, 0.9081313014030457, 0.8397936820983887, 0.880634605884552, 1.1339678764343262, 0.9197739958763123, 1.034745693206787, 1.0255887508392334], 'Positive predictive parity': [0.9290322580645162, 1.0, 1.0, 1.0, 1.0, 1.0, 0.9125705076551167, 1.0, 1.0, 1.0], 'Negative predictive parity': [0.35857731119055164, 0.3605411653691908, 0.36189968701779984, 0.36206034543771526, 0.36254730897368836, 0.3621465174567673, 0.35795594610581505, 0.3617452194990573, 0.3602165205918386, 0.36029760431764885]}\n",
    "\n",
    "\n",
    "plot_data(exp3_data)"
   ]
  }
 ],
 "metadata": {
  "kernelspec": {
   "display_name": ".venv",
   "language": "python",
   "name": "python3"
  },
  "language_info": {
   "codemirror_mode": {
    "name": "ipython",
    "version": 3
   },
   "file_extension": ".py",
   "mimetype": "text/x-python",
   "name": "python",
   "nbconvert_exporter": "python",
   "pygments_lexer": "ipython3",
   "version": "3.12.3"
  }
 },
 "nbformat": 4,
 "nbformat_minor": 2
}
