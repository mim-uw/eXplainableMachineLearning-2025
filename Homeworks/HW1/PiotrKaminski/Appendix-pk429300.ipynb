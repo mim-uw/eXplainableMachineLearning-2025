{
 "cells": [
  {
   "cell_type": "markdown",
   "metadata": {},
   "source": [
    "# Task 1"
   ]
  },
  {
   "cell_type": "code",
   "execution_count": 31,
   "metadata": {},
   "outputs": [
    {
     "name": "stdout",
     "output_type": "stream",
     "text": [
      "Demografic Parity. Red:  0.5 , Blue:  0.65\n",
      "Equal Opportunity. Red:  0.5 , Blue:  0.75\n",
      "Predictive Rate Parity. Red:  0.5 , Blue:  0.9230769230769231\n"
     ]
    }
   ],
   "source": [
    "import numpy as np\n",
    "\n",
    "BLUE_PER_RED = 9\n",
    "# Will use XAI, Will not use XAI\n",
    "red = np.array(\n",
    "    [[25, 25],    # Enrolled\n",
    "     [25, 25]]    # Not Enrolled\n",
    ")\n",
    "blue = np.array(\n",
    "    [[60, 5],\n",
    "     [20, 15]]\n",
    ")\n",
    "\n",
    "def demographic_parity(decision_rule):\n",
    "  positive, negative = decision_rule.sum(axis=1)\n",
    "  return positive / (positive + negative)\n",
    "\n",
    "def equal_opportunity(decision_rule):\n",
    "  true_positive, false_negative = decision_rule[0][0], decision_rule[1][0]\n",
    "  return true_positive / (true_positive + false_negative)\n",
    "\n",
    "def predictive_rate_parity(decision_rule):\n",
    "  true_positive, false_positive = decision_rule[0]\n",
    "  return true_positive / (true_positive + false_positive)\n",
    "\n",
    "print(\"Demografic Parity. Red: \", demographic_parity(red), \", Blue: \", demographic_parity(blue))\n",
    "print(\"Equal Opportunity. Red: \", equal_opportunity(red), \", Blue: \", equal_opportunity(blue))\n",
    "print(\"Predictive Rate Parity. Red: \", predictive_rate_parity(red), \", Blue: \", predictive_rate_parity(blue))"
   ]
  },
  {
   "cell_type": "code",
   "execution_count": 32,
   "metadata": {},
   "outputs": [
    {
     "name": "stdout",
     "output_type": "stream",
     "text": [
      "Whole population. Demografic Parity:  0.635 , Equal Opportunity:  0.7337662337662337 , Predictive Rate Parity:  0.889763779527559\n"
     ]
    }
   ],
   "source": [
    "def merge_populations(red, blue, blue_per_red):\n",
    "  whole_population = blue * blue_per_red + red\n",
    "  whole_population = 100 * whole_population / whole_population.sum()\n",
    "  return whole_population\n",
    "  \n",
    "whole_population = merge_populations(red, blue, BLUE_PER_RED)\n",
    "print(\"Whole population. Demografic Parity: \", demographic_parity(whole_population), \", Equal Opportunity: \", equal_opportunity(whole_population), \", Predictive Rate Parity: \", predictive_rate_parity(whole_population))"
   ]
  },
  {
   "cell_type": "code",
   "execution_count": 33,
   "metadata": {},
   "outputs": [
    {
     "name": "stdout",
     "output_type": "stream",
     "text": [
      "Blue to Red ratios:\n",
      "Demographic Parity:  1.3\n",
      "Equal Opportunity:  1.5\n",
      "Predictive Rate Parity:  1.8461538461538463\n"
     ]
    }
   ],
   "source": [
    "print(\"Blue to Red ratios:\")\n",
    "print(\"Demographic Parity: \", demographic_parity(blue) / demographic_parity(red))\n",
    "print(\"Equal Opportunity: \", equal_opportunity(blue) / equal_opportunity(red))\n",
    "print(\"Predictive Rate Parity: \", predictive_rate_parity(blue) / predictive_rate_parity(red))"
   ]
  },
  {
   "cell_type": "markdown",
   "metadata": {},
   "source": [
    "## Starred task\n",
    "The simplest way to improve the fairness (without adding complexity) is to ensure the same accept ratio in both groups, by selecting at random reds in the same proportion as blues. Demographic parity is by definition the same in both groups:"
   ]
  },
  {
   "cell_type": "code",
   "execution_count": 34,
   "metadata": {},
   "outputs": [
    {
     "name": "stdout",
     "output_type": "stream",
     "text": [
      "Blue to Red ratios:\n",
      "Demographic Parity:  1.0\n",
      "Equal Opportunity:  1.1538461538461537\n",
      "Predictive Rate Parity:  1.8461538461538463\n"
     ]
    }
   ],
   "source": [
    "blue_accept_rate = blue[0].sum() / blue.sum()\n",
    "blue_reject_rate = blue[1].sum() / blue.sum()\n",
    "\n",
    "red_dp = np.array(\n",
    "    [[blue_accept_rate / 2, blue_accept_rate / 2],\n",
    "     [blue_reject_rate / 2, blue_reject_rate / 2]]\n",
    ")\n",
    "\n",
    "print(\"Blue to Red ratios:\")\n",
    "print(\"Demographic Parity: \", demographic_parity(blue) / demographic_parity(red_dp))\n",
    "print(\"Equal Opportunity: \", equal_opportunity(blue) / equal_opportunity(red_dp))\n",
    "print(\"Predictive Rate Parity: \", predictive_rate_parity(blue) / predictive_rate_parity(red_dp))"
   ]
  },
  {
   "cell_type": "markdown",
   "metadata": {},
   "source": [
    "Alternatively, one could optimise naively for Equal Opportunity:"
   ]
  },
  {
   "cell_type": "code",
   "execution_count": 35,
   "metadata": {},
   "outputs": [
    {
     "name": "stdout",
     "output_type": "stream",
     "text": [
      "Blue to Red ratios:\n",
      "Demographic Parity:  0.8666666666666667\n",
      "Equal Opportunity:  1.0\n",
      "Predictive Rate Parity:  1.8461538461538463\n"
     ]
    }
   ],
   "source": [
    "blue_accept_rate_eo = blue[0][0] / (blue[0][0] + blue[1][0])\n",
    "blue_reject_rate_eo = 1 - blue_accept_rate_eo\n",
    "\n",
    "red_eo = np.array(\n",
    "    [[blue_accept_rate_eo / 2, blue_accept_rate_eo / 2],\n",
    "     [blue_reject_rate_eo / 2, blue_reject_rate_eo / 2]]\n",
    ")\n",
    "\n",
    "\n",
    "print(\"Blue to Red ratios:\")\n",
    "print(\"Demographic Parity: \", demographic_parity(blue) / demographic_parity(red_eo))\n",
    "print(\"Equal Opportunity: \", equal_opportunity(blue) / equal_opportunity(red_eo))\n",
    "print(\"Predictive Rate Parity: \", predictive_rate_parity(blue) / predictive_rate_parity(red_eo))"
   ]
  },
  {
   "cell_type": "markdown",
   "metadata": {},
   "source": [
    "Assuming that we have no model for red group and the best we can do is random, it is impossible to improve fairness in regard to Predictive Rate Parity, which is always going to equal:\n",
    "$$\n",
    "\\frac{TP}{TP+FP} = \\frac{acceptRate / 2}{acceptRate / 2 + acceptRate / 2} = 0.5\n",
    "$$"
   ]
  },
  {
   "cell_type": "markdown",
   "metadata": {},
   "source": [
    "One could optimise an arbitrary combination of predictive tables that optimise different metrics. Having a model that ensures PRP coefficient, the problem would be to find the beest convex combination of the three matrices"
   ]
  },
  {
   "cell_type": "code",
   "execution_count": 36,
   "metadata": {},
   "outputs": [
    {
     "data": {
      "image/png": "[encoded data removed]",
      "text/plain": [
       "<Figure size 640x480 with 1 Axes>"
      ]
     },
     "metadata": {},
     "output_type": "display_data"
    },
    {
     "name": "stdout",
     "output_type": "stream",
     "text": [
      "PRP max and min: 1.8461538461538463 1.8461538461538463  are equal\n"
     ]
    }
   ],
   "source": [
    "x = np.linspace(0, 1, 100)\n",
    "\n",
    "def dp_combination(x):\n",
    "    red_res_dp = np.array([demographic_parity(xx * red_dp + (1 - xx) * red_eo) for xx in x])\n",
    "    return demographic_parity(blue) / red_res_dp\n",
    "\n",
    "def eo_combination(x):\n",
    "    red_res_eo = np.array([equal_opportunity(xx * red_dp + (1 - xx) * red_eo) for xx in x])\n",
    "    return equal_opportunity(blue) / red_res_eo\n",
    "\n",
    "def prp_combination(x):\n",
    "    red_res_prp = np.array([predictive_rate_parity(xx * red_dp + (1 - xx) * red_eo) for xx in x])\n",
    "    return predictive_rate_parity(blue) / red_res_prp\n",
    "\n",
    "\n",
    "import matplotlib.pyplot as plt\n",
    "plt.plot(x, dp_combination(x), label='Demographic Parity')\n",
    "plt.plot(x, eo_combination(x), label='Equal Opportunity')\n",
    "plt.legend()\n",
    "plt.show()\n",
    "\n",
    "print(\"PRP max and min:\", prp_combination(x).max(), prp_combination(x).min(), \" are equal\")\n"
   ]
  },
  {
   "cell_type": "markdown",
   "metadata": {},
   "source": [
    "# Task 2\n",
    "\n",
    "## Training a model\n",
    "\n",
    "### Data Preparation\n",
    "\n",
    "For the second task I've used the compas dataset"
   ]
  },
  {
   "cell_type": "code",
   "execution_count": 37,
   "metadata": {},
   "outputs": [],
   "source": [
    "import pandas as pd\n",
    "import numpy as np\n",
    "from sklearn.model_selection import train_test_split\n",
    "from sklearn.metrics import accuracy_score\n",
    "from sklearn.linear_model import LogisticRegression\n",
    "\n",
    "data = pd.read_csv('datasets/compas/raw/compas-scores-two-years.csv')"
   ]
  },
  {
   "cell_type": "code",
   "execution_count": 38,
   "metadata": {},
   "outputs": [],
   "source": [
    "def load_compas_data(df):\n",
    "    features_to_keep = [\"sex\",\"age\",\"age_cat\",\"race\",\"juv_fel_count\",\"juv_misd_count\",\"juv_other_count\",\"priors_count\",\"c_charge_degree\",\"two_year_recid\"] #\"c_charge_desc\",\n",
    "    categorical_features = [\"age_cat\", \"c_charge_degree\", \"sex\", \"race\"]\n",
    "\n",
    "    df = df[df[\"days_b_screening_arrest\"] <= 30]\n",
    "    df = df[df[\"days_b_screening_arrest\"] >= -30]\n",
    "    df = df[df[\"is_recid\"] != -1]\n",
    "    df = df[df[\"c_charge_degree\"] != \"O\"]\n",
    "    df = df[df[\"score_text\"] != \"N/A\"]\n",
    "\n",
    "    predictive = df[features_to_keep]\n",
    "    # Favorable outcome == 1. Not recidivating within two years == 1\n",
    "    y = (predictive[\"two_year_recid\"] != 1).astype(int).to_frame()\n",
    "    X = predictive.drop(columns=[\"two_year_recid\"])\n",
    "    X = pd.get_dummies(X, columns=categorical_features, drop_first=True)\n",
    "    df = pd.get_dummies(df, columns=categorical_features, drop_first=True)\n",
    "\n",
    "    uint8_cols = X.select_dtypes(exclude=\"uint8\").columns\n",
    "    X[uint8_cols] = X[uint8_cols].astype(\"float32\")\n",
    "\n",
    "    return X, y, df"
   ]
  },
  {
   "cell_type": "code",
   "execution_count": 39,
   "metadata": {},
   "outputs": [],
   "source": [
    "train_set, test_set = train_test_split(data, test_size=0.2, random_state=42)\n",
    "train_data, train_results, all_train = load_compas_data(train_set)\n",
    "test_data, test_results, all_test = load_compas_data(test_set)"
   ]
  },
  {
   "cell_type": "code",
   "execution_count": 40,
   "metadata": {},
   "outputs": [
    {
     "data": {
      "text/html": [
       "<style>#sk-container-id-3 {color: black;background-color: white;}#sk-container-id-3 pre{padding: 0;}#sk-container-id-3 div.sk-toggleable {background-color: white;}#sk-container-id-3 label.sk-toggleable__label {cursor: pointer;display: block;width: 100%;margin-bottom: 0;padding: 0.3em;box-sizing: border-box;text-align: center;}#sk-container-id-3 label.sk-toggleable__label-arrow:before {content: \"▸\";float: left;margin-right: 0.25em;color: #696969;}#sk-container-id-3 label.sk-toggleable__label-arrow:hover:before {color: black;}#sk-container-id-3 div.sk-estimator:hover label.sk-toggleable__label-arrow:before {color: black;}#sk-container-id-3 div.sk-toggleable__content {max-height: 0;max-width: 0;overflow: hidden;text-align: left;background-color: #f0f8ff;}#sk-container-id-3 div.sk-toggleable__content pre {margin: 0.2em;color: black;border-radius: 0.25em;background-color: #f0f8ff;}#sk-container-id-3 input.sk-toggleable__control:checked~div.sk-toggleable__content {max-height: 200px;max-width: 100%;overflow: auto;}#sk-container-id-3 input.sk-toggleable__control:checked~label.sk-toggleable__label-arrow:before {content: \"▾\";}#sk-container-id-3 div.sk-estimator input.sk-toggleable__control:checked~label.sk-toggleable__label {background-color: #d4ebff;}#sk-container-id-3 div.sk-label input.sk-toggleable__control:checked~label.sk-toggleable__label {background-color: #d4ebff;}#sk-container-id-3 input.sk-hidden--visually {border: 0;clip: rect(1px 1px 1px 1px);clip: rect(1px, 1px, 1px, 1px);height: 1px;margin: -1px;overflow: hidden;padding: 0;position: absolute;width: 1px;}#sk-container-id-3 div.sk-estimator {font-family: monospace;background-color: #f0f8ff;border: 1px dotted black;border-radius: 0.25em;box-sizing: border-box;margin-bottom: 0.5em;}#sk-container-id-3 div.sk-estimator:hover {background-color: #d4ebff;}#sk-container-id-3 div.sk-parallel-item::after {content: \"\";width: 100%;border-bottom: 1px solid gray;flex-grow: 1;}#sk-container-id-3 div.sk-label:hover label.sk-toggleable__label {background-color: #d4ebff;}#sk-container-id-3 div.sk-serial::before {content: \"\";position: absolute;border-left: 1px solid gray;box-sizing: border-box;top: 0;bottom: 0;left: 50%;z-index: 0;}#sk-container-id-3 div.sk-serial {display: flex;flex-direction: column;align-items: center;background-color: white;padding-right: 0.2em;padding-left: 0.2em;position: relative;}#sk-container-id-3 div.sk-item {position: relative;z-index: 1;}#sk-container-id-3 div.sk-parallel {display: flex;align-items: stretch;justify-content: center;background-color: white;position: relative;}#sk-container-id-3 div.sk-item::before, #sk-container-id-3 div.sk-parallel-item::before {content: \"\";position: absolute;border-left: 1px solid gray;box-sizing: border-box;top: 0;bottom: 0;left: 50%;z-index: -1;}#sk-container-id-3 div.sk-parallel-item {display: flex;flex-direction: column;z-index: 1;position: relative;background-color: white;}#sk-container-id-3 div.sk-parallel-item:first-child::after {align-self: flex-end;width: 50%;}#sk-container-id-3 div.sk-parallel-item:last-child::after {align-self: flex-start;width: 50%;}#sk-container-id-3 div.sk-parallel-item:only-child::after {width: 0;}#sk-container-id-3 div.sk-dashed-wrapped {border: 1px dashed gray;margin: 0 0.4em 0.5em 0.4em;box-sizing: border-box;padding-bottom: 0.4em;background-color: white;}#sk-container-id-3 div.sk-label label {font-family: monospace;font-weight: bold;display: inline-block;line-height: 1.2em;}#sk-container-id-3 div.sk-label-container {text-align: center;}#sk-container-id-3 div.sk-container {/* jupyter's `normalize.less` sets `[hidden] { display: none; }` but bootstrap.min.css set `[hidden] { display: none !important; }` so we also need the `!important` here to be able to override the default hidden behavior on the sphinx rendered scikit-learn.org. See: https://github.com/scikit-learn/scikit-learn/issues/21755 */display: inline-block !important;position: relative;}#sk-container-id-3 div.sk-text-repr-fallback {display: none;}</style><div id=\"sk-container-id-3\" class=\"sk-top-container\"><div class=\"sk-text-repr-fallback\"><pre>LogisticRegression(max_iter=10000)</pre><b>In a Jupyter environment, please rerun this cell to show the HTML representation or trust the notebook. <br />On GitHub, the HTML representation is unable to render, please try loading this page with nbviewer.org.</b></div><div class=\"sk-container\" hidden><div class=\"sk-item\"><div class=\"sk-estimator sk-toggleable\"><input class=\"sk-toggleable__control sk-hidden--visually\" id=\"sk-estimator-id-3\" type=\"checkbox\" checked><label for=\"sk-estimator-id-3\" class=\"sk-toggleable__label sk-toggleable__label-arrow\">LogisticRegression</label><div class=\"sk-toggleable__content\"><pre>LogisticRegression(max_iter=10000)</pre></div></div></div></div></div>"
      ],
      "text/plain": [
       "LogisticRegression(max_iter=10000)"
      ]
     },
     "execution_count": 40,
     "metadata": {},
     "output_type": "execute_result"
    }
   ],
   "source": [
    "full_model = LogisticRegression(max_iter=10000)\n",
    "full_model.fit(train_data, train_results.values.ravel())"
   ]
  },
  {
   "cell_type": "code",
   "execution_count": 41,
   "metadata": {},
   "outputs": [
    {
     "name": "stdout",
     "output_type": "stream",
     "text": [
      "Train accuracy:  0.6740935790966174\n",
      "Test accuracy:  0.6931174089068826\n"
     ]
    }
   ],
   "source": [
    "test_accuracy = accuracy_score(test_results, full_model.predict(test_data))\n",
    "train_accuracy = accuracy_score(train_results, full_model.predict(train_data))\n",
    "\n",
    "print(\"Train accuracy: \", train_accuracy)\n",
    "print(\"Test accuracy: \", test_accuracy)"
   ]
  },
  {
   "cell_type": "markdown",
   "metadata": {},
   "source": [
    "## Fairness coefficients"
   ]
  },
  {
   "cell_type": "code",
   "execution_count": 42,
   "metadata": {},
   "outputs": [],
   "source": [
    "def demographic_parity(predictions, _, s):\n",
    "    stat = predictions.mean()\n",
    "    print(f\"Demographic Parity for {s}: {stat}\")\n",
    "    return stat\n",
    "    \n",
    "def equal_opportunity(predictions, y, s):\n",
    "    positive_outcome_subset = (y['two_year_recid'] == True)\n",
    "    positive_outcome_predictions = predictions[positive_outcome_subset]\n",
    "    stat = positive_outcome_predictions.mean()\n",
    "    print(f\"Equal Opportunity for {s}: {stat}\")\n",
    "    return stat\n",
    "\n",
    "def predictive_rate_parity(predictions, y, s):\n",
    "    positive_prediction_subset = (predictions == 1)\n",
    "    true_positive_subset = (y['two_year_recid'][positive_prediction_subset] == True)\n",
    "    stat = true_positive_subset.sum() / positive_prediction_subset.sum()\n",
    "    print(f\"Predictive Rate Parity for {s}: {stat}\")\n",
    "    return stat\n",
    "\n",
    "def summarize_model(model, X, y, all_data):\n",
    "    predictions = model.predict(X)\n",
    "    male_ids =  (all_data['sex_Male'] == 1)\n",
    "    female_ids =  (all_data['sex_Male'] != 1)\n",
    "\n",
    "    caucasian_ids = (all_data['race_Caucasian'] == 1)\n",
    "    non_caucasian = (all_data['race_Caucasian'] != 1)\n",
    "\n",
    "    whole_population = predictions, y, \"the whole population\"\n",
    "    males = predictions[male_ids], y[male_ids], \"males\"\n",
    "    females = predictions[female_ids], y[female_ids], \"females\"\n",
    "    caucasians = predictions[caucasian_ids], y[caucasian_ids], \"caucasians\"\n",
    "    non_caucasians = predictions[non_caucasian], y[non_caucasian], \"non caucasians\"\n",
    "\n",
    "    groups = [whole_population, males, females, caucasians, non_caucasians]\n",
    "    tests = [\n",
    "        (demographic_parity, \"DEMOGRAPHIC PARITY\"),\n",
    "        (equal_opportunity, \"EQUAL OPPORTUNITY\"),\n",
    "        (predictive_rate_parity, \"PREDICTIVE RATE PARITY\")\n",
    "    ]\n",
    "\n",
    "    results = {}\n",
    "    for test, test_name in tests:\n",
    "        print(f\"*** {test_name} ***\")\n",
    "        group_results = {}\n",
    "        for X, y, s in groups:\n",
    "            group_results[s] = test(X, y, s)\n",
    "        print(\"\\n\")\n",
    "        results[test_name] = group_results\n",
    "    return results"
   ]
  },
  {
   "cell_type": "code",
   "execution_count": 43,
   "metadata": {},
   "outputs": [
    {
     "name": "stdout",
     "output_type": "stream",
     "text": [
      "Simple Logistic Regression Model Summary\n",
      "*** DEMOGRAPHIC PARITY ***\n",
      "Demographic Parity for the whole population: 0.6089068825910932\n",
      "Demographic Parity for males: 0.5538160469667319\n",
      "Demographic Parity for females: 0.8732394366197183\n",
      "Demographic Parity for caucasians: 0.7413394919168591\n",
      "Demographic Parity for non caucasians: 0.5374064837905237\n",
      "\n",
      "\n",
      "*** EQUAL OPPORTUNITY ***\n",
      "Equal Opportunity for the whole population: 0.7675753228120517\n",
      "Equal Opportunity for males: 0.7207207207207207\n",
      "Equal Opportunity for females: 0.9507042253521126\n",
      "Equal Opportunity for caucasians: 0.8411552346570397\n",
      "Equal Opportunity for non caucasians: 0.719047619047619\n",
      "\n",
      "\n",
      "*** PREDICTIVE RATE PARITY ***\n",
      "Predictive Rate Parity for the whole population: 0.711436170212766\n",
      "Predictive Rate Parity for males: 0.7067137809187279\n",
      "Predictive Rate Parity for females: 0.7258064516129032\n",
      "Predictive Rate Parity for caucasians: 0.7258566978193146\n",
      "Predictive Rate Parity for non caucasians: 0.7006960556844548\n",
      "\n",
      "\n"
     ]
    }
   ],
   "source": [
    "print(\"Simple Logistic Regression Model Summary\")\n",
    "default_model_results = summarize_model(full_model, test_data, test_results, all_test)\n"
   ]
  },
  {
   "cell_type": "markdown",
   "metadata": {},
   "source": [
    "## Another Model -- Random Forest"
   ]
  },
  {
   "cell_type": "code",
   "execution_count": 44,
   "metadata": {},
   "outputs": [
    {
     "name": "stdout",
     "output_type": "stream",
     "text": [
      "Random Forest Model\n",
      "Train accuracy:  0.7054891634595909\n",
      "Test accuracy:  0.6890688259109312\n"
     ]
    }
   ],
   "source": [
    "from sklearn.ensemble import RandomForestClassifier\n",
    "\n",
    "random_forest_model = RandomForestClassifier(n_estimators=50, random_state=42, max_depth=8, min_samples_split=10)\n",
    "random_forest_model.fit(train_data, train_results.values.ravel())\n",
    "\n",
    "test_accuracy_rf = accuracy_score(test_results, random_forest_model.predict(test_data))\n",
    "train_accuracy_rf = accuracy_score(train_results, random_forest_model.predict(train_data))\n",
    "\n",
    "print(\"Random Forest Model\")\n",
    "print(\"Train accuracy: \", train_accuracy_rf)\n",
    "print(\"Test accuracy: \", test_accuracy_rf)"
   ]
  },
  {
   "cell_type": "code",
   "execution_count": 45,
   "metadata": {},
   "outputs": [
    {
     "name": "stdout",
     "output_type": "stream",
     "text": [
      "*** DEMOGRAPHIC PARITY ***\n",
      "Demographic Parity for the whole population: 0.5708502024291497\n",
      "Demographic Parity for males: 0.5303326810176126\n",
      "Demographic Parity for females: 0.7652582159624414\n",
      "Demographic Parity for caucasians: 0.6905311778290993\n",
      "Demographic Parity for non caucasians: 0.5062344139650873\n",
      "\n",
      "\n",
      "*** EQUAL OPPORTUNITY ***\n",
      "Equal Opportunity for the whole population: 0.7302725968436155\n",
      "Equal Opportunity for males: 0.6972972972972973\n",
      "Equal Opportunity for females: 0.8591549295774648\n",
      "Equal Opportunity for caucasians: 0.7906137184115524\n",
      "Equal Opportunity for non caucasians: 0.6904761904761905\n",
      "\n",
      "\n",
      "*** PREDICTIVE RATE PARITY ***\n",
      "Predictive Rate Parity for the whole population: 0.7219858156028369\n",
      "Predictive Rate Parity for males: 0.7140221402214022\n",
      "Predictive Rate Parity for females: 0.7484662576687117\n",
      "Predictive Rate Parity for caucasians: 0.7324414715719063\n",
      "Predictive Rate Parity for non caucasians: 0.7142857142857143\n",
      "\n",
      "\n"
     ]
    }
   ],
   "source": [
    "random_forest_results = summarize_model(random_forest_model, test_data, test_results, all_test)"
   ]
  },
  {
   "cell_type": "markdown",
   "metadata": {},
   "source": [
    "## Models with agumented data\n",
    "\n",
    "For data agumentation I've trained:\n",
    "* A logistic regression model with balanced class data\n",
    "* A logistic regression model with excluded sensitive features\n",
    "* A random forest model with excluded sensitive features"
   ]
  },
  {
   "cell_type": "code",
   "execution_count": 46,
   "metadata": {},
   "outputs": [
    {
     "name": "stdout",
     "output_type": "stream",
     "text": [
      "Balanced Logistic Regression Model\n",
      "Train accuracy:  0.6704476402673688\n",
      "Test accuracy:  0.6761133603238867\n",
      "*** DEMOGRAPHIC PARITY ***\n",
      "Demographic Parity for the whole population: 0.5174089068825911\n",
      "Demographic Parity for males: 0.4637964774951076\n",
      "Demographic Parity for females: 0.7746478873239436\n",
      "Demographic Parity for caucasians: 0.6374133949191686\n",
      "Demographic Parity for non caucasians: 0.45261845386533667\n",
      "\n",
      "\n",
      "*** EQUAL OPPORTUNITY ***\n",
      "Equal Opportunity for the whole population: 0.6714490674318508\n",
      "Equal Opportunity for males: 0.6234234234234234\n",
      "Equal Opportunity for females: 0.8591549295774648\n",
      "Equal Opportunity for caucasians: 0.740072202166065\n",
      "Equal Opportunity for non caucasians: 0.6261904761904762\n",
      "\n",
      "\n",
      "*** PREDICTIVE RATE PARITY ***\n",
      "Predictive Rate Parity for the whole population: 0.7323943661971831\n",
      "Predictive Rate Parity for males: 0.729957805907173\n",
      "Predictive Rate Parity for females: 0.7393939393939394\n",
      "Predictive Rate Parity for caucasians: 0.7427536231884058\n",
      "Predictive Rate Parity for non caucasians: 0.7245179063360881\n",
      "\n",
      "\n"
     ]
    }
   ],
   "source": [
    "balanced_model = LogisticRegression(max_iter=10000, class_weight='balanced')\n",
    "balanced_model.fit(train_data, train_results.values.ravel())\n",
    "\n",
    "test_accuracy_balanced = accuracy_score(test_results, balanced_model.predict(test_data))\n",
    "train_accuracy_balanced = accuracy_score(train_results, balanced_model.predict(train_data))\n",
    "\n",
    "print(\"Balanced Logistic Regression Model\")\n",
    "print(\"Train accuracy: \", train_accuracy_balanced)\n",
    "print(\"Test accuracy: \", test_accuracy_balanced)\n",
    "\n",
    "balanced_model_results = summarize_model(balanced_model, test_data, test_results, all_test)"
   ]
  },
  {
   "cell_type": "code",
   "execution_count": 47,
   "metadata": {},
   "outputs": [
    {
     "data": {
      "text/html": [
       "<style>#sk-container-id-4 {color: black;background-color: white;}#sk-container-id-4 pre{padding: 0;}#sk-container-id-4 div.sk-toggleable {background-color: white;}#sk-container-id-4 label.sk-toggleable__label {cursor: pointer;display: block;width: 100%;margin-bottom: 0;padding: 0.3em;box-sizing: border-box;text-align: center;}#sk-container-id-4 label.sk-toggleable__label-arrow:before {content: \"▸\";float: left;margin-right: 0.25em;color: #696969;}#sk-container-id-4 label.sk-toggleable__label-arrow:hover:before {color: black;}#sk-container-id-4 div.sk-estimator:hover label.sk-toggleable__label-arrow:before {color: black;}#sk-container-id-4 div.sk-toggleable__content {max-height: 0;max-width: 0;overflow: hidden;text-align: left;background-color: #f0f8ff;}#sk-container-id-4 div.sk-toggleable__content pre {margin: 0.2em;color: black;border-radius: 0.25em;background-color: #f0f8ff;}#sk-container-id-4 input.sk-toggleable__control:checked~div.sk-toggleable__content {max-height: 200px;max-width: 100%;overflow: auto;}#sk-container-id-4 input.sk-toggleable__control:checked~label.sk-toggleable__label-arrow:before {content: \"▾\";}#sk-container-id-4 div.sk-estimator input.sk-toggleable__control:checked~label.sk-toggleable__label {background-color: #d4ebff;}#sk-container-id-4 div.sk-label input.sk-toggleable__control:checked~label.sk-toggleable__label {background-color: #d4ebff;}#sk-container-id-4 input.sk-hidden--visually {border: 0;clip: rect(1px 1px 1px 1px);clip: rect(1px, 1px, 1px, 1px);height: 1px;margin: -1px;overflow: hidden;padding: 0;position: absolute;width: 1px;}#sk-container-id-4 div.sk-estimator {font-family: monospace;background-color: #f0f8ff;border: 1px dotted black;border-radius: 0.25em;box-sizing: border-box;margin-bottom: 0.5em;}#sk-container-id-4 div.sk-estimator:hover {background-color: #d4ebff;}#sk-container-id-4 div.sk-parallel-item::after {content: \"\";width: 100%;border-bottom: 1px solid gray;flex-grow: 1;}#sk-container-id-4 div.sk-label:hover label.sk-toggleable__label {background-color: #d4ebff;}#sk-container-id-4 div.sk-serial::before {content: \"\";position: absolute;border-left: 1px solid gray;box-sizing: border-box;top: 0;bottom: 0;left: 50%;z-index: 0;}#sk-container-id-4 div.sk-serial {display: flex;flex-direction: column;align-items: center;background-color: white;padding-right: 0.2em;padding-left: 0.2em;position: relative;}#sk-container-id-4 div.sk-item {position: relative;z-index: 1;}#sk-container-id-4 div.sk-parallel {display: flex;align-items: stretch;justify-content: center;background-color: white;position: relative;}#sk-container-id-4 div.sk-item::before, #sk-container-id-4 div.sk-parallel-item::before {content: \"\";position: absolute;border-left: 1px solid gray;box-sizing: border-box;top: 0;bottom: 0;left: 50%;z-index: -1;}#sk-container-id-4 div.sk-parallel-item {display: flex;flex-direction: column;z-index: 1;position: relative;background-color: white;}#sk-container-id-4 div.sk-parallel-item:first-child::after {align-self: flex-end;width: 50%;}#sk-container-id-4 div.sk-parallel-item:last-child::after {align-self: flex-start;width: 50%;}#sk-container-id-4 div.sk-parallel-item:only-child::after {width: 0;}#sk-container-id-4 div.sk-dashed-wrapped {border: 1px dashed gray;margin: 0 0.4em 0.5em 0.4em;box-sizing: border-box;padding-bottom: 0.4em;background-color: white;}#sk-container-id-4 div.sk-label label {font-family: monospace;font-weight: bold;display: inline-block;line-height: 1.2em;}#sk-container-id-4 div.sk-label-container {text-align: center;}#sk-container-id-4 div.sk-container {/* jupyter's `normalize.less` sets `[hidden] { display: none; }` but bootstrap.min.css set `[hidden] { display: none !important; }` so we also need the `!important` here to be able to override the default hidden behavior on the sphinx rendered scikit-learn.org. See: https://github.com/scikit-learn/scikit-learn/issues/21755 */display: inline-block !important;position: relative;}#sk-container-id-4 div.sk-text-repr-fallback {display: none;}</style><div id=\"sk-container-id-4\" class=\"sk-top-container\"><div class=\"sk-text-repr-fallback\"><pre>LogisticRegression(max_iter=10000)</pre><b>In a Jupyter environment, please rerun this cell to show the HTML representation or trust the notebook. <br />On GitHub, the HTML representation is unable to render, please try loading this page with nbviewer.org.</b></div><div class=\"sk-container\" hidden><div class=\"sk-item\"><div class=\"sk-estimator sk-toggleable\"><input class=\"sk-toggleable__control sk-hidden--visually\" id=\"sk-estimator-id-4\" type=\"checkbox\" checked><label for=\"sk-estimator-id-4\" class=\"sk-toggleable__label sk-toggleable__label-arrow\">LogisticRegression</label><div class=\"sk-toggleable__content\"><pre>LogisticRegression(max_iter=10000)</pre></div></div></div></div></div>"
      ],
      "text/plain": [
       "LogisticRegression(max_iter=10000)"
      ]
     },
     "execution_count": 47,
     "metadata": {},
     "output_type": "execute_result"
    }
   ],
   "source": [
    "model_excluding_race_sex = LogisticRegression(max_iter=10000)\n",
    "\n",
    "to_exclude = ['sex_Male', 'race_Asian', 'race_Caucasian', 'race_Hispanic', 'race_Native American', 'race_Other']\n",
    "train_ex_race_sex = train_data.drop(columns=to_exclude)\n",
    "test_ex_race_sex = test_data.drop(columns=to_exclude)\n",
    "\n",
    "model_excluding_race_sex.fit(train_ex_race_sex, train_results.values.ravel())"
   ]
  },
  {
   "cell_type": "code",
   "execution_count": 48,
   "metadata": {},
   "outputs": [
    {
     "name": "stdout",
     "output_type": "stream",
     "text": [
      "0.6923076923076923\n"
     ]
    }
   ],
   "source": [
    "test_results_ex = model_excluding_race_sex.predict(test_ex_race_sex)\n",
    "test_accuracy_excluding_race_sex = accuracy_score(test_results_ex, test_results)\n",
    "print(test_accuracy_excluding_race_sex)"
   ]
  },
  {
   "cell_type": "code",
   "execution_count": 49,
   "metadata": {},
   "outputs": [
    {
     "name": "stdout",
     "output_type": "stream",
     "text": [
      "Logistic Regression Model Summary (Excluding Racial and Sex Attributes)\n",
      "*** DEMOGRAPHIC PARITY ***\n",
      "Demographic Parity for the whole population: 0.5983805668016194\n",
      "Demographic Parity for males: 0.576320939334638\n",
      "Demographic Parity for females: 0.704225352112676\n",
      "Demographic Parity for caucasians: 0.7321016166281755\n",
      "Demographic Parity for non caucasians: 0.5261845386533666\n",
      "\n",
      "\n",
      "*** EQUAL OPPORTUNITY ***\n",
      "Equal Opportunity for the whole population: 0.757532281205165\n",
      "Equal Opportunity for males: 0.7423423423423423\n",
      "Equal Opportunity for females: 0.8169014084507042\n",
      "Equal Opportunity for caucasians: 0.8339350180505415\n",
      "Equal Opportunity for non caucasians: 0.7071428571428572\n",
      "\n",
      "\n",
      "*** PREDICTIVE RATE PARITY ***\n",
      "Predictive Rate Parity for the whole population: 0.7144790257104194\n",
      "Predictive Rate Parity for males: 0.6994906621392191\n",
      "Predictive Rate Parity for females: 0.7733333333333333\n",
      "Predictive Rate Parity for caucasians: 0.7287066246056783\n",
      "Predictive Rate Parity for non caucasians: 0.7037914691943128\n",
      "\n",
      "\n"
     ]
    }
   ],
   "source": [
    "print(\"Logistic Regression Model Summary (Excluding Racial and Sex Attributes)\")\n",
    "model_ex_race_sex_result = summarize_model(model_excluding_race_sex, test_ex_race_sex, test_results, all_test)"
   ]
  },
  {
   "cell_type": "code",
   "execution_count": 50,
   "metadata": {},
   "outputs": [
    {
     "name": "stdout",
     "output_type": "stream",
     "text": [
      "Random Forest Model Augmented\n",
      "Train accuracy:  0.7010330160016204\n",
      "Test accuracy:  0.6866396761133603\n",
      "*** DEMOGRAPHIC PARITY ***\n",
      "Demographic Parity for the whole population: 0.5603238866396761\n",
      "Demographic Parity for males: 0.5332681017612525\n",
      "Demographic Parity for females: 0.6901408450704225\n",
      "Demographic Parity for caucasians: 0.6697459584295612\n",
      "Demographic Parity for non caucasians: 0.5012468827930174\n",
      "\n",
      "\n",
      "*** EQUAL OPPORTUNITY ***\n",
      "Equal Opportunity for the whole population: 0.7187948350071736\n",
      "Equal Opportunity for males: 0.6954954954954955\n",
      "Equal Opportunity for females: 0.8098591549295775\n",
      "Equal Opportunity for caucasians: 0.776173285198556\n",
      "Equal Opportunity for non caucasians: 0.680952380952381\n",
      "\n",
      "\n",
      "*** PREDICTIVE RATE PARITY ***\n",
      "Predictive Rate Parity for the whole population: 0.7239884393063584\n",
      "Predictive Rate Parity for males: 0.708256880733945\n",
      "Predictive Rate Parity for females: 0.782312925170068\n",
      "Predictive Rate Parity for caucasians: 0.7413793103448276\n",
      "Predictive Rate Parity for non caucasians: 0.7114427860696517\n",
      "\n",
      "\n"
     ]
    }
   ],
   "source": [
    "random_forest_model_agumented = RandomForestClassifier(n_estimators=50, random_state=42, max_depth=8, min_samples_split=10)\n",
    "random_forest_model_agumented.fit(train_ex_race_sex, train_results.values.ravel())\n",
    "\n",
    "test_accuracy_rf_augmented = accuracy_score(test_results, random_forest_model_agumented.predict(test_ex_race_sex))\n",
    "train_accuracy_rf_augmented = accuracy_score(train_results, random_forest_model_agumented.predict(train_ex_race_sex))\n",
    "\n",
    "print(\"Random Forest Model Augmented\")\n",
    "print(\"Train accuracy: \", train_accuracy_rf_augmented)\n",
    "print(\"Test accuracy: \", test_accuracy_rf_augmented)\n",
    "\n",
    "random_forest_results_augmented = summarize_model(random_forest_model_agumented, test_ex_race_sex, test_results, all_test)\n"
   ]
  },
  {
   "cell_type": "markdown",
   "metadata": {},
   "source": [
    "## Summary\n",
    "\n",
    "Different model types trained on different subsets yield similiar accuracy on the test set -- this means there is some room for fairness improvement without sacrificing accuracy."
   ]
  },
  {
   "cell_type": "code",
   "execution_count": 51,
   "metadata": {},
   "outputs": [
    {
     "name": "stdout",
     "output_type": "stream",
     "text": [
      "Accuracies of models\n",
      "Simple Logistic Regression Model:  0.6931174089068826\n",
      "Random Forest Model:  0.6890688259109312\n",
      "Logistic Regression Model (excluding race/sex):  0.6923076923076923\n",
      "Random Forest Model (excluding race/sex):  0.6866396761133603\n",
      "Balanced Logistic Regression Model:  0.6761133603238867\n"
     ]
    }
   ],
   "source": [
    "print(\"Accuracies of models\")\n",
    "print(\"Simple Logistic Regression Model: \", test_accuracy)\n",
    "print(\"Random Forest Model: \", test_accuracy_rf)\n",
    "print(\"Logistic Regression Model (excluding race/sex): \", test_accuracy_excluding_race_sex)\n",
    "print(\"Random Forest Model (excluding race/sex): \", test_accuracy_rf_augmented)\n",
    "print(\"Balanced Logistic Regression Model: \", test_accuracy_balanced)"
   ]
  },
  {
   "cell_type": "code",
   "execution_count": 52,
   "metadata": {},
   "outputs": [
    {
     "name": "stdout",
     "output_type": "stream",
     "text": [
      "Female to Male ratios:\n",
      "*** DEMOGRAPHIC PARITY ***\n",
      "Simple Logistic Model:  1.5767680286666996\n",
      "Random Forest Model:  1.4429776692133118\n",
      "Logistic Regression Model (excluding race/sex):  1.2219326143618927\n",
      "Random Forest Model (excluding race/sex):  1.2941723736916912\n",
      "Balanced Logistic Model:  1.6702323646520474\n",
      "\n",
      "\n",
      "*** EQUAL OPPORTUNITY ***\n",
      "Simple Logistic Model:  1.3191021126760563\n",
      "Random Forest Model:  1.2321214106343488\n",
      "Logistic Regression Model (excluding race/sex):  1.1004375769178176\n",
      "Random Forest Model (excluding race/sex):  1.1644347953002991\n",
      "Balanced Logistic Model:  1.3781242367499797\n",
      "\n",
      "\n",
      "*** PREDICTIVE RATE PARITY ***\n",
      "Simple Logistic Model:  1.0270161290322581\n",
      "Random Forest Model:  1.0482395650037255\n",
      "Logistic Regression Model (excluding race/sex):  1.105566343042071\n",
      "Random Forest Model (excluding race/sex):  1.104560995382609\n",
      "Balanced Logistic Model:  1.0129269574356279\n",
      "\n",
      "\n"
     ]
    }
   ],
   "source": [
    "print(\"Female to Male ratios:\")\n",
    "for test in default_model_results:\n",
    "    print(f\"*** {test} ***\")\n",
    "    print(\"Simple Logistic Model: \", default_model_results[test]['females'] / default_model_results[test]['males'])\n",
    "    print(\"Random Forest Model: \", random_forest_results[test]['females'] / random_forest_results[test]['males'])\n",
    "    print(\"Logistic Regression Model (excluding race/sex): \", model_ex_race_sex_result[test]['females'] / model_ex_race_sex_result[test]['males'])\n",
    "    print(\"Random Forest Model (excluding race/sex): \", random_forest_results_augmented[test]['females'] / random_forest_results_augmented[test]['males'])\n",
    "    print(\"Balanced Logistic Model: \", balanced_model_results[test]['females'] / balanced_model_results[test]['males'])\n",
    "    print(\"\\n\")"
   ]
  },
  {
   "cell_type": "code",
   "execution_count": 53,
   "metadata": {},
   "outputs": [
    {
     "name": "stdout",
     "output_type": "stream",
     "text": [
      "Caucasian to non caucasians ratio:\n",
      "*** DEMOGRAPHIC PARITY ***\n",
      "Default Logistic Model:  1.379476270341812\n",
      "Random Forest Model:  1.364054198568812\n",
      "Logistic Model (excluding sex/race):  1.3913400391843527\n",
      "Random Forest Model (excluding race/sex):  1.3361598474141994\n",
      "Balanced Logistic Model:  1.4082797320252705\n",
      "\n",
      "\n",
      "*** EQUAL OPPORTUNITY ***\n",
      "Default Logistic Model:  1.1698185382647572\n",
      "Random Forest Model:  1.1450267645960415\n",
      "Logistic Model (excluding sex/race):  1.1793020457280383\n",
      "Random Forest Model (excluding race/sex):  1.1398348943475298\n",
      "Balanced Logistic Model:  1.181864353269001\n",
      "\n",
      "\n",
      "*** PREDICTIVE RATE PARITY ***\n",
      "Default Logistic Model:  1.0359080687421343\n",
      "Random Forest Model:  1.0254180602006688\n",
      "Logistic Model (excluding sex/race):  1.0354013319313005\n",
      "Random Forest Model (excluding race/sex):  1.0420786110441285\n",
      "Balanced Logistic Model:  1.0251694494957844\n",
      "\n",
      "\n"
     ]
    }
   ],
   "source": [
    "print(\"Caucasian to non caucasians ratio:\")\n",
    "for test in default_model_results:\n",
    "    print(f\"*** {test} ***\")\n",
    "    print(\"Default Logistic Model: \", default_model_results[test]['caucasians'] / default_model_results[test]['non caucasians'])\n",
    "    print(\"Random Forest Model: \", random_forest_results[test]['caucasians'] / random_forest_results[test]['non caucasians'])\n",
    "    print(\"Logistic Model (excluding sex/race): \", model_ex_race_sex_result[test]['caucasians'] / model_ex_race_sex_result[test]['non caucasians'])\n",
    "    print(\"Random Forest Model (excluding race/sex): \", random_forest_results_augmented[test]['caucasians'] / random_forest_results_augmented[test]['non caucasians'])\n",
    "    print(\"Balanced Logistic Model: \", balanced_model_results[test]['caucasians'] / balanced_model_results[test]['non caucasians'])\n",
    "    print(\"\\n\")"
   ]
  },
  {
   "cell_type": "markdown",
   "metadata": {},
   "source": [
    "Key observations:\n",
    "* Predictive Rate Parity was the most balanced coefficient across all the models. This means that all the models trained in this experiment, by default tend to assume the judges perspective (which is coherent with the loss function).\n",
    "\n",
    "* For ratio of fairness coefficients between females and males, the biggest improvements were achieved by simply excluding the features from the training data. This technique made all the fairness coefficient fall into \"four-fifth\" rules acceptable range. In both the random model and the logistic regression model, this improved the fairness.\n",
    "\n",
    "* Without the exclusion of the data / weighting, the fairness coefficients were in every case more balanced with the random forest model than the logistic regression. Adding additional weight to the underrepresented examples might further lower fairness, by guiding the model to focus more on the protected attributes.\n",
    "\n",
    "* While the Equal Opportunity coefficient was close-to balanced in respect to the 'race' attribute, it was not the case for sex. For the latter, this attribute must have been excluded from the training data to achieve a balanced coefficient."
   ]
  }
 ],
 "metadata": {
  "kernelspec": {
   "display_name": "base",
   "language": "python",
   "name": "python3"
  },
  "language_info": {
   "codemirror_mode": {
    "name": "ipython",
    "version": 3
   },
   "file_extension": ".py",
   "mimetype": "text/x-python",
   "name": "python",
   "nbconvert_exporter": "python",
   "pygments_lexer": "ipython3",
   "version": "3.11.7"
  }
 },
 "nbformat": 4,
 "nbformat_minor": 2
}
