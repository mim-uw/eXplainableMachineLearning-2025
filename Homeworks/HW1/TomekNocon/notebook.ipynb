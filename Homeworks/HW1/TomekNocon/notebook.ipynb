{
 "cells": [
  {
   "cell_type": "code",
   "execution_count": 4,
   "metadata": {},
   "outputs": [],
   "source": [
    "import numpy as np\n",
    "import pandas as pd"
   ]
  },
  {
   "cell_type": "markdown",
   "metadata": {},
   "source": [
    "# TASK 1"
   ]
  },
  {
   "cell_type": "code",
   "execution_count": 14,
   "metadata": {},
   "outputs": [],
   "source": [
    "RED = 100 / 9\n",
    "BLUE = 100 # Blue population being 9 times larger than the Red population"
   ]
  },
  {
   "cell_type": "code",
   "execution_count": 15,
   "metadata": {},
   "outputs": [],
   "source": [
    "column_mapping = {'Will use XAI': True, 'Will not use XAI': False,  'Enrolled in training': True, 'Not enrolled in training': False}"
   ]
  },
  {
   "cell_type": "code",
   "execution_count": 16,
   "metadata": {},
   "outputs": [],
   "source": [
    "columns = ['Will use XAI', 'Will not use XAI']\n",
    "index = ['Enrolled in training', 'Not enrolled in training']\n",
    "\n",
    "red_enrolled = RED // 4\n",
    "matrix_red = np.array([[red_enrolled, red_enrolled], [red_enrolled, red_enrolled]])\n",
    "matrix_blue = np.array([[60,5], [20, 15]])\n",
    "\n",
    "\n",
    "matrix_red = pd.DataFrame(matrix_red, columns=columns, index=index)\n",
    "matrix_blue = pd.DataFrame(matrix_blue, columns=columns, index=index)\n"
   ]
  },
  {
   "cell_type": "code",
   "execution_count": 232,
   "metadata": {},
   "outputs": [],
   "source": [
    "def deomgraphic_parity(matrix_1, matrix_2):\n",
    "    \n",
    "    def fun(matrix):\n",
    "        array = matrix\n",
    "        if isinstance(matrix, pd.DataFrame):\n",
    "            array = matrix.to_numpy()\n",
    "        numerator = array[0].sum()\n",
    "        denominator = array.sum().sum()\n",
    "        return numerator / denominator\n",
    "    \n",
    "    result_1 = fun(matrix_1)\n",
    "    result_2 = fun(matrix_2)\n",
    "    \n",
    "    return result_1 / result_2\n",
    "\n",
    "def equal_opportunity(matrix_1, matrix_2):\n",
    "    \n",
    "    def fun(matrix):\n",
    "        array = matrix\n",
    "        if isinstance(matrix, pd.DataFrame):\n",
    "            array = matrix.to_numpy()\n",
    "        numerator =  array[0, 0]\n",
    "        denominator =  array[:, 0].sum()\n",
    "        return numerator / denominator\n",
    "    result_1 = fun(matrix_1)\n",
    "    result_2 = fun(matrix_2)\n",
    "    \n",
    "    return result_1 / result_2\n",
    "\n",
    "def predictive_rate_parity(matrix_1, matrix_2):\n",
    "    \n",
    "    def fun(matrix):\n",
    "        array = matrix\n",
    "        if isinstance(matrix, pd.DataFrame):\n",
    "            array = matrix.to_numpy()\n",
    "        numerator =  array[0, 0]\n",
    "        denominator =  array[0].sum()\n",
    "        return numerator / denominator\n",
    "    result_1 = fun(matrix_1)\n",
    "    result_2 = fun(matrix_2)\n",
    "    \n",
    "    return result_1 / result_2"
   ]
  },
  {
   "cell_type": "code",
   "execution_count": 240,
   "metadata": {},
   "outputs": [],
   "source": [
    "def print_results(matrix_red, matrix_blue):\n",
    "    dp = deomgraphic_parity(matrix_red, matrix_blue)\n",
    "    eo = equal_opportunity(matrix_red, matrix_blue)\n",
    "    prp = predictive_rate_parity(matrix_red, matrix_blue)\n",
    "    \n",
    "    print(f\"\"\"\n",
    "            Demographic Parity: {dp:.4f} \\n\n",
    "            Equal Opportunity: {eo:.4f} \\n \n",
    "            Preditctive Rate Parity: {prp:.4f}\"\"\")"
   ]
  },
  {
   "cell_type": "code",
   "execution_count": 241,
   "metadata": {},
   "outputs": [
    {
     "name": "stdout",
     "output_type": "stream",
     "text": [
      "\n",
      "            Demographic Parity: 0.7692 \n",
      "\n",
      "            Equal Opportunity: 0.6667 \n",
      " \n",
      "            Preditctive Rate Parity: 0.5417\n"
     ]
    }
   ],
   "source": [
    "print_results(matrix_red, matrix_blue)"
   ]
  },
  {
   "cell_type": "markdown",
   "metadata": {},
   "source": [
    "# TASK 2"
   ]
  },
  {
   "cell_type": "code",
   "execution_count": 334,
   "metadata": {},
   "outputs": [],
   "source": [
    "from xgboost import XGBClassifier\n",
    "from sklearn.svm import SVC\n",
    "from sklearn.model_selection import train_test_split\n",
    "from dalex.fairness import resample\n",
    "from sklearn.preprocessing import LabelEncoder\n",
    "from sklearn.metrics import accuracy_score, confusion_matrix\n",
    "from sklearn.utils.class_weight import compute_sample_weight"
   ]
  },
  {
   "cell_type": "code",
   "execution_count": 260,
   "metadata": {},
   "outputs": [],
   "source": [
    "data = pd.read_csv('data/bank-additional-full.csv', delimiter=';')"
   ]
  },
  {
   "cell_type": "code",
   "execution_count": 303,
   "metadata": {},
   "outputs": [],
   "source": [
    "encoder = LabelEncoder()\n",
    "for col in data.columns:\n",
    "    if data[col].dtype == 'object':\n",
    "        data[col] = encoder.fit_transform(data[col])\n",
    "\n",
    "X = data.drop('y', axis= 1)\n",
    "y = data[['y']]\n",
    "X['less_than_65'] = X['age'] < 65"
   ]
  },
  {
   "cell_type": "code",
   "execution_count": 304,
   "metadata": {},
   "outputs": [],
   "source": [
    "X_train, X_test, y_train, y_test = train_test_split(X, y, test_size=0.2)"
   ]
  },
  {
   "cell_type": "markdown",
   "metadata": {},
   "source": [
    "# model 1"
   ]
  },
  {
   "cell_type": "code",
   "execution_count": 357,
   "metadata": {},
   "outputs": [],
   "source": [
    "index_true  = X_test['less_than_65'] == True\n",
    "index_false = X_test['less_than_65'] == False"
   ]
  },
  {
   "cell_type": "code",
   "execution_count": 358,
   "metadata": {},
   "outputs": [
    {
     "data": {
      "text/plain": [
       "0.909686817188638"
      ]
     },
     "execution_count": 358,
     "metadata": {},
     "output_type": "execute_result"
    }
   ],
   "source": [
    "xgb = XGBClassifier(eta = 0.3, max_depth = 10)\n",
    "xgb.fit(X_train, y_train)\n",
    "y_pred = xgb.predict(X_test)\n",
    "accuracy_score(y_pred, y_test)"
   ]
  },
  {
   "cell_type": "code",
   "execution_count": 359,
   "metadata": {},
   "outputs": [],
   "source": [
    "matrix_true_1 = confusion_matrix(y_test[index_true], y_pred[index_true])\n",
    "matrix_false_1 = confusion_matrix(y_test[index_false], y_pred[index_false])"
   ]
  },
  {
   "cell_type": "code",
   "execution_count": 360,
   "metadata": {},
   "outputs": [
    {
     "name": "stdout",
     "output_type": "stream",
     "text": [
      "\n",
      "            Demographic Parity: 0.6463 \n",
      "\n",
      "            Equal Opportunity: 0.8029 \n",
      " \n",
      "            Preditctive Rate Parity: 0.7314\n"
     ]
    }
   ],
   "source": [
    "print_results(matrix_false_1, matrix_true_1)"
   ]
  },
  {
   "cell_type": "markdown",
   "metadata": {},
   "source": [
    "# Model 2"
   ]
  },
  {
   "cell_type": "code",
   "execution_count": 361,
   "metadata": {},
   "outputs": [
    {
     "name": "stderr",
     "output_type": "stream",
     "text": [
      "/Users/tomeknocon/opt/anaconda3/envs/MIM/lib/python3.9/site-packages/sklearn/utils/validation.py:1183: DataConversionWarning: A column-vector y was passed when a 1d array was expected. Please change the shape of y to (n_samples, ), for example using ravel().\n",
      "  y = column_or_1d(y, warn=True)\n"
     ]
    },
    {
     "data": {
      "text/plain": [
       "0.9021607186210245"
      ]
     },
     "execution_count": 361,
     "metadata": {},
     "output_type": "execute_result"
    }
   ],
   "source": [
    "svm = SVC(kernel='rbf', C = 10)\n",
    "svm.fit(X_train, y_train)\n",
    "y_pred = svm.predict(X_test)\n",
    "accuracy_score(y_pred, y_test)"
   ]
  },
  {
   "cell_type": "code",
   "execution_count": 362,
   "metadata": {},
   "outputs": [],
   "source": [
    "matrix_true_2 = confusion_matrix(y_test[index_true], y_pred[index_true])\n",
    "matrix_false_2 = confusion_matrix(y_test[index_false], y_pred[index_false])"
   ]
  },
  {
   "cell_type": "code",
   "execution_count": 363,
   "metadata": {},
   "outputs": [
    {
     "name": "stdout",
     "output_type": "stream",
     "text": [
      "\n",
      "            Demographic Parity: 0.6463 \n",
      "\n",
      "            Equal Opportunity: 0.7275 \n",
      " \n",
      "            Preditctive Rate Parity: 0.9408\n"
     ]
    }
   ],
   "source": [
    "print_results(matrix_false_2, matrix_true_2)"
   ]
  },
  {
   "cell_type": "markdown",
   "metadata": {},
   "source": [
    "# Model 3"
   ]
  },
  {
   "cell_type": "code",
   "execution_count": 364,
   "metadata": {},
   "outputs": [
    {
     "data": {
      "text/plain": [
       "0.9127215343529983"
      ]
     },
     "execution_count": 364,
     "metadata": {},
     "output_type": "execute_result"
    }
   ],
   "source": [
    "sample_weights = compute_sample_weight('balanced', X_train['less_than_65'])\n",
    "xgb_bias_mitigation = XGBClassifier(eta = 0.3, max_depth = 10)\n",
    "xgb_bias_mitigation.fit(X_train, y_train, sample_weight=sample_weights)\n",
    "y_pred = xgb_bias_mitigation.predict(X_test)\n",
    "accuracy_score(y_pred, y_test)"
   ]
  },
  {
   "cell_type": "code",
   "execution_count": 365,
   "metadata": {},
   "outputs": [
    {
     "name": "stdout",
     "output_type": "stream",
     "text": [
      "\n",
      "            Demographic Parity: 0.6463 \n",
      "\n",
      "            Equal Opportunity: 0.8302 \n",
      " \n",
      "            Preditctive Rate Parity: 0.7922\n"
     ]
    }
   ],
   "source": [
    "matrix_true_3 = confusion_matrix(y_test[index_true], y_pred[index_true])\n",
    "matrix_false_3 = confusion_matrix(y_test[index_false], y_pred[index_false])\n",
    "\n",
    "print_results(matrix_false_3, matrix_true_3)"
   ]
  },
  {
   "cell_type": "markdown",
   "metadata": {},
   "source": [
    "# COMMENTS"
   ]
  },
  {
   "cell_type": "markdown",
   "metadata": {},
   "source": [
    "(2) For model 1 we can see that the Demographic Parity: 0.6463, which means that\n",
    "there is disparity. For model 2 Demographic Parity: 0.6463 which\n",
    "means that both models get the same result under the 4/5 treshold\n",
    "\n",
    "(3) For model 1 we can see that the Equal Opportunity: 0.8029, which means that\n",
    "there is no disparity. Interstingly for model 2 Equal Opportunity: 0.7275  which\n",
    "means that the model get result under the 4/5 treshold\n",
    "\n",
    "(4) For model 1 we can see that the Preditctive Rate Parity: 0.7314, which means\n",
    "that it did not pass the threshold. Interstingly for model 2 Preditctive Rate Parity: 0.9408 which\n",
    "means that model is in the range \n",
    "\n",
    "(5) For model 1 we use bias mittiagtion methon of weighting a data. From the\n",
    "result above we can observe that we manage to increase the in 2 out of 3 metrics.\n",
    "Still we are not in the range for Demographic Parity: 0.6463 but for Equal\n",
    "Opportunity: 0.8302 higher than recomended threshold. For last metric we\n",
    "observed a much decrease. Finally the, accuracy of a model also increased a\n",
    "lttile bit 0.9127215343529983 (0.909686817188638 before) "
   ]
  },
  {
   "cell_type": "markdown",
   "metadata": {},
   "source": []
  }
 ],
 "metadata": {
  "kernelspec": {
   "display_name": "MIM",
   "language": "python",
   "name": "python3"
  },
  "language_info": {
   "codemirror_mode": {
    "name": "ipython",
    "version": 3
   },
   "file_extension": ".py",
   "mimetype": "text/x-python",
   "name": "python",
   "nbconvert_exporter": "python",
   "pygments_lexer": "ipython3",
   "version": "3.9.18"
  }
 },
 "nbformat": 4,
 "nbformat_minor": 2
}
