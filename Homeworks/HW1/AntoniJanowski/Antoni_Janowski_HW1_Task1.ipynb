{
 "cells": [
  {
   "cell_type": "code",
   "execution_count": 8,
   "metadata": {},
   "outputs": [],
   "source": [
    "blue_total = 100\n",
    "blue_will_use_enroled = 60\n",
    "blue_not_use_enroled = 5\n",
    "blue_will_use_not_enroled = 20\n",
    "blue_not_use_not_enroled = 15\n",
    "red_total = int(blue_total/9)\n",
    "red_enroled = red_total * 0.5\n",
    "blue_enroled = 65"
   ]
  },
  {
   "cell_type": "markdown",
   "metadata": {},
   "source": [
    "Grup fairness:"
   ]
  },
  {
   "cell_type": "code",
   "execution_count": 9,
   "metadata": {},
   "outputs": [
    {
     "name": "stdout",
     "output_type": "stream",
     "text": [
      "Grup fairness =  0.7692307692307692\n"
     ]
    }
   ],
   "source": [
    "pstwo_enroled_pod_warunkiem_blue = blue_enroled/blue_total\n",
    "pstwo_enroled_pod_warunkeim_red = red_enroled/red_total\n",
    "group_fairness = pstwo_enroled_pod_warunkeim_red/pstwo_enroled_pod_warunkiem_blue\n",
    "print('Grup fairness = ', group_fairness)"
   ]
  },
  {
   "cell_type": "markdown",
   "metadata": {},
   "source": [
    "Equal oportunity:"
   ]
  },
  {
   "cell_type": "code",
   "execution_count": 12,
   "metadata": {},
   "outputs": [
    {
     "name": "stdout",
     "output_type": "stream",
     "text": [
      "Equal oportunity = 0.6666666666666666\n"
     ]
    }
   ],
   "source": [
    "EO_blue = 60/80\n",
    "EO_red = 25/50 \n",
    "Equal_oportunity = EO_red/EO_blue\n",
    "print('Equal oportunity =', Equal_oportunity)"
   ]
  },
  {
   "cell_type": "markdown",
   "metadata": {},
   "source": [
    "Predictive equality:"
   ]
  },
  {
   "cell_type": "code",
   "execution_count": 13,
   "metadata": {},
   "outputs": [
    {
     "name": "stdout",
     "output_type": "stream",
     "text": [
      "Predictive equality =  2.0\n"
     ]
    }
   ],
   "source": [
    "PE_blue = 5/20\n",
    "PE_red = 25/50\n",
    "predictive_equality = PE_red/PE_blue\n",
    "print('Predictive equality = ', predictive_equality)"
   ]
  }
 ],
 "metadata": {
  "kernelspec": {
   "display_name": "Python 3",
   "language": "python",
   "name": "python3"
  },
  "language_info": {
   "codemirror_mode": {
    "name": "ipython",
    "version": 3
   },
   "file_extension": ".py",
   "mimetype": "text/x-python",
   "name": "python",
   "nbconvert_exporter": "python",
   "pygments_lexer": "ipython3",
   "version": "3.9.13"
  }
 },
 "nbformat": 4,
 "nbformat_minor": 2
}
