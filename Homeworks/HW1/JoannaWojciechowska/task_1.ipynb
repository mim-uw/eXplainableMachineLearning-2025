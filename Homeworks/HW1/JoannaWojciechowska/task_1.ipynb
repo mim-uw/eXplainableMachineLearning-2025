{
 "cells": [
  {
   "metadata": {},
   "cell_type": "markdown",
   "source": [
    "\n",
    "## Demographic Parity\n"
   ],
   "id": "2b78bccef0a6cd7"
  },
  {
   "metadata": {
    "ExecuteTime": {
     "end_time": "2024-10-18T17:56:09.917004Z",
     "start_time": "2024-10-18T17:56:09.911391Z"
    }
   },
   "cell_type": "code",
   "source": [
    "all_blue = 100\n",
    "enrolled_blue = 60 + 5\n",
    "p_enrolled_cond_blue = enrolled_blue / all_blue\n",
    "p_enrolled_cond_blue"
   ],
   "id": "5de923d613ef113d",
   "outputs": [
    {
     "data": {
      "text/plain": [
       "0.65"
      ]
     },
     "execution_count": 1,
     "metadata": {},
     "output_type": "execute_result"
    }
   ],
   "execution_count": 1
  },
  {
   "metadata": {},
   "cell_type": "markdown",
   "source": "For the Red group, we'll follow the assumption that 50% of Red people are randomly selected for training. Red people make up 1/9th the population, so let’s assume:",
   "id": "325d005dda170ad5"
  },
  {
   "metadata": {
    "ExecuteTime": {
     "end_time": "2024-10-18T17:56:10.647193Z",
     "start_time": "2024-10-18T17:56:10.644032Z"
    }
   },
   "cell_type": "code",
   "source": [
    "all_red = all_blue / 9\n",
    "enrolled_red = all_red / 2\n",
    "p_enrolled_cond_red = enrolled_red / all_red\n",
    "p_enrolled_cond_red"
   ],
   "id": "9bad943cdd4bd8f8",
   "outputs": [
    {
     "data": {
      "text/plain": [
       "0.5"
      ]
     },
     "execution_count": 2,
     "metadata": {},
     "output_type": "execute_result"
    }
   ],
   "execution_count": 2
  },
  {
   "cell_type": "code",
   "id": "initial_id",
   "metadata": {
    "collapsed": true,
    "ExecuteTime": {
     "end_time": "2024-10-18T17:56:49.226023Z",
     "start_time": "2024-10-18T17:56:49.223212Z"
    }
   },
   "source": [
    "demografic_parity =  p_enrolled_cond_red / p_enrolled_cond_blue\n",
    "demografic_parity"
   ],
   "outputs": [
    {
     "data": {
      "text/plain": [
       "0.7692307692307692"
      ]
     },
     "execution_count": 4,
     "metadata": {},
     "output_type": "execute_result"
    }
   ],
   "execution_count": 4
  },
  {
   "metadata": {},
   "cell_type": "markdown",
   "source": "We'd like demographic_parity be in a range [0.8, 1.2].",
   "id": "430615eadad0e44e"
  },
  {
   "metadata": {},
   "cell_type": "markdown",
   "source": [
    "## Equal Opportunity\n",
    "\n"
   ],
   "id": "9b605b255b34c0b1"
  },
  {
   "metadata": {
    "ExecuteTime": {
     "end_time": "2024-10-18T17:58:26.302822Z",
     "start_time": "2024-10-18T17:58:26.300164Z"
    }
   },
   "cell_type": "code",
   "source": [
    "use_xai_blue = 80\n",
    "enrolled_use_xai_blue = 60\n",
    "p_enrolled_cond_use_xai_blue = enrolled_use_xai_blue / use_xai_blue\n",
    "p_enrolled_cond_use_xai_blue"
   ],
   "id": "a87119cd8eeb5e29",
   "outputs": [
    {
     "data": {
      "text/plain": [
       "0.75"
      ]
     },
     "execution_count": 5,
     "metadata": {},
     "output_type": "execute_result"
    }
   ],
   "execution_count": 5
  },
  {
   "metadata": {
    "ExecuteTime": {
     "end_time": "2024-10-18T17:58:26.881736Z",
     "start_time": "2024-10-18T17:58:26.879067Z"
    }
   },
   "cell_type": "code",
   "source": [
    "enrolled_use_xai_red = enrolled_red / 2\n",
    "use_xai_red = all_red / 2\n",
    "p_enrolled_cond_use_xai_red = enrolled_use_xai_red / use_xai_red\n",
    "p_enrolled_cond_use_xai_red"
   ],
   "id": "5fcd3d18c9e484fb",
   "outputs": [
    {
     "data": {
      "text/plain": [
       "0.5"
      ]
     },
     "execution_count": 6,
     "metadata": {},
     "output_type": "execute_result"
    }
   ],
   "execution_count": 6
  },
  {
   "metadata": {
    "ExecuteTime": {
     "end_time": "2024-10-18T17:58:27.319885Z",
     "start_time": "2024-10-18T17:58:27.317302Z"
    }
   },
   "cell_type": "code",
   "source": [
    "equal_opportunity = p_enrolled_cond_use_xai_red / p_enrolled_cond_use_xai_blue\n",
    "equal_opportunity"
   ],
   "id": "dce68715a1b73179",
   "outputs": [
    {
     "data": {
      "text/plain": [
       "0.6666666666666666"
      ]
     },
     "execution_count": 7,
     "metadata": {},
     "output_type": "execute_result"
    }
   ],
   "execution_count": 7
  },
  {
   "metadata": {},
   "cell_type": "markdown",
   "source": [
    "## Predictive Rate Parity\n",
    "\n"
   ],
   "id": "fdec2125fcfb5f12"
  },
  {
   "metadata": {
    "ExecuteTime": {
     "end_time": "2024-10-18T17:58:42.884789Z",
     "start_time": "2024-10-18T17:58:42.882005Z"
    }
   },
   "cell_type": "code",
   "source": [
    "p_enrolled_use_xai_cond_enrolled_blue = enrolled_use_xai_blue / enrolled_blue\n",
    "p_enrolled_use_xai_cond_enrolled_red = enrolled_use_xai_red / enrolled_red\n",
    "predictive_rate_parity = p_enrolled_use_xai_cond_enrolled_red / p_enrolled_use_xai_cond_enrolled_blue\n",
    "predictive_rate_parity"
   ],
   "id": "a50c5f08525c88e7",
   "outputs": [
    {
     "data": {
      "text/plain": [
       "0.5416666666666666"
      ]
     },
     "execution_count": 8,
     "metadata": {},
     "output_type": "execute_result"
    }
   ],
   "execution_count": 8
  },
  {
   "metadata": {},
   "cell_type": "markdown",
   "source": [
    "To improve fairness, we can make the following changes:\n",
    "\n",
    "1. Increase Enrollment for the Red Group.\n",
    "2.  Calibrate model for Red Group:\n",
    "3. Quota System (for red, especially given their smaller population size)"
   ],
   "id": "1b4c7c24610ffddd"
  }
 ],
 "metadata": {
  "kernelspec": {
   "display_name": "Python 3",
   "language": "python",
   "name": "python3"
  },
  "language_info": {
   "codemirror_mode": {
    "name": "ipython",
    "version": 2
   },
   "file_extension": ".py",
   "mimetype": "text/x-python",
   "name": "python",
   "nbconvert_exporter": "python",
   "pygments_lexer": "ipython2",
   "version": "2.7.6"
  }
 },
 "nbformat": 4,
 "nbformat_minor": 5
}
