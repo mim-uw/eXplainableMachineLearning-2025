{
 "cells": [
  {
   "cell_type": "markdown",
   "metadata": {},
   "source": [
    "# Task 1"
   ]
  },
  {
   "cell_type": "code",
   "execution_count": 1,
   "metadata": {},
   "outputs": [],
   "source": [
    "import numpy as np"
   ]
  },
  {
   "cell_type": "code",
   "execution_count": 2,
   "metadata": {},
   "outputs": [],
   "source": [
    "# Confusion matrices\n",
    "\n",
    "# Red is classified based on uniform random choice.\n",
    "red = np.array([\n",
    "    [0.25, 0.25],\n",
    "    [0.25, 0.25],\n",
    "])\n",
    "\n",
    "blue = np.array([\n",
    "    [0.60, 0.05],\n",
    "    [0.20, 0.15]\n",
    "])\n",
    "\n",
    "def TP(x):\n",
    "    return x[0, 0]\n",
    "\n",
    "def FP(x):\n",
    "    return x[0, 1]\n",
    "\n",
    "def FN(x):\n",
    "    return x[1, 0]\n",
    "\n",
    "def TN(x):\n",
    "    return x[1, 1]"
   ]
  },
  {
   "cell_type": "code",
   "execution_count": 3,
   "metadata": {},
   "outputs": [
    {
     "name": "stdout",
     "output_type": "stream",
     "text": [
      "demographic parity of blue vs red: 1.3\n"
     ]
    }
   ],
   "source": [
    "# Demographic parity\n",
    "\n",
    "def prob_positive(x):\n",
    "    return TP(x) + FP(x)\n",
    "\n",
    "blue_pos = prob_positive(blue)\n",
    "red_pos = prob_positive(red)\n",
    "\n",
    "print(\"demographic parity of blue vs red:\", blue_pos / red_pos)"
   ]
  },
  {
   "cell_type": "code",
   "execution_count": 4,
   "metadata": {},
   "outputs": [
    {
     "name": "stdout",
     "output_type": "stream",
     "text": [
      "opportunity of blue vs red: 1.4999999999999998\n"
     ]
    }
   ],
   "source": [
    "# Equal opportunity\n",
    "\n",
    "def opportunity(x):\n",
    "    return TP(x) / (TP(x) + FN(x))\n",
    "\n",
    "blue_opp = opportunity(blue)\n",
    "red_opp = opportunity(red)\n",
    "\n",
    "print(\"opportunity of blue vs red:\", blue_opp / red_opp)"
   ]
  },
  {
   "cell_type": "code",
   "execution_count": 5,
   "metadata": {},
   "outputs": [
    {
     "name": "stdout",
     "output_type": "stream",
     "text": [
      "positive predictive values of blue vs red: 1.846153846153846\n",
      "negative predictive values of blue vs red: 0.8571428571428572\n"
     ]
    }
   ],
   "source": [
    "# Predictive rate parity\n",
    "\n",
    "def positive_predictive_value(x):\n",
    "    return TP(x) / (TP(x) + FP(x))\n",
    "\n",
    "def negative_predictive_value(x):\n",
    "    return TN(x) / (FN(x) + TN(x))\n",
    "\n",
    "print(\"positive predictive values of blue vs red:\", positive_predictive_value(blue) / positive_predictive_value(red))\n",
    "print(\"negative predictive values of blue vs red:\", negative_predictive_value(blue) / negative_predictive_value(red))"
   ]
  },
  {
   "cell_type": "markdown",
   "metadata": {},
   "source": [
    "# Task 2\n",
    "## Key Results\n",
    "Not finished on time"
   ]
  },
  {
   "cell_type": "markdown",
   "metadata": {},
   "source": [
    "## Appendix"
   ]
  },
  {
   "cell_type": "code",
   "execution_count": 6,
   "metadata": {},
   "outputs": [],
   "source": [
    "import pandas as pd\n",
    "\n",
    "from sklearn.linear_model import LogisticRegression\n",
    "from sklearn.preprocessing import StandardScaler\n",
    "from sklearn.metrics import accuracy_score\n",
    "\n",
    "from xgboost import XGBClassifier"
   ]
  },
  {
   "cell_type": "code",
   "execution_count": 7,
   "metadata": {},
   "outputs": [],
   "source": [
    "column_names = [\n",
    "    \"age\",\n",
    "    \"workclass\",\n",
    "    \"fnlwgt\",\n",
    "    \"education\",\n",
    "    \"education_num\",\n",
    "    \"marital_status\",\n",
    "    \"occupation\",\n",
    "    \"relationship\",\n",
    "    \"race\",\n",
    "    \"sex\",\n",
    "    \"capital_gain\",\n",
    "    \"capital_loss\",\n",
    "    \"hours_per_week\",\n",
    "    \"native_country\",\n",
    "    \"income\"\n",
    "]"
   ]
  },
  {
   "cell_type": "code",
   "execution_count": 8,
   "metadata": {},
   "outputs": [
    {
     "data": {
      "text/html": [
       "<div>\n",
       "<style scoped>\n",
       "    .dataframe tbody tr th:only-of-type {\n",
       "        vertical-align: middle;\n",
       "    }\n",
       "\n",
       "    .dataframe tbody tr th {\n",
       "        vertical-align: top;\n",
       "    }\n",
       "\n",
       "    .dataframe thead th {\n",
       "        text-align: right;\n",
       "    }\n",
       "</style>\n",
       "<table border=\"1\" class=\"dataframe\">\n",
       "  <thead>\n",
       "    <tr style=\"text-align: right;\">\n",
       "      <th></th>\n",
       "      <th>age</th>\n",
       "      <th>workclass</th>\n",
       "      <th>fnlwgt</th>\n",
       "      <th>education</th>\n",
       "      <th>education_num</th>\n",
       "      <th>marital_status</th>\n",
       "      <th>occupation</th>\n",
       "      <th>relationship</th>\n",
       "      <th>race</th>\n",
       "      <th>sex</th>\n",
       "      <th>capital_gain</th>\n",
       "      <th>capital_loss</th>\n",
       "      <th>hours_per_week</th>\n",
       "      <th>native_country</th>\n",
       "      <th>income</th>\n",
       "    </tr>\n",
       "  </thead>\n",
       "  <tbody>\n",
       "    <tr>\n",
       "      <th>0</th>\n",
       "      <td>39</td>\n",
       "      <td>State-gov</td>\n",
       "      <td>77516</td>\n",
       "      <td>Bachelors</td>\n",
       "      <td>13</td>\n",
       "      <td>Never-married</td>\n",
       "      <td>Adm-clerical</td>\n",
       "      <td>Not-in-family</td>\n",
       "      <td>White</td>\n",
       "      <td>Male</td>\n",
       "      <td>2174</td>\n",
       "      <td>0</td>\n",
       "      <td>40</td>\n",
       "      <td>United-States</td>\n",
       "      <td>&lt;=50K</td>\n",
       "    </tr>\n",
       "    <tr>\n",
       "      <th>1</th>\n",
       "      <td>50</td>\n",
       "      <td>Self-emp-not-inc</td>\n",
       "      <td>83311</td>\n",
       "      <td>Bachelors</td>\n",
       "      <td>13</td>\n",
       "      <td>Married-civ-spouse</td>\n",
       "      <td>Exec-managerial</td>\n",
       "      <td>Husband</td>\n",
       "      <td>White</td>\n",
       "      <td>Male</td>\n",
       "      <td>0</td>\n",
       "      <td>0</td>\n",
       "      <td>13</td>\n",
       "      <td>United-States</td>\n",
       "      <td>&lt;=50K</td>\n",
       "    </tr>\n",
       "    <tr>\n",
       "      <th>2</th>\n",
       "      <td>38</td>\n",
       "      <td>Private</td>\n",
       "      <td>215646</td>\n",
       "      <td>HS-grad</td>\n",
       "      <td>9</td>\n",
       "      <td>Divorced</td>\n",
       "      <td>Handlers-cleaners</td>\n",
       "      <td>Not-in-family</td>\n",
       "      <td>White</td>\n",
       "      <td>Male</td>\n",
       "      <td>0</td>\n",
       "      <td>0</td>\n",
       "      <td>40</td>\n",
       "      <td>United-States</td>\n",
       "      <td>&lt;=50K</td>\n",
       "    </tr>\n",
       "    <tr>\n",
       "      <th>3</th>\n",
       "      <td>53</td>\n",
       "      <td>Private</td>\n",
       "      <td>234721</td>\n",
       "      <td>11th</td>\n",
       "      <td>7</td>\n",
       "      <td>Married-civ-spouse</td>\n",
       "      <td>Handlers-cleaners</td>\n",
       "      <td>Husband</td>\n",
       "      <td>Black</td>\n",
       "      <td>Male</td>\n",
       "      <td>0</td>\n",
       "      <td>0</td>\n",
       "      <td>40</td>\n",
       "      <td>United-States</td>\n",
       "      <td>&lt;=50K</td>\n",
       "    </tr>\n",
       "    <tr>\n",
       "      <th>4</th>\n",
       "      <td>28</td>\n",
       "      <td>Private</td>\n",
       "      <td>338409</td>\n",
       "      <td>Bachelors</td>\n",
       "      <td>13</td>\n",
       "      <td>Married-civ-spouse</td>\n",
       "      <td>Prof-specialty</td>\n",
       "      <td>Wife</td>\n",
       "      <td>Black</td>\n",
       "      <td>Female</td>\n",
       "      <td>0</td>\n",
       "      <td>0</td>\n",
       "      <td>40</td>\n",
       "      <td>Cuba</td>\n",
       "      <td>&lt;=50K</td>\n",
       "    </tr>\n",
       "    <tr>\n",
       "      <th>...</th>\n",
       "      <td>...</td>\n",
       "      <td>...</td>\n",
       "      <td>...</td>\n",
       "      <td>...</td>\n",
       "      <td>...</td>\n",
       "      <td>...</td>\n",
       "      <td>...</td>\n",
       "      <td>...</td>\n",
       "      <td>...</td>\n",
       "      <td>...</td>\n",
       "      <td>...</td>\n",
       "      <td>...</td>\n",
       "      <td>...</td>\n",
       "      <td>...</td>\n",
       "      <td>...</td>\n",
       "    </tr>\n",
       "    <tr>\n",
       "      <th>32556</th>\n",
       "      <td>27</td>\n",
       "      <td>Private</td>\n",
       "      <td>257302</td>\n",
       "      <td>Assoc-acdm</td>\n",
       "      <td>12</td>\n",
       "      <td>Married-civ-spouse</td>\n",
       "      <td>Tech-support</td>\n",
       "      <td>Wife</td>\n",
       "      <td>White</td>\n",
       "      <td>Female</td>\n",
       "      <td>0</td>\n",
       "      <td>0</td>\n",
       "      <td>38</td>\n",
       "      <td>United-States</td>\n",
       "      <td>&lt;=50K</td>\n",
       "    </tr>\n",
       "    <tr>\n",
       "      <th>32557</th>\n",
       "      <td>40</td>\n",
       "      <td>Private</td>\n",
       "      <td>154374</td>\n",
       "      <td>HS-grad</td>\n",
       "      <td>9</td>\n",
       "      <td>Married-civ-spouse</td>\n",
       "      <td>Machine-op-inspct</td>\n",
       "      <td>Husband</td>\n",
       "      <td>White</td>\n",
       "      <td>Male</td>\n",
       "      <td>0</td>\n",
       "      <td>0</td>\n",
       "      <td>40</td>\n",
       "      <td>United-States</td>\n",
       "      <td>&gt;50K</td>\n",
       "    </tr>\n",
       "    <tr>\n",
       "      <th>32558</th>\n",
       "      <td>58</td>\n",
       "      <td>Private</td>\n",
       "      <td>151910</td>\n",
       "      <td>HS-grad</td>\n",
       "      <td>9</td>\n",
       "      <td>Widowed</td>\n",
       "      <td>Adm-clerical</td>\n",
       "      <td>Unmarried</td>\n",
       "      <td>White</td>\n",
       "      <td>Female</td>\n",
       "      <td>0</td>\n",
       "      <td>0</td>\n",
       "      <td>40</td>\n",
       "      <td>United-States</td>\n",
       "      <td>&lt;=50K</td>\n",
       "    </tr>\n",
       "    <tr>\n",
       "      <th>32559</th>\n",
       "      <td>22</td>\n",
       "      <td>Private</td>\n",
       "      <td>201490</td>\n",
       "      <td>HS-grad</td>\n",
       "      <td>9</td>\n",
       "      <td>Never-married</td>\n",
       "      <td>Adm-clerical</td>\n",
       "      <td>Own-child</td>\n",
       "      <td>White</td>\n",
       "      <td>Male</td>\n",
       "      <td>0</td>\n",
       "      <td>0</td>\n",
       "      <td>20</td>\n",
       "      <td>United-States</td>\n",
       "      <td>&lt;=50K</td>\n",
       "    </tr>\n",
       "    <tr>\n",
       "      <th>32560</th>\n",
       "      <td>52</td>\n",
       "      <td>Self-emp-inc</td>\n",
       "      <td>287927</td>\n",
       "      <td>HS-grad</td>\n",
       "      <td>9</td>\n",
       "      <td>Married-civ-spouse</td>\n",
       "      <td>Exec-managerial</td>\n",
       "      <td>Wife</td>\n",
       "      <td>White</td>\n",
       "      <td>Female</td>\n",
       "      <td>15024</td>\n",
       "      <td>0</td>\n",
       "      <td>40</td>\n",
       "      <td>United-States</td>\n",
       "      <td>&gt;50K</td>\n",
       "    </tr>\n",
       "  </tbody>\n",
       "</table>\n",
       "<p>32561 rows × 15 columns</p>\n",
       "</div>"
      ],
      "text/plain": [
       "       age          workclass  fnlwgt    education  education_num  \\\n",
       "0       39          State-gov   77516    Bachelors             13   \n",
       "1       50   Self-emp-not-inc   83311    Bachelors             13   \n",
       "2       38            Private  215646      HS-grad              9   \n",
       "3       53            Private  234721         11th              7   \n",
       "4       28            Private  338409    Bachelors             13   \n",
       "...    ...                ...     ...          ...            ...   \n",
       "32556   27            Private  257302   Assoc-acdm             12   \n",
       "32557   40            Private  154374      HS-grad              9   \n",
       "32558   58            Private  151910      HS-grad              9   \n",
       "32559   22            Private  201490      HS-grad              9   \n",
       "32560   52       Self-emp-inc  287927      HS-grad              9   \n",
       "\n",
       "            marital_status          occupation    relationship    race  \\\n",
       "0            Never-married        Adm-clerical   Not-in-family   White   \n",
       "1       Married-civ-spouse     Exec-managerial         Husband   White   \n",
       "2                 Divorced   Handlers-cleaners   Not-in-family   White   \n",
       "3       Married-civ-spouse   Handlers-cleaners         Husband   Black   \n",
       "4       Married-civ-spouse      Prof-specialty            Wife   Black   \n",
       "...                    ...                 ...             ...     ...   \n",
       "32556   Married-civ-spouse        Tech-support            Wife   White   \n",
       "32557   Married-civ-spouse   Machine-op-inspct         Husband   White   \n",
       "32558              Widowed        Adm-clerical       Unmarried   White   \n",
       "32559        Never-married        Adm-clerical       Own-child   White   \n",
       "32560   Married-civ-spouse     Exec-managerial            Wife   White   \n",
       "\n",
       "           sex  capital_gain  capital_loss  hours_per_week  native_country  \\\n",
       "0         Male          2174             0              40   United-States   \n",
       "1         Male             0             0              13   United-States   \n",
       "2         Male             0             0              40   United-States   \n",
       "3         Male             0             0              40   United-States   \n",
       "4       Female             0             0              40            Cuba   \n",
       "...        ...           ...           ...             ...             ...   \n",
       "32556   Female             0             0              38   United-States   \n",
       "32557     Male             0             0              40   United-States   \n",
       "32558   Female             0             0              40   United-States   \n",
       "32559     Male             0             0              20   United-States   \n",
       "32560   Female         15024             0              40   United-States   \n",
       "\n",
       "       income  \n",
       "0       <=50K  \n",
       "1       <=50K  \n",
       "2       <=50K  \n",
       "3       <=50K  \n",
       "4       <=50K  \n",
       "...       ...  \n",
       "32556   <=50K  \n",
       "32557    >50K  \n",
       "32558   <=50K  \n",
       "32559   <=50K  \n",
       "32560    >50K  \n",
       "\n",
       "[32561 rows x 15 columns]"
      ]
     },
     "execution_count": 8,
     "metadata": {},
     "output_type": "execute_result"
    }
   ],
   "source": [
    "train_path = \"../../../../datasets/adult/raw/adult.data\"\n",
    "test_path = \"../../../../datasets/adult/raw/adult.test\"\n",
    "\n",
    "train_df = pd.read_csv(train_path, header=None, names=column_names, index_col=False)\n",
    "test_df = pd.read_csv(test_path, header=None, names=column_names, index_col=False, skiprows=1)\n",
    "\n",
    "train_df"
   ]
  },
  {
   "cell_type": "code",
   "execution_count": 9,
   "metadata": {},
   "outputs": [],
   "source": [
    "# Preprocessing\n",
    "\n",
    "train_size = train_df.shape[0]\n",
    "data = pd.concat([train_df, test_df], copy=True)\n",
    "\n",
    "X, Y = data.iloc[:, :-1], data.iloc[:, -1]\n",
    "reals_columns = [col for col in X.columns if X[col].dtype != object]\n",
    "X = pd.get_dummies(X).astype(np.int32)\n",
    "Y = Y.apply(lambda s: int(\">\" in s)).astype(np.int32)\n",
    "Y.name = \"income > 50K\"\n",
    "\n",
    "train_x, train_y = X.iloc[:train_size], Y.iloc[:train_size]\n",
    "test_x, test_y = X.iloc[train_size:], Y.iloc[train_size:]\n",
    "\n",
    "assert train_x.shape[0] == train_y.shape[0] == train_df.shape[0]\n",
    "assert test_x.shape[0] == test_y.shape[0] == test_df.shape[0]\n",
    "assert train_x.shape[0] !=  test_x.shape[0]"
   ]
  },
  {
   "cell_type": "code",
   "execution_count": 10,
   "metadata": {},
   "outputs": [
    {
     "name": "stdout",
     "output_type": "stream",
     "text": [
      "train accuracy: 0.853045053898836\n",
      "test  accuracy: 0.8530188563356059\n"
     ]
    }
   ],
   "source": [
    "# First model is logistic regression\n",
    "\n",
    "scaler = StandardScaler().fit(train_x[reals_columns])\n",
    "\n",
    "def scaled(X):\n",
    "    X = X.copy()\n",
    "    X[reals_columns] = scaler.transform(X[reals_columns], copy=True)\n",
    "    return X\n",
    " \n",
    "lreg = LogisticRegression().fit(scaled(train_x), train_y)\n",
    "\n",
    "print(\"train accuracy:\", accuracy_score(train_y, lreg.predict(scaled(train_x))))\n",
    "print(\"test  accuracy:\", accuracy_score(test_y, lreg.predict(scaled(test_x))))"
   ]
  },
  {
   "cell_type": "code",
   "execution_count": 11,
   "metadata": {},
   "outputs": [
    {
     "name": "stdout",
     "output_type": "stream",
     "text": [
      "train accuracy: 0.8477933724394214\n",
      "test  accuracy: 0.8482279958233524\n"
     ]
    }
   ],
   "source": [
    "# Second model is XGBoost\n",
    "\n",
    "xgb = XGBClassifier(n_estimators=2, max_depth=2, learning_rate=1, objective='binary:logistic')\n",
    "xgb.fit(train_x, train_y)\n",
    "\n",
    "print(\"train accuracy:\", accuracy_score(train_y, xgb.predict(train_x)))\n",
    "print(\"test  accuracy:\", accuracy_score(test_y, xgb.predict(test_x)))"
   ]
  },
  {
   "cell_type": "code",
   "execution_count": 12,
   "metadata": {},
   "outputs": [],
   "source": [
    "# Gender chosen as protected attribute\n",
    "\n",
    "male_mask = test_x[\"sex_ Male\"] == 1\n",
    "\n",
    "lreg_preds = lreg.predict(scaled(test_x))\n",
    "xgb_preds = xgb.predict(test_x)\n",
    "targets = test_y\n",
    "\n",
    "model_preds = [(\"lreg\", lreg_preds), (\"xgb\", xgb_preds)]"
   ]
  },
  {
   "cell_type": "code",
   "execution_count": 13,
   "metadata": {},
   "outputs": [],
   "source": [
    "def confusion_matrix(y_hat, y):\n",
    "    cnt = y_hat.shape[0]\n",
    "    true_positive = sum((y_hat == 1) & (y == 1)) / cnt\n",
    "    true_negative = sum((y_hat == 0) & (y == 0)) / cnt\n",
    "    false_positive = sum((y_hat == 1) & (y == 0)) / cnt\n",
    "    false_negative = sum((y_hat == 0) & (y == 1)) / cnt\n",
    "\n",
    "    assert true_positive + true_negative + false_positive + false_negative == 1\n",
    "\n",
    "    return np.array([\n",
    "        [true_positive, false_positive],\n",
    "        [false_negative, true_negative]\n",
    "    ])\n",
    "\n",
    "def male_confusion(preds, targets):\n",
    "    return confusion_matrix(preds[male_mask], targets[male_mask])\n",
    "\n",
    "def female_confusion(preds, targets):\n",
    "    return confusion_matrix(preds[~male_mask], targets[~male_mask])"
   ]
  },
  {
   "cell_type": "code",
   "execution_count": 14,
   "metadata": {},
   "outputs": [
    {
     "name": "stdout",
     "output_type": "stream",
     "text": [
      "Statistical parity of male vs female\n",
      "for model lreg is 3.3185196856729067\n",
      "Statistical parity of male vs female\n",
      "for model xgb is 3.2533588479695017\n"
     ]
    }
   ],
   "source": [
    "def statistical_parity(model_name, preds):\n",
    "    print(\"Statistical parity of male vs female\")\n",
    "    print(\"for model\", model_name, end=\"\")\n",
    "    statistical_parity = prob_positive(male_confusion(preds, targets)) / prob_positive(female_confusion(preds, targets))\n",
    "    print(\" is\", statistical_parity)\n",
    "\n",
    "for args in model_preds:\n",
    "    statistical_parity(*args)"
   ]
  },
  {
   "cell_type": "code",
   "execution_count": 15,
   "metadata": {},
   "outputs": [
    {
     "name": "stdout",
     "output_type": "stream",
     "text": [
      "Equal opportunity of male vs female\n",
      "for model lreg is 1.164381390187842\n",
      "Equal opportunity of male vs female\n",
      "for model xgb is 1.1471995362840435\n"
     ]
    }
   ],
   "source": [
    "def equal_opportunity(model_name, preds):\n",
    "    print(\"Equal opportunity of male vs female\")\n",
    "    print(\"for model\", model_name, end=\"\")\n",
    "    male_opp = opportunity(male_confusion(preds, targets))\n",
    "    female_opp = opportunity(female_confusion(preds, targets))\n",
    "    print(\" is\", male_opp / female_opp)\n",
    "\n",
    "for args in model_preds:\n",
    "    equal_opportunity(*args)"
   ]
  },
  {
   "cell_type": "code",
   "execution_count": 16,
   "metadata": {},
   "outputs": [
    {
     "name": "stdout",
     "output_type": "stream",
     "text": [
      "Predictive parity of male vs female\n",
      "for model lreg is: positive: 0.9665689149560117 negative: 0.8943476221577693\n",
      "Predictive parity of male vs female\n",
      "for model xgb is: positive: 0.9713795594077285 negative: 0.8806545446700489\n"
     ]
    }
   ],
   "source": [
    "def predictive_parity(model_name, preds):\n",
    "    print(\"Predictive parity of male vs female\")\n",
    "\n",
    "    print(\"for model\", model_name, end=\"\")\n",
    "    male_positive = positive_predictive_value(male_confusion(preds, targets))\n",
    "    male_negative = negative_predictive_value(male_confusion(preds, targets))\n",
    "    female_positive = positive_predictive_value(female_confusion(preds, targets))\n",
    "    female_negative = negative_predictive_value(female_confusion(preds, targets))\n",
    "\n",
    "    positive_parity = male_positive / female_positive\n",
    "    negative_parity = male_negative / female_negative\n",
    "    \n",
    "    print(\" is:\", \"positive:\", positive_parity, \"negative:\", negative_parity)\n",
    "\n",
    "for args in model_preds:\n",
    "    predictive_parity(*args)"
   ]
  }
 ],
 "metadata": {
  "kernelspec": {
   "display_name": "dev",
   "language": "python",
   "name": "python3"
  },
  "language_info": {
   "codemirror_mode": {
    "name": "ipython",
    "version": 3
   },
   "file_extension": ".py",
   "mimetype": "text/x-python",
   "name": "python",
   "nbconvert_exporter": "python",
   "pygments_lexer": "ipython3",
   "version": "3.11.8"
  }
 },
 "nbformat": 4,
 "nbformat_minor": 2
}
