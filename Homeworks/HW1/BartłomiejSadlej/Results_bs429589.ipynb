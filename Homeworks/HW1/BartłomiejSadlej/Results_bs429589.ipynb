{
 "cells": [
  {
   "cell_type": "markdown",
   "metadata": {},
   "source": [
    "# TASK 1\n",
    "\n",
    "## Demographic parity = $0.7692$\n",
    "\n",
    "so the demographic parity is not satisfied and four-fifths rule is not satisfied.\n",
    "\n",
    "## Equal opportunity = $0.625$\n",
    "\n",
    "so the equal opportunity is not satisfied.\n",
    "\n",
    "## Predictive rate parity $0.5714$\n",
    "\n",
    "so True class is not independent from protected attribute given predicted class\n",
    "\n",
    "## Possible improvements\n",
    "\n",
    "Set the enrollement of red to match blue $50%$ so that the demographic parity is satisfied.\n",
    "\n",
    "The Firness tradeoff says that we can only meet one of the fairness criteria at time."
   ]
  },
  {
   "cell_type": "markdown",
   "metadata": {},
   "source": [
    "# TASK 2\n",
    "\n",
    "I used jlh/uci-adult-income dataset\n",
    "\n",
    "First model is LGBoost, the second is CatBoost"
   ]
  },
  {
   "cell_type": "markdown",
   "metadata": {},
   "source": [
    "## 1, 2"
   ]
  },
  {
   "cell_type": "code",
   "execution_count": 1,
   "metadata": {},
   "outputs": [
    {
     "name": "stdout",
     "output_type": "stream",
     "text": [
      "\n",
      "Accuracy: 0.8900\n",
      "Demographic parity:\n",
      "\tP(pred Income > 50K | sex =  Male) = 0.2656\n",
      "\tP(pred Income > 50K | sex =  Female) = 0.0839\n",
      "Equal opportunity:\n",
      "\tP(pred Income > 50K | sex =  Male, Income > 50K) = 0.7085\n",
      "\tP(pred Income > 50K | sex =  Female, Income > 50K) = 0.6404\n",
      "Predictive rate parity:\n",
      "\tP(Income > 50K | sex =  Male, pred Income > 50K) = 0.8155\n",
      "\tP(Income > 50K | sex =  Female, pred Income > 50K) = 0.8352\n",
      "\n"
     ]
    }
   ],
   "source": [
    "print(\n",
    "    \"\"\"\n",
    "Accuracy: 0.8900\n",
    "Demographic parity:\n",
    "\tP(pred Income > 50K | sex =  Male) = 0.2656\n",
    "\tP(pred Income > 50K | sex =  Female) = 0.0839\n",
    "Equal opportunity:\n",
    "\tP(pred Income > 50K | sex =  Male, Income > 50K) = 0.7085\n",
    "\tP(pred Income > 50K | sex =  Female, Income > 50K) = 0.6404\n",
    "Predictive rate parity:\n",
    "\tP(Income > 50K | sex =  Male, pred Income > 50K) = 0.8155\n",
    "\tP(Income > 50K | sex =  Female, pred Income > 50K) = 0.8352\n",
    "\"\"\"\n",
    ")"
   ]
  },
  {
   "cell_type": "markdown",
   "metadata": {},
   "source": [
    "## 3"
   ]
  },
  {
   "cell_type": "code",
   "execution_count": 2,
   "metadata": {},
   "outputs": [
    {
     "name": "stdout",
     "output_type": "stream",
     "text": [
      "\n",
      "Accuracy: 0.8890\n",
      "Demographic parity:\n",
      "\tP(pred Income > 50K | sex =  Male) = 0.2642\n",
      "\tP(pred Income > 50K | sex =  Female) = 0.0839\n",
      "Equal opportunity:\n",
      "\tP(pred Income > 50K | sex =  Male, Income > 50K) = 0.7037\n",
      "\tP(pred Income > 50K | sex =  Female, Income > 50K) = 0.6412\n",
      "Predictive rate parity:\n",
      "\tP(Income > 50K | sex =  Male, pred Income > 50K) = 0.8145\n",
      "\tP(Income > 50K | sex =  Female, pred Income > 50K) = 0.8363\n",
      "\n"
     ]
    }
   ],
   "source": [
    "print(\n",
    "    \"\"\"\n",
    "Accuracy: 0.8890\n",
    "Demographic parity:\n",
    "\tP(pred Income > 50K | sex =  Male) = 0.2642\n",
    "\tP(pred Income > 50K | sex =  Female) = 0.0839\n",
    "Equal opportunity:\n",
    "\tP(pred Income > 50K | sex =  Male, Income > 50K) = 0.7037\n",
    "\tP(pred Income > 50K | sex =  Female, Income > 50K) = 0.6412\n",
    "Predictive rate parity:\n",
    "\tP(Income > 50K | sex =  Male, pred Income > 50K) = 0.8145\n",
    "\tP(Income > 50K | sex =  Female, pred Income > 50K) = 0.8363\n",
    "\"\"\"\n",
    ")"
   ]
  },
  {
   "cell_type": "markdown",
   "metadata": {},
   "source": [
    "## 4\n",
    "\n",
    "I choosed to rebalance sex and income columns for model training and then evaluate the model on the full dataset.\n",
    "I have simply underpopulated the more frequent class in the training set."
   ]
  },
  {
   "cell_type": "markdown",
   "metadata": {},
   "source": [
    "### Sex rebalance"
   ]
  },
  {
   "cell_type": "code",
   "execution_count": 3,
   "metadata": {},
   "outputs": [
    {
     "name": "stdout",
     "output_type": "stream",
     "text": [
      "\n",
      "Accuracy: 0.8870\n",
      "Demographic parity:\n",
      "\tP(pred Income > 50K | sex =  Male) = 0.2759\n",
      "\tP(pred Income > 50K | sex =  Female) = 0.0866\n",
      "Equal opportunity:\n",
      "\tP(pred Income > 50K | sex =  Male, Income > 50K) = 0.7147\n",
      "\tP(pred Income > 50K | sex =  Female, Income > 50K) = 0.6718\n",
      "Predictive rate parity:\n",
      "\tP(Income > 50K | sex =  Male, pred Income > 50K) = 0.7919\n",
      "\tP(Income > 50K | sex =  Female, pred Income > 50K) = 0.8489\n",
      "\n"
     ]
    }
   ],
   "source": [
    "print(\n",
    "    \"\"\"\n",
    "Accuracy: 0.8870\n",
    "Demographic parity:\n",
    "\tP(pred Income > 50K | sex =  Male) = 0.2759\n",
    "\tP(pred Income > 50K | sex =  Female) = 0.0866\n",
    "Equal opportunity:\n",
    "\tP(pred Income > 50K | sex =  Male, Income > 50K) = 0.7147\n",
    "\tP(pred Income > 50K | sex =  Female, Income > 50K) = 0.6718\n",
    "Predictive rate parity:\n",
    "\tP(Income > 50K | sex =  Male, pred Income > 50K) = 0.7919\n",
    "\tP(Income > 50K | sex =  Female, pred Income > 50K) = 0.8489\n",
    "\"\"\"\n",
    ")"
   ]
  },
  {
   "cell_type": "markdown",
   "metadata": {},
   "source": [
    "### Income rebalance"
   ]
  },
  {
   "cell_type": "code",
   "execution_count": 4,
   "metadata": {},
   "outputs": [
    {
     "name": "stdout",
     "output_type": "stream",
     "text": [
      "\n",
      "Accuracy: 0.8870\n",
      "Demographic parity:\n",
      "\tP(pred Income > 50K | sex =  Male) = 0.2759\n",
      "\tP(pred Income > 50K | sex =  Female) = 0.0866\n",
      "Equal opportunity:\n",
      "\tP(pred Income > 50K | sex =  Male, Income > 50K) = 0.7147\n",
      "\tP(pred Income > 50K | sex =  Female, Income > 50K) = 0.6718\n",
      "Predictive rate parity:\n",
      "\tP(Income > 50K | sex =  Male, pred Income > 50K) = 0.7919\n",
      "\tP(Income > 50K | sex =  Female, pred Income > 50K) = 0.8489\n",
      "\n"
     ]
    }
   ],
   "source": [
    "print(\n",
    "    \"\"\"\n",
    "Accuracy: 0.8870\n",
    "Demographic parity:\n",
    "\tP(pred Income > 50K | sex =  Male) = 0.2759\n",
    "\tP(pred Income > 50K | sex =  Female) = 0.0866\n",
    "Equal opportunity:\n",
    "\tP(pred Income > 50K | sex =  Male, Income > 50K) = 0.7147\n",
    "\tP(pred Income > 50K | sex =  Female, Income > 50K) = 0.6718\n",
    "Predictive rate parity:\n",
    "\tP(Income > 50K | sex =  Male, pred Income > 50K) = 0.7919\n",
    "\tP(Income > 50K | sex =  Female, pred Income > 50K) = 0.8489\n",
    "\"\"\"\n",
    ")"
   ]
  }
 ],
 "metadata": {
  "kernelspec": {
   "display_name": "Python 3",
   "language": "python",
   "name": "python3"
  },
  "language_info": {
   "codemirror_mode": {
    "name": "ipython",
    "version": 3
   },
   "file_extension": ".py",
   "mimetype": "text/x-python",
   "name": "python",
   "nbconvert_exporter": "python",
   "pygments_lexer": "ipython3",
   "version": "3.10.11"
  }
 },
 "nbformat": 4,
 "nbformat_minor": 2
}
